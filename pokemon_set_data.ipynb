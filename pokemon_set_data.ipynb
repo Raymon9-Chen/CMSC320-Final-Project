{
 "cells": [
  {
   "cell_type": "markdown",
   "metadata": {},
   "source": [
    "# Using Machine Learning to Analyze Pokemon Card Price\n",
    "## Spring 2025 Data Science Project\n",
    "### Contributors: Annie Zhou, Evan Zhang, Hao Jiang, Ivy Lu, Jessie Gu, Raymond Chen"
   ]
  },
  {
   "cell_type": "markdown",
   "metadata": {},
   "source": [
    "## Members Contribution Details\n",
    "Contribution Details: \n",
    "* Project Idea - 5%\n",
    "* Dataset Curation and Preprocessing  - 10%\n",
    "* Data Exploration and Summary Statistic  - 10%\n",
    "* ML Algorithm Design/Development - 25%\n",
    "* ML Algorithm Training and Test Data Analysis - 20%\n",
    "* Visualization, Result Analysis, Conclusion - 15%\n",
    "* Final Tutorial Report Creation - 10%\n",
    "* Additional - 5%"
   ]
  },
  {
   "cell_type": "markdown",
   "metadata": {},
   "source": [
    "## Introduction"
   ]
  },
  {
   "cell_type": "markdown",
   "metadata": {},
   "source": [
    "## Data Collection"
   ]
  },
  {
   "cell_type": "markdown",
   "metadata": {},
   "source": [
    "We are uploading all csv files of the Scarlet & Violet main and special sets.\n",
    "\n",
    "Sets: SV01, SV02, SV03, SV: Scarlet & Violet 151, SV04, SV: Paldean Fates, SV05, SV06, SV: Shrouded Fable, SV07, SV08, SV: Prismatic Evolutions, SV09"
   ]
  },
  {
   "cell_type": "code",
   "execution_count": 2,
   "metadata": {},
   "outputs": [],
   "source": [
    "import pandas as pd\n",
    "import scipy as sp\n",
    "import numpy as np\n",
    "import matplotlib.pyplot as plt\n",
    "import scipy\n",
    "\n",
    "sv01_df = pd.read_csv('SV01ScarletAndVioletBaseSetProductsAndPrices.csv')\n",
    "sv02_df = pd.read_csv('SV02PaldeaEvolvedProductsAndPrices.csv')\n",
    "sv03_df = pd.read_csv('SV03ObsidianFlamesProductsAndPrices.csv')\n",
    "sv04_df = pd.read_csv('SV04ParadoxRiftProductsAndPrices.csv')\n",
    "sv05_df = pd.read_csv('SV05TemporalForcesProductsAndPrices.csv')\n",
    "sv06_df = pd.read_csv('SV06TwilightMasqueradeProductsAndPrices.csv')\n",
    "sv07_df = pd.read_csv('SV07StellarCrownProductsAndPrices.csv')\n",
    "sv08_df = pd.read_csv('SV08SurgingSparksProductsAndPrices.csv')\n",
    "sv09_df = pd.read_csv('SV09JourneyTogetherProductsAndPrices.csv')\n",
    "sv_151_df = pd.read_csv('SVScarletAndViolet151ProductsAndPrices.csv')\n",
    "sv_pf_df = pd.read_csv('SVPaldeanFatesProductsAndPrices.csv')\n",
    "sv_sf_df = pd.read_csv('SVShroudedFableProductsAndPrices.csv')\n",
    "sv_pe_df = pd.read_csv('SVPrismaticEvolutionsProductsAndPrices.csv')"
   ]
  },
  {
   "cell_type": "markdown",
   "metadata": {},
   "source": [
    "We then merge all of these sets into a master set, filter out unnecessary columns, and add a column for the textual set name based on groupId variable."
   ]
  },
  {
   "cell_type": "code",
   "execution_count": 3,
   "metadata": {},
   "outputs": [
    {
     "data": {
      "text/html": [
       "<div>\n",
       "<style scoped>\n",
       "    .dataframe tbody tr th:only-of-type {\n",
       "        vertical-align: middle;\n",
       "    }\n",
       "\n",
       "    .dataframe tbody tr th {\n",
       "        vertical-align: top;\n",
       "    }\n",
       "\n",
       "    .dataframe thead th {\n",
       "        text-align: right;\n",
       "    }\n",
       "</style>\n",
       "<table border=\"1\" class=\"dataframe\">\n",
       "  <thead>\n",
       "    <tr style=\"text-align: right;\">\n",
       "      <th></th>\n",
       "      <th>index</th>\n",
       "      <th>productId</th>\n",
       "      <th>name</th>\n",
       "      <th>groupId</th>\n",
       "      <th>lowPrice</th>\n",
       "      <th>highPrice</th>\n",
       "      <th>marketPrice</th>\n",
       "      <th>extRarity</th>\n",
       "      <th>set</th>\n",
       "      <th>release date</th>\n",
       "    </tr>\n",
       "  </thead>\n",
       "  <tbody>\n",
       "    <tr>\n",
       "      <th>1</th>\n",
       "      <td>437</td>\n",
       "      <td>490043</td>\n",
       "      <td>Miraidon ex - 253/198</td>\n",
       "      <td>22873</td>\n",
       "      <td>4.99</td>\n",
       "      <td>60.00</td>\n",
       "      <td>5.76</td>\n",
       "      <td>Hyper Rare</td>\n",
       "      <td>Scarlet And Violet Base</td>\n",
       "      <td>2023-05-31</td>\n",
       "    </tr>\n",
       "    <tr>\n",
       "      <th>2</th>\n",
       "      <td>439</td>\n",
       "      <td>490045</td>\n",
       "      <td>Koraidon ex - 254/198</td>\n",
       "      <td>22873</td>\n",
       "      <td>3.00</td>\n",
       "      <td>28.20</td>\n",
       "      <td>5.50</td>\n",
       "      <td>Hyper Rare</td>\n",
       "      <td>Scarlet And Violet Base</td>\n",
       "      <td>2023-05-31</td>\n",
       "    </tr>\n",
       "    <tr>\n",
       "      <th>3</th>\n",
       "      <td>483</td>\n",
       "      <td>490294</td>\n",
       "      <td>Basic Fighting Energy - 258/198</td>\n",
       "      <td>22873</td>\n",
       "      <td>2.39</td>\n",
       "      <td>25.00</td>\n",
       "      <td>3.14</td>\n",
       "      <td>Hyper Rare</td>\n",
       "      <td>Scarlet And Violet Base</td>\n",
       "      <td>2023-05-31</td>\n",
       "    </tr>\n",
       "    <tr>\n",
       "      <th>4</th>\n",
       "      <td>484</td>\n",
       "      <td>490295</td>\n",
       "      <td>Basic Lightning Energy - 257/198</td>\n",
       "      <td>22873</td>\n",
       "      <td>3.00</td>\n",
       "      <td>50.00</td>\n",
       "      <td>5.01</td>\n",
       "      <td>Hyper Rare</td>\n",
       "      <td>Scarlet And Violet Base</td>\n",
       "      <td>2023-05-31</td>\n",
       "    </tr>\n",
       "    <tr>\n",
       "      <th>5</th>\n",
       "      <td>485</td>\n",
       "      <td>490296</td>\n",
       "      <td>Rare Candy - 256/198</td>\n",
       "      <td>22873</td>\n",
       "      <td>5.80</td>\n",
       "      <td>30.02</td>\n",
       "      <td>7.83</td>\n",
       "      <td>Hyper Rare</td>\n",
       "      <td>Scarlet And Violet Base</td>\n",
       "      <td>2023-05-31</td>\n",
       "    </tr>\n",
       "    <tr>\n",
       "      <th>...</th>\n",
       "      <td>...</td>\n",
       "      <td>...</td>\n",
       "      <td>...</td>\n",
       "      <td>...</td>\n",
       "      <td>...</td>\n",
       "      <td>...</td>\n",
       "      <td>...</td>\n",
       "      <td>...</td>\n",
       "      <td>...</td>\n",
       "      <td>...</td>\n",
       "    </tr>\n",
       "    <tr>\n",
       "      <th>437</th>\n",
       "      <td>338</td>\n",
       "      <td>623610</td>\n",
       "      <td>Iono's Bellibolt ex - 183/159</td>\n",
       "      <td>24073</td>\n",
       "      <td>135.00</td>\n",
       "      <td>180.00</td>\n",
       "      <td>136.62</td>\n",
       "      <td>Special Illustration Rare</td>\n",
       "      <td>Journey Together</td>\n",
       "      <td>2025-03-28</td>\n",
       "    </tr>\n",
       "    <tr>\n",
       "      <th>438</th>\n",
       "      <td>339</td>\n",
       "      <td>623611</td>\n",
       "      <td>Lillie's Clefairy ex - 184/159</td>\n",
       "      <td>24073</td>\n",
       "      <td>300.00</td>\n",
       "      <td>329.36</td>\n",
       "      <td>328.63</td>\n",
       "      <td>Special Illustration Rare</td>\n",
       "      <td>Journey Together</td>\n",
       "      <td>2025-03-28</td>\n",
       "    </tr>\n",
       "    <tr>\n",
       "      <th>439</th>\n",
       "      <td>340</td>\n",
       "      <td>623612</td>\n",
       "      <td>N's Zoroark ex - 185/159</td>\n",
       "      <td>24073</td>\n",
       "      <td>214.10</td>\n",
       "      <td>219.99</td>\n",
       "      <td>219.62</td>\n",
       "      <td>Special Illustration Rare</td>\n",
       "      <td>Journey Together</td>\n",
       "      <td>2025-03-28</td>\n",
       "    </tr>\n",
       "    <tr>\n",
       "      <th>440</th>\n",
       "      <td>341</td>\n",
       "      <td>623613</td>\n",
       "      <td>Hop's Zacian ex - 186/159</td>\n",
       "      <td>24073</td>\n",
       "      <td>175.00</td>\n",
       "      <td>179.99</td>\n",
       "      <td>178.79</td>\n",
       "      <td>Special Illustration Rare</td>\n",
       "      <td>Journey Together</td>\n",
       "      <td>2025-03-28</td>\n",
       "    </tr>\n",
       "    <tr>\n",
       "      <th>441</th>\n",
       "      <td>342</td>\n",
       "      <td>623614</td>\n",
       "      <td>Salamence ex - 187/159</td>\n",
       "      <td>24073</td>\n",
       "      <td>200.00</td>\n",
       "      <td>240.00</td>\n",
       "      <td>238.03</td>\n",
       "      <td>Special Illustration Rare</td>\n",
       "      <td>Journey Together</td>\n",
       "      <td>2025-03-28</td>\n",
       "    </tr>\n",
       "  </tbody>\n",
       "</table>\n",
       "<p>441 rows × 10 columns</p>\n",
       "</div>"
      ],
      "text/plain": [
       "     index  productId                              name  groupId  lowPrice  \\\n",
       "1      437     490043             Miraidon ex - 253/198    22873      4.99   \n",
       "2      439     490045             Koraidon ex - 254/198    22873      3.00   \n",
       "3      483     490294   Basic Fighting Energy - 258/198    22873      2.39   \n",
       "4      484     490295  Basic Lightning Energy - 257/198    22873      3.00   \n",
       "5      485     490296              Rare Candy - 256/198    22873      5.80   \n",
       "..     ...        ...                               ...      ...       ...   \n",
       "437    338     623610     Iono's Bellibolt ex - 183/159    24073    135.00   \n",
       "438    339     623611    Lillie's Clefairy ex - 184/159    24073    300.00   \n",
       "439    340     623612          N's Zoroark ex - 185/159    24073    214.10   \n",
       "440    341     623613         Hop's Zacian ex - 186/159    24073    175.00   \n",
       "441    342     623614            Salamence ex - 187/159    24073    200.00   \n",
       "\n",
       "     highPrice  marketPrice                  extRarity  \\\n",
       "1        60.00         5.76                 Hyper Rare   \n",
       "2        28.20         5.50                 Hyper Rare   \n",
       "3        25.00         3.14                 Hyper Rare   \n",
       "4        50.00         5.01                 Hyper Rare   \n",
       "5        30.02         7.83                 Hyper Rare   \n",
       "..         ...          ...                        ...   \n",
       "437     180.00       136.62  Special Illustration Rare   \n",
       "438     329.36       328.63  Special Illustration Rare   \n",
       "439     219.99       219.62  Special Illustration Rare   \n",
       "440     179.99       178.79  Special Illustration Rare   \n",
       "441     240.00       238.03  Special Illustration Rare   \n",
       "\n",
       "                         set release date  \n",
       "1    Scarlet And Violet Base   2023-05-31  \n",
       "2    Scarlet And Violet Base   2023-05-31  \n",
       "3    Scarlet And Violet Base   2023-05-31  \n",
       "4    Scarlet And Violet Base   2023-05-31  \n",
       "5    Scarlet And Violet Base   2023-05-31  \n",
       "..                       ...          ...  \n",
       "437         Journey Together   2025-03-28  \n",
       "438         Journey Together   2025-03-28  \n",
       "439         Journey Together   2025-03-28  \n",
       "440         Journey Together   2025-03-28  \n",
       "441         Journey Together   2025-03-28  \n",
       "\n",
       "[441 rows x 10 columns]"
      ]
     },
     "metadata": {},
     "output_type": "display_data"
    }
   ],
   "source": [
    "master_df = pd.concat([sv01_df, sv02_df, sv03_df, sv04_df, sv05_df, sv06_df, sv07_df, sv08_df, sv09_df, sv_151_df, sv_pf_df, sv_sf_df, sv_pe_df])\n",
    "master_df = master_df[['productId', 'name', 'groupId', 'lowPrice', 'highPrice', 'marketPrice', 'extRarity']]\n",
    "\n",
    "# filter for cards of specific rarity\n",
    "master_df = master_df[(master_df['extRarity'] == 'Special Illustration Rare') | (master_df['extRarity'] == 'Illustration Rare') | (master_df['extRarity'] == 'Hyper Rare')]\n",
    "\n",
    "# add textual set name column\n",
    "def get_textset(setId):\n",
    "    setId_list = [22873, 23120, 23228, 23286, 23381, 23473, 23537, 23651, 24073, 23237, 23353, 23529, 23821]\n",
    "    textId_list = [\n",
    "        'Scarlet And Violet Base',\n",
    "        'Paldea Evolved',\n",
    "        'Obsidian Flames',\n",
    "        'Paradox Rift',\n",
    "        'Temporal Forces',\n",
    "        'Twilight Masquerade',\n",
    "        'Stellar Crown',\n",
    "        'Surging Sparks',\n",
    "        'Journey Together',\n",
    "        'Scarlet And Violet 151',\n",
    "        'Paldean Fates',\n",
    "        'Shrouded Fable',\n",
    "        'Prismatic Evolutions'\n",
    "    ]\n",
    "    index = setId_list.index(setId)\n",
    "    return textId_list[index]\n",
    "\n",
    "master_df['set'] = master_df['groupId'].apply(get_textset)\n",
    "\n",
    "# add release date\n",
    "def get_dateset(setId):\n",
    "    name_list = ['Scarlet And Violet Base',\n",
    "        'Paldea Evolved',\n",
    "        'Obsidian Flames',\n",
    "        'Paradox Rift',\n",
    "        'Temporal Forces',\n",
    "        'Twilight Masquerade',\n",
    "        'Stellar Crown',\n",
    "        'Surging Sparks',\n",
    "        'Journey Together',\n",
    "        'Scarlet And Violet 151',\n",
    "        'Paldean Fates',\n",
    "        'Shrouded Fable',\n",
    "        'Prismatic Evolutions']\n",
    "    date_list = [\n",
    "        '05-31-2023',\n",
    "        '06-09-2023',\n",
    "        '08-11-2023',\n",
    "        '10-03-2023',\n",
    "        '03-22-2024',\n",
    "        '05-24-2024',\n",
    "        '09-13-2024',\n",
    "        '11-08-2024',\n",
    "        '03-28-2025',\n",
    "        '09-22-2023',\n",
    "        '01-26-2024',\n",
    "        '09-02-2024',\n",
    "        '01-17-2025'\n",
    "    ]\n",
    "    index = name_list.index(setId)\n",
    "    return date_list[index]\n",
    "\n",
    "master_df['set'] = master_df['groupId'].apply(get_textset)\n",
    "master_df['release date'] = master_df['set'].apply(get_dateset)\n",
    "\n",
    "# sort dataframe by card rarity\n",
    "master_df = master_df.sort_values(by=['groupId', 'extRarity'])\n",
    "\n",
    "# reset index\n",
    "master_df = master_df.reset_index()\n",
    "master_df.index +=1\n",
    "\n",
    "master_df['release date'] = pd.to_datetime(master_df['release date'], format='%m-%d-%Y')\n",
    "\n",
    "display(master_df)"
   ]
  },
  {
   "cell_type": "markdown",
   "metadata": {},
   "source": [
    "We will also have to fill in all NaN values, especially for the market prices of recent sets (ie. SV09 Journey Together).\n",
    "\n",
    "In order to fill in the NaN values, we will take the average of the lowPrice and highPrice values and input the average into marketPrice."
   ]
  },
  {
   "cell_type": "code",
   "execution_count": 4,
   "metadata": {},
   "outputs": [],
   "source": [
    "def fill_market_price(row):\n",
    "    if pd.isna(row['marketPrice']):\n",
    "        low_high_average = (row['lowPrice'] + row['highPrice'])/2\n",
    "        row['marketPrice'] = round(low_high_average, 2)\n",
    "    return row['marketPrice']\n",
    "\n",
    "master_df['marketPrice'] = master_df.apply(fill_market_price, axis=1)"
   ]
  },
  {
   "cell_type": "markdown",
   "metadata": {},
   "source": [
    "## Exploratory Data Analysis\n",
    "\n",
    "We will now conduct three hypothesis tests to observe trends and patterns in data. We used scipy for statistical tests and matplotlib and plotly for data visualization."
   ]
  },
  {
   "cell_type": "markdown",
   "metadata": {},
   "source": [
    "### TEST I: Test for mean card price per rarity across sets\n",
    "\n",
    "Our first test determines if the mean price of cards across the same rarity vary significantly across all relevant sets (scarlet and violet main and special sets). Since we testing multiple categories and observing if they exist within the same distribution, an ANOVA test would be appropriate.\n",
    "\n",
    "Significance level: $\\alpha = 0.5$ (Level of confidence = 95%)\n",
    "\n",
    "> $H_0$: There is no significant difference in the prices of the same card rarity across the relevant sets.\n",
    ">\n",
    "> $H_a$: There exists significant differences in the prices of the same card rarity across the relevant sets.\n",
    "\n",
    "We first split up our master_df based on card rarity."
   ]
  },
  {
   "cell_type": "code",
   "execution_count": 5,
   "metadata": {},
   "outputs": [],
   "source": [
    "hr_df = master_df[master_df['extRarity'] == 'Hyper Rare']\n",
    "ir_df = master_df[master_df['extRarity'] == 'Illustration Rare']\n",
    "sir_df = master_df[master_df['extRarity'] == 'Special Illustration Rare']"
   ]
  },
  {
   "cell_type": "markdown",
   "metadata": {},
   "source": [
    "#### Hyper Rare Cards:"
   ]
  },
  {
   "cell_type": "code",
   "execution_count": 6,
   "metadata": {},
   "outputs": [
    {
     "name": "stderr",
     "output_type": "stream",
     "text": [
      "C:\\Users\\leaks\\AppData\\Local\\Temp\\ipykernel_18876\\553501463.py:9: FutureWarning: The behavior of DataFrame concatenation with empty or all-NA entries is deprecated. In a future version, this will no longer exclude empty or all-NA columns when determining the result dtypes. To retain the old behavior, exclude the relevant entries before the concat operation.\n",
      "  hr_average_prices = pd.concat([hr_average_prices, pd.DataFrame([row])], ignore_index=True)\n"
     ]
    },
    {
     "name": "stdout",
     "output_type": "stream",
     "text": [
      "1.2307944715509453e-06\n",
      "Tukey's HSD Pairwise Group Comparisons (95.0% Confidence Interval)\n",
      "Comparison  Statistic  p-value  Lower CI  Upper CI\n",
      " (0 - 1)      0.690     1.000   -31.715    33.095\n",
      " (0 - 2)     -3.223     1.000   -46.699    40.252\n",
      " (0 - 3)     -0.230     1.000   -43.705    43.245\n",
      " (0 - 4)     -0.245     1.000   -34.451    33.962\n",
      " (0 - 5)     -2.320     1.000   -37.818    33.178\n",
      " (0 - 6)     -6.393     1.000   -41.891    29.104\n",
      " (0 - 7)     -5.483     1.000   -40.981    30.014\n",
      " (0 - 8)    -25.485     0.479   -62.715    11.745\n",
      " (0 - 9)     -7.690     1.000   -51.165    35.785\n",
      " (0 - 10)    -20.675     0.718   -56.173    14.823\n",
      " (0 - 11)    -21.691     0.717   -58.921    15.539\n",
      " (0 - 12)    -85.747     0.000  -129.222   -42.271\n",
      " (1 - 0)     -0.690     1.000   -33.095    31.715\n",
      " (1 - 2)     -3.913     1.000   -44.902    37.076\n",
      " (1 - 3)     -0.920     1.000   -41.909    40.069\n",
      " (1 - 4)     -0.935     1.000   -31.920    30.050\n",
      " (1 - 5)     -3.010     1.000   -35.415    29.395\n",
      " (1 - 6)     -7.083     1.000   -39.488    25.321\n",
      " (1 - 7)     -6.173     1.000   -38.578    26.231\n",
      " (1 - 8)    -26.175     0.311   -60.469     8.119\n",
      " (1 - 9)     -8.380     1.000   -49.369    32.609\n",
      " (1 - 10)    -21.365     0.539   -53.770    11.040\n",
      " (1 - 11)    -22.381     0.554   -56.675    11.913\n",
      " (1 - 12)    -86.437     0.000  -127.426   -45.448\n",
      " (2 - 0)      3.223     1.000   -40.252    46.699\n",
      " (2 - 1)      3.913     1.000   -37.076    44.902\n",
      " (2 - 3)      2.993     1.000   -47.208    53.194\n",
      " (2 - 4)      2.979     1.000   -39.449    45.406\n",
      " (2 - 5)      0.903     1.000   -42.572    44.379\n",
      " (2 - 6)     -3.170     1.000   -46.645    40.305\n",
      " (2 - 7)     -2.260     1.000   -45.735    41.215\n",
      " (2 - 8)    -22.262     0.879   -67.163    22.639\n",
      " (2 - 9)     -4.467     1.000   -54.668    45.734\n",
      " (2 - 10)    -17.452     0.971   -60.927    26.024\n",
      " (2 - 11)    -18.468     0.966   -63.369    26.433\n",
      " (2 - 12)    -82.523     0.000  -132.724   -32.322\n",
      " (3 - 0)      0.230     1.000   -43.245    43.705\n",
      " (3 - 1)      0.920     1.000   -40.069    41.909\n",
      " (3 - 2)     -2.993     1.000   -53.194    47.208\n",
      " (3 - 4)     -0.015     1.000   -42.442    42.413\n",
      " (3 - 5)     -2.090     1.000   -45.565    41.385\n",
      " (3 - 6)     -6.163     1.000   -49.639    37.312\n",
      " (3 - 7)     -5.253     1.000   -48.729    38.222\n",
      " (3 - 8)    -25.255     0.761   -70.157    19.646\n",
      " (3 - 9)     -7.460     1.000   -57.661    42.741\n",
      " (3 - 10)    -20.445     0.913   -63.920    23.030\n",
      " (3 - 11)    -21.461     0.904   -66.363    23.440\n",
      " (3 - 12)    -85.517     0.000  -135.718   -35.316\n",
      " (4 - 0)      0.245     1.000   -33.962    34.451\n",
      " (4 - 1)      0.935     1.000   -30.050    31.920\n",
      " (4 - 2)     -2.979     1.000   -45.406    39.449\n",
      " (4 - 3)      0.015     1.000   -42.413    42.442\n",
      " (4 - 5)     -2.075     1.000   -36.282    32.131\n",
      " (4 - 6)     -6.149     1.000   -40.355    28.058\n",
      " (4 - 7)     -5.239     1.000   -39.445    28.968\n",
      " (4 - 8)    -25.241     0.441   -61.242    10.760\n",
      " (4 - 9)     -7.445     1.000   -49.873    34.982\n",
      " (4 - 10)    -20.430     0.685   -54.637    13.776\n",
      " (4 - 11)    -21.447     0.688   -57.448    14.554\n",
      " (4 - 12)    -85.502     0.000  -127.930   -43.074\n",
      " (5 - 0)      2.320     1.000   -33.178    37.818\n",
      " (5 - 1)      3.010     1.000   -29.395    35.415\n",
      " (5 - 2)     -0.903     1.000   -44.379    42.572\n",
      " (5 - 3)      2.090     1.000   -41.385    45.565\n",
      " (5 - 4)      2.075     1.000   -32.131    36.282\n",
      " (5 - 6)     -4.073     1.000   -39.571    31.424\n",
      " (5 - 7)     -3.163     1.000   -38.661    32.334\n",
      " (5 - 8)    -23.165     0.627   -60.395    14.065\n",
      " (5 - 9)     -5.370     1.000   -48.845    38.105\n",
      " (5 - 10)    -18.355     0.846   -53.853    17.143\n",
      " (5 - 11)    -19.371     0.841   -56.601    17.859\n",
      " (5 - 12)    -83.427     0.000  -126.902   -39.951\n",
      " (6 - 0)      6.393     1.000   -29.104    41.891\n",
      " (6 - 1)      7.083     1.000   -25.321    39.488\n",
      " (6 - 2)      3.170     1.000   -40.305    46.645\n",
      " (6 - 3)      6.163     1.000   -37.312    49.639\n",
      " (6 - 4)      6.149     1.000   -28.058    40.355\n",
      " (6 - 5)      4.073     1.000   -31.424    39.571\n",
      " (6 - 7)      0.910     1.000   -34.588    36.408\n",
      " (6 - 8)    -19.092     0.853   -56.322    18.138\n",
      " (6 - 9)     -1.297     1.000   -44.772    42.179\n",
      " (6 - 10)    -14.282     0.971   -49.779    21.216\n",
      " (6 - 11)    -15.298     0.966   -52.528    21.932\n",
      " (6 - 12)    -79.353     0.000  -122.829   -35.878\n",
      " (7 - 0)      5.483     1.000   -30.014    40.981\n",
      " (7 - 1)      6.173     1.000   -26.231    38.578\n",
      " (7 - 2)      2.260     1.000   -41.215    45.735\n",
      " (7 - 3)      5.253     1.000   -38.222    48.729\n",
      " (7 - 4)      5.239     1.000   -28.968    39.445\n",
      " (7 - 5)      3.163     1.000   -32.334    38.661\n",
      " (7 - 6)     -0.910     1.000   -36.408    34.588\n",
      " (7 - 8)    -20.002     0.810   -57.232    17.228\n",
      " (7 - 9)     -2.207     1.000   -45.682    41.269\n",
      " (7 - 10)    -15.192     0.954   -50.689    20.306\n",
      " (7 - 11)    -16.208     0.948   -53.438    21.022\n",
      " (7 - 12)    -80.263     0.000  -123.739   -36.788\n",
      " (8 - 0)     25.485     0.479   -11.745    62.715\n",
      " (8 - 1)     26.175     0.311    -8.119    60.469\n",
      " (8 - 2)     22.262     0.879   -22.639    67.163\n",
      " (8 - 3)     25.255     0.761   -19.646    70.157\n",
      " (8 - 4)     25.241     0.441   -10.760    61.242\n",
      " (8 - 5)     23.165     0.627   -14.065    60.395\n",
      " (8 - 6)     19.092     0.853   -18.138    56.322\n",
      " (8 - 7)     20.002     0.810   -17.228    57.232\n",
      " (8 - 9)     17.795     0.974   -27.106    62.697\n",
      " (8 - 10)      4.810     1.000   -32.420    42.040\n",
      " (8 - 11)      3.794     1.000   -35.092    42.680\n",
      " (8 - 12)    -60.261     0.001  -105.163   -15.360\n",
      " (9 - 0)      7.690     1.000   -35.785    51.165\n",
      " (9 - 1)      8.380     1.000   -32.609    49.369\n",
      " (9 - 2)      4.467     1.000   -45.734    54.668\n",
      " (9 - 3)      7.460     1.000   -42.741    57.661\n",
      " (9 - 4)      7.445     1.000   -34.982    49.873\n",
      " (9 - 5)      5.370     1.000   -38.105    48.845\n",
      " (9 - 6)      1.297     1.000   -42.179    44.772\n",
      " (9 - 7)      2.207     1.000   -41.269    45.682\n",
      " (9 - 8)    -17.795     0.974   -62.697    27.106\n",
      " (9 - 10)    -12.985     0.998   -56.460    30.490\n",
      " (9 - 11)    -14.001     0.997   -58.903    30.900\n",
      " (9 - 12)    -78.057     0.000  -128.258   -27.856\n",
      " (10 - 0)     20.675     0.718   -14.823    56.173\n",
      " (10 - 1)     21.365     0.539   -11.040    53.770\n",
      " (10 - 2)     17.452     0.971   -26.024    60.927\n",
      " (10 - 3)     20.445     0.913   -23.030    63.920\n",
      " (10 - 4)     20.430     0.685   -13.776    54.637\n",
      " (10 - 5)     18.355     0.846   -17.143    53.853\n",
      " (10 - 6)     14.282     0.971   -21.216    49.779\n",
      " (10 - 7)     15.192     0.954   -20.306    50.689\n",
      " (10 - 8)     -4.810     1.000   -42.040    32.420\n",
      " (10 - 9)     12.985     0.998   -30.490    56.460\n",
      " (10 - 11)     -1.016     1.000   -38.246    36.214\n",
      " (10 - 12)    -65.072     0.000  -108.547   -21.596\n",
      " (11 - 0)     21.691     0.717   -15.539    58.921\n",
      " (11 - 1)     22.381     0.554   -11.913    56.675\n",
      " (11 - 2)     18.468     0.966   -26.433    63.369\n",
      " (11 - 3)     21.461     0.904   -23.440    66.363\n",
      " (11 - 4)     21.447     0.688   -14.554    57.448\n",
      " (11 - 5)     19.371     0.841   -17.859    56.601\n",
      " (11 - 6)     15.298     0.966   -21.932    52.528\n",
      " (11 - 7)     16.208     0.948   -21.022    53.438\n",
      " (11 - 8)     -3.794     1.000   -42.680    35.092\n",
      " (11 - 9)     14.001     0.997   -30.900    58.903\n",
      " (11 - 10)      1.016     1.000   -36.214    38.246\n",
      " (11 - 12)    -64.055     0.001  -108.957   -19.154\n",
      " (12 - 0)     85.747     0.000    42.271   129.222\n",
      " (12 - 1)     86.437     0.000    45.448   127.426\n",
      " (12 - 2)     82.523     0.000    32.322   132.724\n",
      " (12 - 3)     85.517     0.000    35.316   135.718\n",
      " (12 - 4)     85.502     0.000    43.074   127.930\n",
      " (12 - 5)     83.427     0.000    39.951   126.902\n",
      " (12 - 6)     79.353     0.000    35.878   122.829\n",
      " (12 - 7)     80.263     0.000    36.788   123.739\n",
      " (12 - 8)     60.261     0.001    15.360   105.163\n",
      " (12 - 9)     78.057     0.000    27.856   128.258\n",
      " (12 - 10)     65.072     0.000    21.596   108.547\n",
      " (12 - 11)     64.055     0.001    19.154   108.957\n",
      "\n"
     ]
    }
   ],
   "source": [
    "# for Hyper Rare cards\n",
    "hr_sets = hr_df.groupby('set', sort=False)\n",
    "hr_average_prices = pd.DataFrame(columns=['set', 'averagePrice'])\n",
    "\n",
    "for set,group in hr_sets:\n",
    "    group = group.dropna(subset=['marketPrice']).sort_values(by='marketPrice')\n",
    "    rarity_mean = group['marketPrice'].mean()\n",
    "    row = {'set': set, 'averagePrice': round(rarity_mean, 2)}\n",
    "    hr_average_prices = pd.concat([hr_average_prices, pd.DataFrame([row])], ignore_index=True)\n",
    "\n",
    "hr_clean_avg = [group['marketPrice'].dropna().values for _, group in hr_df.groupby('set', sort=False)]\n",
    "\n",
    "hr_res = sp.stats.f_oneway(*hr_clean_avg)\n",
    "hr_tukey = sp.stats.tukey_hsd(*hr_clean_avg)\n",
    "\n",
    "print(hr_res.pvalue)\n",
    "print(hr_tukey)"
   ]
  },
  {
   "cell_type": "markdown",
   "metadata": {},
   "source": [
    "#### Illustration Rare Cards"
   ]
  },
  {
   "cell_type": "code",
   "execution_count": 7,
   "metadata": {},
   "outputs": [
    {
     "name": "stderr",
     "output_type": "stream",
     "text": [
      "C:\\Users\\leaks\\AppData\\Local\\Temp\\ipykernel_18876\\836959014.py:9: FutureWarning: The behavior of DataFrame concatenation with empty or all-NA entries is deprecated. In a future version, this will no longer exclude empty or all-NA columns when determining the result dtypes. To retain the old behavior, exclude the relevant entries before the concat operation.\n",
      "  ir_average_prices = pd.concat([ir_average_prices, pd.DataFrame([row])], ignore_index=True)\n"
     ]
    },
    {
     "name": "stdout",
     "output_type": "stream",
     "text": [
      "0.030095002095401828\n",
      "Tukey's HSD Pairwise Group Comparisons (95.0% Confidence Interval)\n",
      "Comparison  Statistic  p-value  Lower CI  Upper CI\n",
      " (0 - 1)     -9.414     0.829   -26.916     8.089\n",
      " (0 - 2)      3.523     1.000   -19.959    27.004\n",
      " (0 - 3)    -14.061     0.575   -35.497     7.375\n",
      " (0 - 4)     -3.565     1.000   -21.272    14.142\n",
      " (0 - 5)     10.884     0.999   -29.788    51.556\n",
      " (0 - 6)     -1.691     1.000   -21.295    17.913\n",
      " (0 - 7)      0.258     1.000   -19.587    20.104\n",
      " (0 - 8)     -9.504     0.955   -31.364    12.357\n",
      " (0 - 9)     -2.183     1.000   -25.055    20.689\n",
      " (0 - 10)      3.248     1.000   -16.132    22.628\n",
      " (0 - 11)    -17.713     0.351   -41.194     5.769\n",
      " (1 - 0)      9.414     0.829    -8.089    26.916\n",
      " (1 - 2)     12.936     0.739    -9.203    35.075\n",
      " (1 - 3)     -4.648     1.000   -24.603    15.308\n",
      " (1 - 4)      5.848     0.987   -10.035    21.731\n",
      " (1 - 5)     20.298     0.875   -19.614    60.209\n",
      " (1 - 6)      7.722     0.959   -10.251    25.696\n",
      " (1 - 7)      9.672     0.841    -8.565    27.909\n",
      " (1 - 8)     -0.090     1.000   -20.501    20.321\n",
      " (1 - 9)      7.230     0.994   -14.260    28.721\n",
      " (1 - 10)     12.662     0.438    -5.068    30.391\n",
      " (1 - 11)     -8.299     0.985   -30.438    13.840\n",
      " (2 - 0)     -3.523     1.000   -27.004    19.959\n",
      " (2 - 1)    -12.936     0.739   -35.075     9.203\n",
      " (2 - 3)    -17.584     0.487   -42.947     7.780\n",
      " (2 - 4)     -7.088     0.996   -29.389    15.213\n",
      " (2 - 5)      7.362     1.000   -35.510    50.233\n",
      " (2 - 6)     -5.214     1.000   -29.049    18.621\n",
      " (2 - 7)     -3.264     1.000   -27.298    20.770\n",
      " (2 - 8)    -13.026     0.878   -38.749    12.697\n",
      " (2 - 9)     -5.706     1.000   -32.294    20.882\n",
      " (2 - 10)     -0.275     1.000   -23.926    23.377\n",
      " (2 - 11)    -21.235     0.293   -48.349     5.879\n",
      " (3 - 0)     14.061     0.575    -7.375    35.497\n",
      " (3 - 1)      4.648     1.000   -15.308    24.603\n",
      " (3 - 2)     17.584     0.487    -7.780    42.947\n",
      " (3 - 4)     10.496     0.856    -9.640    30.631\n",
      " (3 - 5)     24.945     0.712   -16.841    66.732\n",
      " (3 - 6)     12.370     0.775    -9.452    34.192\n",
      " (3 - 7)     14.320     0.590    -7.720    36.360\n",
      " (3 - 8)      4.557     1.000   -19.313    28.427\n",
      " (3 - 9)     11.878     0.914   -12.922    36.678\n",
      " (3 - 10)     17.309     0.262    -4.312    38.931\n",
      " (3 - 11)     -3.651     1.000   -29.015    21.712\n",
      " (4 - 0)      3.565     1.000   -14.142    21.272\n",
      " (4 - 1)     -5.848     0.987   -21.731    10.035\n",
      " (4 - 2)      7.088     0.996   -15.213    29.389\n",
      " (4 - 3)    -10.496     0.856   -30.631     9.640\n",
      " (4 - 5)     14.450     0.989   -25.552    54.451\n",
      " (4 - 6)      1.874     1.000   -16.298    20.047\n",
      " (4 - 7)      3.824     1.000   -14.610    22.257\n",
      " (4 - 8)     -5.938     0.998   -26.525    14.648\n",
      " (4 - 9)      1.382     1.000   -20.276    23.040\n",
      " (4 - 10)      6.813     0.984   -11.118    24.745\n",
      " (4 - 11)    -14.147     0.626   -36.448     8.154\n",
      " (5 - 0)    -10.884     0.999   -51.556    29.788\n",
      " (5 - 1)    -20.298     0.875   -60.209    19.614\n",
      " (5 - 2)     -7.362     1.000   -50.233    35.510\n",
      " (5 - 3)    -24.945     0.712   -66.732    16.841\n",
      " (5 - 4)    -14.450     0.989   -54.451    25.552\n",
      " (5 - 6)    -12.575     0.997   -53.452    28.301\n",
      " (5 - 7)    -10.626     0.999   -51.619    30.368\n",
      " (5 - 8)    -20.388     0.906   -62.394    21.618\n",
      " (5 - 9)    -13.067     0.997   -55.608    29.473\n",
      " (5 - 10)     -7.636     1.000   -48.406    33.134\n",
      " (5 - 11)    -28.597     0.549   -71.468    14.275\n",
      " (6 - 0)      1.691     1.000   -17.913    21.295\n",
      " (6 - 1)     -7.722     0.959   -25.696    10.251\n",
      " (6 - 2)      5.214     1.000   -18.621    29.049\n",
      " (6 - 3)    -12.370     0.775   -34.192     9.452\n",
      " (6 - 4)     -1.874     1.000   -20.047    16.298\n",
      " (6 - 5)     12.575     0.997   -28.301    53.452\n",
      " (6 - 7)      1.950     1.000   -18.313    22.212\n",
      " (6 - 8)     -7.813     0.991   -30.052    14.427\n",
      " (6 - 9)     -0.492     1.000   -23.726    22.742\n",
      " (6 - 10)      4.939     1.000   -14.867    24.746\n",
      " (6 - 11)    -16.021     0.536   -39.856     7.814\n",
      " (7 - 0)     -0.258     1.000   -20.104    19.587\n",
      " (7 - 1)     -9.672     0.841   -27.909     8.565\n",
      " (7 - 2)      3.264     1.000   -20.770    27.298\n",
      " (7 - 3)    -14.320     0.590   -36.360     7.720\n",
      " (7 - 4)     -3.824     1.000   -22.257    14.610\n",
      " (7 - 5)     10.626     0.999   -30.368    51.619\n",
      " (7 - 6)     -1.950     1.000   -22.212    18.313\n",
      " (7 - 8)     -9.762     0.955   -32.215    12.691\n",
      " (7 - 9)     -2.442     1.000   -25.880    20.997\n",
      " (7 - 10)      2.989     1.000   -17.057    23.036\n",
      " (7 - 11)    -17.971     0.364   -42.005     6.063\n",
      " (8 - 0)      9.504     0.955   -12.357    31.364\n",
      " (8 - 1)      0.090     1.000   -20.321    20.501\n",
      " (8 - 2)     13.026     0.878   -12.697    38.749\n",
      " (8 - 3)     -4.557     1.000   -28.427    19.313\n",
      " (8 - 4)      5.938     0.998   -14.648    26.525\n",
      " (8 - 5)     20.388     0.906   -21.618    62.394\n",
      " (8 - 6)      7.813     0.991   -14.427    30.052\n",
      " (8 - 7)      9.762     0.955   -12.691    32.215\n",
      " (8 - 9)      7.321     0.998   -17.847    32.488\n",
      " (8 - 10)     12.752     0.751    -9.291    34.794\n",
      " (8 - 11)     -8.209     0.996   -33.932    17.514\n",
      " (9 - 0)      2.183     1.000   -20.689    25.055\n",
      " (9 - 1)     -7.230     0.994   -28.721    14.260\n",
      " (9 - 2)      5.706     1.000   -20.882    32.294\n",
      " (9 - 3)    -11.878     0.914   -36.678    12.922\n",
      " (9 - 4)     -1.382     1.000   -23.040    20.276\n",
      " (9 - 5)     13.067     0.997   -29.473    55.608\n",
      " (9 - 6)      0.492     1.000   -22.742    23.726\n",
      " (9 - 7)      2.442     1.000   -20.997    25.880\n",
      " (9 - 8)     -7.321     0.998   -32.488    17.847\n",
      " (9 - 10)      5.431     1.000   -17.615    28.477\n",
      " (9 - 11)    -15.529     0.739   -42.117    11.059\n",
      " (10 - 0)     -3.248     1.000   -22.628    16.132\n",
      " (10 - 1)    -12.662     0.438   -30.391     5.068\n",
      " (10 - 2)      0.275     1.000   -23.377    23.926\n",
      " (10 - 3)    -17.309     0.262   -38.931     4.312\n",
      " (10 - 4)     -6.813     0.984   -24.745    11.118\n",
      " (10 - 5)      7.636     1.000   -33.134    48.406\n",
      " (10 - 6)     -4.939     1.000   -24.746    14.867\n",
      " (10 - 7)     -2.989     1.000   -23.036    17.057\n",
      " (10 - 8)    -12.752     0.751   -34.794     9.291\n",
      " (10 - 9)     -5.431     1.000   -28.477    17.615\n",
      " (10 - 11)    -20.960     0.139   -44.612     2.691\n",
      " (11 - 0)     17.713     0.351    -5.769    41.194\n",
      " (11 - 1)      8.299     0.985   -13.840    30.438\n",
      " (11 - 2)     21.235     0.293    -5.879    48.349\n",
      " (11 - 3)      3.651     1.000   -21.712    29.015\n",
      " (11 - 4)     14.147     0.626    -8.154    36.448\n",
      " (11 - 5)     28.597     0.549   -14.275    71.468\n",
      " (11 - 6)     16.021     0.536    -7.814    39.856\n",
      " (11 - 7)     17.971     0.364    -6.063    42.005\n",
      " (11 - 8)      8.209     0.996   -17.514    33.932\n",
      " (11 - 9)     15.529     0.739   -11.059    42.117\n",
      " (11 - 10)     20.960     0.139    -2.691    44.612\n",
      "\n"
     ]
    }
   ],
   "source": [
    "# for Illustration Rare cards\n",
    "ir_sets = ir_df.groupby('set', sort=False)\n",
    "ir_average_prices = pd.DataFrame(columns=['set', 'averagePrice'])\n",
    "\n",
    "for set,group in ir_sets:\n",
    "    group = group.dropna(subset=['marketPrice']).sort_values(by='marketPrice')\n",
    "    rarity_mean = group['marketPrice'].mean()\n",
    "    row = {'set': set, 'averagePrice': round(rarity_mean, 2)}\n",
    "    ir_average_prices = pd.concat([ir_average_prices, pd.DataFrame([row])], ignore_index=True)\n",
    "\n",
    "ir_avg_prices = [group['marketPrice'].dropna().values for _, group in ir_df.groupby('set', sort=False)]\n",
    "\n",
    "ir_res = sp.stats.f_oneway(*ir_avg_prices)\n",
    "ir_tukey = sp.stats.tukey_hsd(*ir_avg_prices)\n",
    "\n",
    "print(ir_res.pvalue)\n",
    "print(ir_tukey)"
   ]
  },
  {
   "cell_type": "markdown",
   "metadata": {},
   "source": [
    "#### Special Illustration Rare Cards"
   ]
  },
  {
   "cell_type": "code",
   "execution_count": 8,
   "metadata": {},
   "outputs": [
    {
     "name": "stderr",
     "output_type": "stream",
     "text": [
      "C:\\Users\\leaks\\AppData\\Local\\Temp\\ipykernel_18876\\2099931476.py:9: FutureWarning: The behavior of DataFrame concatenation with empty or all-NA entries is deprecated. In a future version, this will no longer exclude empty or all-NA columns when determining the result dtypes. To retain the old behavior, exclude the relevant entries before the concat operation.\n",
      "  sir_average_prices = pd.concat([sir_average_prices, pd.DataFrame([row])], ignore_index=True)\n"
     ]
    },
    {
     "name": "stdout",
     "output_type": "stream",
     "text": [
      "0.0008935513093533942\n",
      "Tukey's HSD Pairwise Group Comparisons (95.0% Confidence Interval)\n",
      "Comparison  Statistic  p-value  Lower CI  Upper CI\n",
      " (0 - 1)     -2.927     1.000  -202.617   196.763\n",
      " (0 - 2)      1.641     1.000  -250.949   254.231\n",
      " (0 - 3)    -61.460     1.000  -302.510   179.589\n",
      " (0 - 4)     -7.115     1.000  -206.805   192.575\n",
      " (0 - 5)    -72.959     0.998  -304.977   159.059\n",
      " (0 - 6)    -30.827     1.000  -249.576   187.922\n",
      " (0 - 7)    -52.331     1.000  -266.051   161.389\n",
      " (0 - 8)    -14.055     1.000  -281.967   253.857\n",
      " (0 - 9)    -18.202     1.000  -270.792   234.387\n",
      " (0 - 10)    -81.494     0.986  -295.213   132.226\n",
      " (0 - 11)   -186.551     0.029  -363.758    -9.344\n",
      " (0 - 12)   -177.559     0.470  -430.149    75.031\n",
      " (1 - 0)      2.927     1.000  -196.763   202.617\n",
      " (1 - 2)      4.568     1.000  -231.708   240.844\n",
      " (1 - 3)    -58.533     1.000  -282.430   165.363\n",
      " (1 - 4)     -4.188     1.000  -182.796   174.420\n",
      " (1 - 5)    -70.032     0.996  -284.175   144.111\n",
      " (1 - 6)    -27.900     1.000  -227.590   171.790\n",
      " (1 - 7)    -49.404     1.000  -243.571   144.763\n",
      " (1 - 8)    -11.128     1.000  -263.718   241.462\n",
      " (1 - 9)    -15.275     1.000  -251.551   221.001\n",
      " (1 - 10)    -78.567     0.977  -272.734   115.601\n",
      " (1 - 11)   -183.624     0.006  -336.683   -30.565\n",
      " (1 - 12)   -174.632     0.387  -410.908    61.644\n",
      " (2 - 0)     -1.641     1.000  -254.231   250.949\n",
      " (2 - 1)     -4.568     1.000  -240.844   231.708\n",
      " (2 - 3)    -63.101     1.000  -335.233   209.030\n",
      " (2 - 4)     -8.756     1.000  -245.032   227.520\n",
      " (2 - 5)    -74.600     0.999  -338.765   189.565\n",
      " (2 - 6)    -32.468     1.000  -285.058   220.122\n",
      " (2 - 7)    -53.972     1.000  -302.219   194.275\n",
      " (2 - 8)    -15.696     1.000  -311.884   280.492\n",
      " (2 - 9)    -19.843     1.000  -302.247   262.561\n",
      " (2 - 10)    -83.135     0.996  -331.381   165.112\n",
      " (2 - 11)   -188.192     0.165  -405.799    29.415\n",
      " (2 - 12)   -179.200     0.634  -461.604   103.204\n",
      " (3 - 0)     61.460     1.000  -179.589   302.510\n",
      " (3 - 1)     58.533     1.000  -165.363   282.430\n",
      " (3 - 2)     63.101     1.000  -209.030   335.233\n",
      " (3 - 4)     54.345     1.000  -169.551   278.242\n",
      " (3 - 5)    -11.499     1.000  -264.651   241.654\n",
      " (3 - 6)     30.633     1.000  -210.416   271.683\n",
      " (3 - 7)      9.130     1.000  -227.366   245.625\n",
      " (3 - 8)     47.405     1.000  -239.004   333.815\n",
      " (3 - 9)     43.258     1.000  -228.873   315.389\n",
      " (3 - 10)    -20.033     1.000  -256.528   216.462\n",
      " (3 - 11)   -125.090     0.685  -329.189    79.008\n",
      " (3 - 12)   -116.099     0.966  -388.230   156.033\n",
      " (4 - 0)      7.115     1.000  -192.575   206.805\n",
      " (4 - 1)      4.188     1.000  -174.420   182.796\n",
      " (4 - 2)      8.756     1.000  -227.520   245.032\n",
      " (4 - 3)    -54.345     1.000  -278.242   169.551\n",
      " (4 - 5)    -65.844     0.998  -279.987   148.299\n",
      " (4 - 6)    -23.712     1.000  -223.402   175.978\n",
      " (4 - 7)    -45.216     1.000  -239.383   148.951\n",
      " (4 - 8)     -6.940     1.000  -259.530   245.650\n",
      " (4 - 9)    -11.087     1.000  -247.363   225.189\n",
      " (4 - 10)    -74.379     0.986  -268.546   119.789\n",
      " (4 - 11)   -179.436     0.008  -332.495   -26.377\n",
      " (4 - 12)   -170.444     0.427  -406.720    65.832\n",
      " (5 - 0)     72.959     0.998  -159.059   304.977\n",
      " (5 - 1)     70.032     0.996  -144.111   284.175\n",
      " (5 - 2)     74.600     0.999  -189.565   338.765\n",
      " (5 - 3)     11.499     1.000  -241.654   264.651\n",
      " (5 - 4)     65.844     0.998  -148.299   279.987\n",
      " (5 - 6)     42.132     1.000  -189.886   274.150\n",
      " (5 - 7)     20.628     1.000  -206.655   247.911\n",
      " (5 - 8)     58.904     1.000  -219.948   337.756\n",
      " (5 - 9)     54.757     1.000  -209.408   318.921\n",
      " (5 - 10)     -8.535     1.000  -235.817   218.748\n",
      " (5 - 11)   -113.592     0.742  -306.941    79.757\n",
      " (5 - 12)   -104.600     0.981  -368.765   159.565\n",
      " (6 - 0)     30.827     1.000  -187.922   249.576\n",
      " (6 - 1)     27.900     1.000  -171.790   227.590\n",
      " (6 - 2)     32.468     1.000  -220.122   285.058\n",
      " (6 - 3)    -30.633     1.000  -271.683   210.416\n",
      " (6 - 4)     23.712     1.000  -175.978   223.402\n",
      " (6 - 5)    -42.132     1.000  -274.150   189.886\n",
      " (6 - 7)    -21.504     1.000  -235.224   192.216\n",
      " (6 - 8)     16.772     1.000  -251.140   284.684\n",
      " (6 - 9)     12.625     1.000  -239.965   265.214\n",
      " (6 - 10)    -50.667     1.000  -264.386   163.053\n",
      " (6 - 11)   -155.724     0.148  -332.931    21.483\n",
      " (6 - 12)   -146.732     0.756  -399.322   105.858\n",
      " (7 - 0)     52.331     1.000  -161.389   266.051\n",
      " (7 - 1)     49.404     1.000  -144.763   243.571\n",
      " (7 - 2)     53.972     1.000  -194.275   302.219\n",
      " (7 - 3)     -9.130     1.000  -245.625   227.366\n",
      " (7 - 4)     45.216     1.000  -148.951   239.383\n",
      " (7 - 5)    -20.628     1.000  -247.911   206.655\n",
      " (7 - 6)     21.504     1.000  -192.216   235.224\n",
      " (7 - 8)     38.276     1.000  -225.546   302.097\n",
      " (7 - 9)     34.128     1.000  -214.118   282.375\n",
      " (7 - 10)    -29.163     1.000  -237.732   179.406\n",
      " (7 - 11)   -134.220     0.292  -305.180    36.740\n",
      " (7 - 12)   -125.228     0.890  -373.475   123.019\n",
      " (8 - 0)     14.055     1.000  -253.857   281.967\n",
      " (8 - 1)     11.128     1.000  -241.462   263.718\n",
      " (8 - 2)     15.696     1.000  -280.492   311.884\n",
      " (8 - 3)    -47.405     1.000  -333.815   239.004\n",
      " (8 - 4)      6.940     1.000  -245.650   259.530\n",
      " (8 - 5)    -58.904     1.000  -337.756   219.948\n",
      " (8 - 6)    -16.772     1.000  -284.684   251.140\n",
      " (8 - 7)    -38.276     1.000  -302.097   225.546\n",
      " (8 - 9)     -4.147     1.000  -300.335   292.040\n",
      " (8 - 10)    -67.439     1.000  -331.260   196.383\n",
      " (8 - 11)   -172.496     0.400  -407.715    62.723\n",
      " (8 - 12)   -163.504     0.813  -459.692   132.684\n",
      " (9 - 0)     18.202     1.000  -234.387   270.792\n",
      " (9 - 1)     15.275     1.000  -221.001   251.551\n",
      " (9 - 2)     19.843     1.000  -262.561   302.247\n",
      " (9 - 3)    -43.258     1.000  -315.389   228.873\n",
      " (9 - 4)     11.087     1.000  -225.189   247.363\n",
      " (9 - 5)    -54.757     1.000  -318.921   209.408\n",
      " (9 - 6)    -12.625     1.000  -265.214   239.965\n",
      " (9 - 7)    -34.128     1.000  -282.375   214.118\n",
      " (9 - 8)      4.147     1.000  -292.040   300.335\n",
      " (9 - 10)    -63.291     1.000  -311.538   184.956\n",
      " (9 - 11)   -168.349     0.314  -385.955    49.258\n",
      " (9 - 12)   -159.357     0.789  -441.761   123.047\n",
      " (10 - 0)     81.494     0.986  -132.226   295.213\n",
      " (10 - 1)     78.567     0.977  -115.601   272.734\n",
      " (10 - 2)     83.135     0.996  -165.112   331.381\n",
      " (10 - 3)     20.033     1.000  -216.462   256.528\n",
      " (10 - 4)     74.379     0.986  -119.789   268.546\n",
      " (10 - 5)      8.535     1.000  -218.748   235.817\n",
      " (10 - 6)     50.667     1.000  -163.053   264.386\n",
      " (10 - 7)     29.163     1.000  -179.406   237.732\n",
      " (10 - 8)     67.439     1.000  -196.383   331.260\n",
      " (10 - 9)     63.291     1.000  -184.956   311.538\n",
      " (10 - 11)   -105.057     0.681  -276.017    65.903\n",
      " (10 - 12)    -96.065     0.984  -344.312   152.181\n",
      " (11 - 0)    186.551     0.029     9.344   363.758\n",
      " (11 - 1)    183.624     0.006    30.565   336.683\n",
      " (11 - 2)    188.192     0.165   -29.415   405.799\n",
      " (11 - 3)    125.090     0.685   -79.008   329.189\n",
      " (11 - 4)    179.436     0.008    26.377   332.495\n",
      " (11 - 5)    113.592     0.742   -79.757   306.941\n",
      " (11 - 6)    155.724     0.148   -21.483   332.931\n",
      " (11 - 7)    134.220     0.292   -36.740   305.180\n",
      " (11 - 8)    172.496     0.400   -62.723   407.715\n",
      " (11 - 9)    168.349     0.314   -49.258   385.955\n",
      " (11 - 10)    105.057     0.681   -65.903   276.017\n",
      " (11 - 12)      8.992     1.000  -208.615   226.599\n",
      " (12 - 0)    177.559     0.470   -75.031   430.149\n",
      " (12 - 1)    174.632     0.387   -61.644   410.908\n",
      " (12 - 2)    179.200     0.634  -103.204   461.604\n",
      " (12 - 3)    116.099     0.966  -156.033   388.230\n",
      " (12 - 4)    170.444     0.427   -65.832   406.720\n",
      " (12 - 5)    104.600     0.981  -159.565   368.765\n",
      " (12 - 6)    146.732     0.756  -105.858   399.322\n",
      " (12 - 7)    125.228     0.890  -123.019   373.475\n",
      " (12 - 8)    163.504     0.813  -132.684   459.692\n",
      " (12 - 9)    159.357     0.789  -123.047   441.761\n",
      " (12 - 10)     96.065     0.984  -152.181   344.312\n",
      " (12 - 11)     -8.992     1.000  -226.599   208.615\n",
      "\n"
     ]
    }
   ],
   "source": [
    "# for Special Illustration Rare cards\n",
    "sir_sets = sir_df.groupby('set', sort=False)\n",
    "sir_average_prices = pd.DataFrame(columns=['set', 'averagePrice'])\n",
    "\n",
    "for set,group in sir_sets:\n",
    "    group = group.dropna(subset=['marketPrice']).sort_values(by='marketPrice')\n",
    "    rarity_mean = group['marketPrice'].mean()\n",
    "    row = {'set': set, 'averagePrice': round(rarity_mean, 2)}\n",
    "    sir_average_prices = pd.concat([sir_average_prices, pd.DataFrame([row])], ignore_index=True)\n",
    "\n",
    "sir_avg_prices = [group['marketPrice'].dropna().values for _, group in sir_df.groupby('set', sort=False)]\n",
    "\n",
    "sir_res = sp.stats.f_oneway(*sir_avg_prices)\n",
    "sir_tukey = sp.stats.tukey_hsd(*sir_avg_prices)\n",
    "\n",
    "print(sir_res.pvalue)\n",
    "print(sir_tukey)"
   ]
  },
  {
   "cell_type": "markdown",
   "metadata": {},
   "source": [
    "#### Graphs for ANOVA Tests:\n",
    "- SVB - Scarlet And Violet Base\n",
    "- PAL - Paldea Evolved\n",
    "- PAR - Paradox Rift\n",
    "- TEF - Temporal Forces\n",
    "- TWM - Twilight Masquerade\n",
    "- STC - Stellar Crown\n",
    "- SSP - Surging Sparks\n",
    "- JTG - Journey Together\n",
    "- 151 - Scarlet And Violet 151\n",
    "- PAF - Paldean Fates\n",
    "- SHF - Shrouded Fable\n",
    "- PRE - Prismatic Evolutions"
   ]
  },
  {
   "cell_type": "code",
   "execution_count": 9,
   "metadata": {},
   "outputs": [
    {
     "data": {
      "image/png": "[encoded data removed]",
      "text/plain": [
       "<Figure size 640x480 with 1 Axes>"
      ]
     },
     "metadata": {},
     "output_type": "display_data"
    },
    {
     "data": {
      "image/png": "[encoded data removed]",
      "text/plain": [
       "<Figure size 640x480 with 1 Axes>"
      ]
     },
     "metadata": {},
     "output_type": "display_data"
    },
    {
     "data": {
      "image/png": "[encoded data removed]",
      "text/plain": [
       "<Figure size 640x480 with 1 Axes>"
      ]
     },
     "metadata": {},
     "output_type": "display_data"
    }
   ],
   "source": [
    "set_list = ['SVB',\n",
    "        'PAL',\n",
    "        'OBS',\n",
    "        '151',\n",
    "        'PAR',\n",
    "        'PAF',\n",
    "        'TEF',\n",
    "        'TWM',\n",
    "        'SHF',\n",
    "        'STC',\n",
    "        'SSP',\n",
    "        'PRE',\n",
    "        'JTG']\n",
    "\n",
    "ir_set_list = ['SVB',\n",
    "        'PAL',\n",
    "        'OBS',\n",
    "        '151',\n",
    "        'PAR',\n",
    "        'PAF',\n",
    "        'TEF',\n",
    "        'TWM',\n",
    "        'SHF',\n",
    "        'STC',\n",
    "        'SSP',\n",
    "        'JTG']\n",
    "\n",
    "# hyper rare cards graph\n",
    "hr_avg_price_list = hr_average_prices['averagePrice'].values\n",
    "plt.plot(set_list, hr_avg_price_list)\n",
    "plt.title('Mean Card Price for Hyper Rares in Scarlet and Violet Sets')\n",
    "plt.xlabel('Sets')\n",
    "plt.ylabel('Average Price')\n",
    "\n",
    "plt.show()\n",
    "\n",
    "# illustration rare cards graph\n",
    "ir_avg_price_list = ir_average_prices['averagePrice'].values\n",
    "plt.plot(ir_set_list, ir_avg_price_list)\n",
    "plt.title('Mean Card Price for Illustration Rares in Scarlet and Violet Sets')\n",
    "plt.xlabel('Sets')\n",
    "plt.ylabel('Average Price')\n",
    "\n",
    "plt.show()\n",
    "\n",
    "# special illustration rare cards graph\n",
    "sir_avg_price_list = sir_average_prices['averagePrice'].values\n",
    "plt.plot(set_list, sir_avg_price_list)\n",
    "plt.title('Mean Card Price for Special Illustration Rares in Scarlet and Violet Sets')\n",
    "plt.xlabel('Sets')\n",
    "plt.ylabel('Average Price')\n",
    "\n",
    "plt.show()"
   ]
  },
  {
   "cell_type": "markdown",
   "metadata": {},
   "source": [
    "### ANOVA Test Results + Tukey Test Results Analysis\n",
    "\n",
    "The p-value for the ANOVA test done on the average **hyper rare** market price across all sets is **1.2307944715509453e-06**, a number significantly smaller than 0.001 (<0.001). Because this p-value is significantly less than the given significance level of 0.05, we can conclude that there is a significant relationship between the card set and the average price of the hyper rares within the set.\n",
    "\n",
    "*Analyzing the TUKEY test results, we can see that the hyper rares in SV09: Journey Together differ significantly than the hyper rares in any other set. This is the only observable significant difference within this dataset of hyper rare cards.*\n",
    "\n",
    "The p-value for the ANOVA test done on the average **illustration rare** market price across all sets is **0.030095002095401828**. Because this p-value is significantly less than the given significance level of 0.05, we can conclude that there is a significant relationship between the card set and the average price of the illustration rares within the set.\n",
    "\n",
    "*Analyzing the TUKEY test results, we can see that there are no significant differences between the hyper rares of any two sets. This observation suggests that the variation is spread across multiple sets rather than between specific pairs.*\n",
    "\n",
    "- *note that SV: Prismatic Evolutions contains no illustration rares, therefore is not represented in this ANOVA and TUKEY test analysis*\n",
    "\n",
    "The p-value for the ANOVA test done on the average **special illustration rare** market price across all sets is **0.0008935513093533942**. Because this p-value is significantly less than the given significance level of 0.05, we can conclude that there is a significant relationship between the card set and the average price of the special illustration rares within the set.\n",
    "\n",
    "*Analyzing the TUKEY test results, we can see that there is a significant difference between the special illustration rares of SV: Prismatic Evolutions and SV01: Scarlet and Violet Base, SV: Prismatic Evolutions and SV02: Paldea Evolved, and SV: Prismatic Evolutions and SV05: Paradox Rift.*"
   ]
  },
  {
   "cell_type": "markdown",
   "metadata": {},
   "source": [
    "### TEST II: Correlation Test between Popularity and Mean Price\n",
    "\n",
    "Our second test, we will conduct a correlation test to determine whether or not the popularity of a set has an linear relation with the average price of a set. Since we are trying to two variables to see if they have a correlation with one another, a correlation test will be appropiate.\n",
    "\n",
    "Significance level: $\\alpha = 0.5$ (Level of confidence = 95%)\n",
    "\n",
    "> H_0: There is no correlation between the average price of the set and the popularity of a set.\n",
    ">\n",
    "> H_a: There is a correlation between the average price of the set and the popularity of the set."
   ]
  },
  {
   "cell_type": "code",
   "execution_count": 10,
   "metadata": {},
   "outputs": [
    {
     "data": {
      "text/plain": [
       "PearsonRResult(statistic=np.float64(-0.6902804971814794), pvalue=np.float64(0.009011909812729986))"
      ]
     },
     "execution_count": 10,
     "metadata": {},
     "output_type": "execute_result"
    }
   ],
   "source": [
    "sv01_price = sv01_df[sv01_df['name'] == 'Scarlet & Violet Booster Pack']\n",
    "sv02_price = sv02_df[sv02_df['name'] == 'Paldea Evolved Booster Pack']\n",
    "sv03_price = sv03_df[sv03_df['name'] == 'Obsidian Flames Booster Pack']\n",
    "sv04_price = sv04_df[sv04_df['name'] == 'Paradox Rift Booster Pack']\n",
    "sv05_price = sv05_df[sv05_df['name'] == 'Temporal Forces Booster Pack']\n",
    "sv06_price = sv06_df[sv06_df['name'] == 'Twilight Masquerade Booster Pack']\n",
    "sv07_price = sv07_df[sv07_df['name'] == 'Stellar Crown Booster Pack']\n",
    "sv08_price = sv08_df[sv08_df['name'] == 'Surging Sparks Booster Pack']\n",
    "sv09_price = sv09_df[sv09_df['name'] == 'Journey Together Booster Pack']\n",
    "sv_151_price = sv_151_df[sv_151_df['name'] == '151 Booster Pack']\n",
    "sv_pf_price = sv_pf_df[sv_pf_df['name'] == 'Paldean Fates Booster Pack']\n",
    "sv_sf_price = sv_sf_df[sv_sf_df['name'] == 'Shrouded Fable Booster Pack']\n",
    "sv_pe_price = sv_pe_df[sv_pe_df['name'] == 'Prismatic Evolutions Booster Pack']\n",
    "\n",
    "prices = pd.concat([sv01_price, sv02_price, sv03_price, sv04_price, sv05_price, sv06_price, sv07_price, sv08_price, sv09_price, sv_151_price, sv_pf_price, sv_sf_price, sv_pe_price])\n",
    "\n",
    "prices = prices[['marketPrice', 'groupId']]\n",
    "prices['set'] = prices['groupId'].apply(get_textset)\n",
    "\n",
    "def popularity_def(price):\n",
    "    if price >= 10:\n",
    "        return 1\n",
    "    elif price >= 7:\n",
    "        return 2\n",
    "    elif price >= 6:\n",
    "        return 3\n",
    "    elif price >= 5:\n",
    "        return 4\n",
    "    else:\n",
    "        return 5\n",
    "\n",
    "prices['popularity'] = prices['marketPrice'].apply(popularity_def)\n",
    "prices = prices.sort_values(by='set')\n",
    "\n",
    "average_price = master_df.groupby('set', sort = 'name')['marketPrice'].mean()\n",
    "\n",
    "sp.stats.pearsonr(average_price, prices['popularity'])"
   ]
  },
  {
   "cell_type": "markdown",
   "metadata": {},
   "source": [
    "### CORRELATION Test Result Analysis:\n",
    "\n",
    "The correlation test results in a p-value of 0.009011909812729986. This p-value is significantly lower than 0.05, indicating that we have enough evidence to reject the null hypothesis. Therefore we will accept the alternative hypothesis instead, which states that there is a correlation between the average price and popularity of a set.\n",
    "\n",
    "We determined the popularity of a set by ranking the prices of an individual booster pack for each set. For prices of over $10, we rank it with a popularity value of 1 (meaning its the most popular); for prices in between $7-$10, it is ranked with a score of 2, 3 for $6-$7, 4 for $5-$6, and 5 for any booster packs priced under $5. \n",
    "\n",
    "We paired each average price with a ranking, and the correlation test was performed with these pairs. "
   ]
  },
  {
   "cell_type": "code",
   "execution_count": 11,
   "metadata": {},
   "outputs": [
    {
     "data": {
      "image/png": "[encoded data removed]",
      "text/plain": [
       "<Figure size 640x480 with 1 Axes>"
      ]
     },
     "metadata": {},
     "output_type": "display_data"
    }
   ],
   "source": [
    "x = prices['popularity']\n",
    "y = average_price\n",
    "\n",
    "plt.scatter(x,y)\n",
    "\n",
    "plt.xlabel(\"Popularity\")\n",
    "plt.ylabel(\"Average Price of the Set\")\n",
    "plt.title(\"Popularity Score vs Average Price of Each Set\")\n",
    "\n",
    "m, b = np.polyfit(x,y, 1)\n",
    "\n",
    "plt.plot(x, m*x + b, color='blue')\n",
    "\n",
    "plt.show()"
   ]
  },
  {
   "cell_type": "markdown",
   "metadata": {},
   "source": [
    "### TEST III: Pairwise T-Test between Volatility and Rarities\n",
    "\n",
    "We will use pairwise T-tests to determine if there exists a significant difference between the volatility in prices between rarities. Here, we define volatility as the difference between a cards high and low price points. \n",
    "\n",
    "Significance level: $\\alpha = 0.5$ (Level of confidence = 95%)\n",
    "\n",
    "> $H_0:$ There is no significant difference in the volatility in prices between rarities. \n",
    ">\n",
    "> $H_a:$ There is significant difference in the volatility in prices between rarities. "
   ]
  },
  {
   "cell_type": "code",
   "execution_count": 12,
   "metadata": {},
   "outputs": [
    {
     "name": "stdout",
     "output_type": "stream",
     "text": [
      "The observed p-value of hyper rare cards versus illustration rare is: 0.32509098167592854\n",
      "The observed p-value of hyper rare cards versus special illustration rare is: 0.08174837546624164\n",
      "The observed p-value of illustration rare cards versus special illustration rare is: 0.5146676677454878\n"
     ]
    }
   ],
   "source": [
    "from scipy.stats import ttest_ind\n",
    "\n",
    "master_df['volatility'] = master_df['highPrice'].astype(float) - master_df['lowPrice'].astype(float)\n",
    "\n",
    "ttest_hr_df = master_df[master_df['extRarity'] == 'Hyper Rare']\n",
    "ttest_ir_df = master_df[master_df['extRarity'] == 'Illustration Rare']\n",
    "ttest_sir_df = master_df[master_df['extRarity'] == 'Special Illustration Rare']\n",
    "\n",
    "hr_vs_ir = ttest_ind(ttest_hr_df['volatility'], ttest_ir_df['volatility'])\n",
    "hr_vs_sir = ttest_ind(ttest_hr_df['volatility'], ttest_sir_df['volatility'])\n",
    "ir_vs_sir = ttest_ind(ttest_ir_df['volatility'], ttest_sir_df['volatility'])\n",
    "\n",
    "print(f\"The observed p-value of hyper rare cards versus illustration rare is: {hr_vs_ir[1]}\")\n",
    "print(f\"The observed p-value of hyper rare cards versus special illustration rare is: {hr_vs_sir[1]}\")\n",
    "print(f\"The observed p-value of illustration rare cards versus special illustration rare is: {ir_vs_sir[1]}\")"
   ]
  },
  {
   "cell_type": "markdown",
   "metadata": {},
   "source": [
    "Since the observed p-values of all three categories are greater than our significant level of $\\alpha = 0.5$ we fail to reject our null hypothesis. There is not strong evidence that suggests significant differences in volatility in prices between rarities."
   ]
  },
  {
   "cell_type": "code",
   "execution_count": 14,
   "metadata": {},
   "outputs": [
    {
     "ename": "ValueError",
     "evalue": "Mime type rendering requires nbformat>=4.2.0 but it is not installed",
     "output_type": "error",
     "traceback": [
      "\u001b[1;31m---------------------------------------------------------------------------\u001b[0m",
      "\u001b[1;31mValueError\u001b[0m                                Traceback (most recent call last)",
      "File \u001b[1;32m~\\AppData\\Roaming\\Python\\Python313\\site-packages\\IPython\\core\\formatters.py:925\u001b[0m, in \u001b[0;36mIPythonDisplayFormatter.__call__\u001b[1;34m(self, obj)\u001b[0m\n\u001b[0;32m    923\u001b[0m method \u001b[38;5;241m=\u001b[39m get_real_method(obj, \u001b[38;5;28mself\u001b[39m\u001b[38;5;241m.\u001b[39mprint_method)\n\u001b[0;32m    924\u001b[0m \u001b[38;5;28;01mif\u001b[39;00m method \u001b[38;5;129;01mis\u001b[39;00m \u001b[38;5;129;01mnot\u001b[39;00m \u001b[38;5;28;01mNone\u001b[39;00m:\n\u001b[1;32m--> 925\u001b[0m     \u001b[43mmethod\u001b[49m\u001b[43m(\u001b[49m\u001b[43m)\u001b[49m\n\u001b[0;32m    926\u001b[0m     \u001b[38;5;28;01mreturn\u001b[39;00m \u001b[38;5;28;01mTrue\u001b[39;00m\n",
      "File \u001b[1;32mc:\\Users\\leaks\\AppData\\Local\\Programs\\Python\\Python313\\Lib\\site-packages\\plotly\\basedatatypes.py:833\u001b[0m, in \u001b[0;36mBaseFigure._ipython_display_\u001b[1;34m(self)\u001b[0m\n\u001b[0;32m    830\u001b[0m \u001b[38;5;28;01mimport\u001b[39;00m \u001b[38;5;21;01mplotly\u001b[39;00m\u001b[38;5;21;01m.\u001b[39;00m\u001b[38;5;21;01mio\u001b[39;00m \u001b[38;5;28;01mas\u001b[39;00m \u001b[38;5;21;01mpio\u001b[39;00m\n\u001b[0;32m    832\u001b[0m \u001b[38;5;28;01mif\u001b[39;00m pio\u001b[38;5;241m.\u001b[39mrenderers\u001b[38;5;241m.\u001b[39mrender_on_display \u001b[38;5;129;01mand\u001b[39;00m pio\u001b[38;5;241m.\u001b[39mrenderers\u001b[38;5;241m.\u001b[39mdefault:\n\u001b[1;32m--> 833\u001b[0m     \u001b[43mpio\u001b[49m\u001b[38;5;241;43m.\u001b[39;49m\u001b[43mshow\u001b[49m\u001b[43m(\u001b[49m\u001b[38;5;28;43mself\u001b[39;49m\u001b[43m)\u001b[49m\n\u001b[0;32m    834\u001b[0m \u001b[38;5;28;01melse\u001b[39;00m:\n\u001b[0;32m    835\u001b[0m     \u001b[38;5;28mprint\u001b[39m(\u001b[38;5;28mrepr\u001b[39m(\u001b[38;5;28mself\u001b[39m))\n",
      "File \u001b[1;32mc:\\Users\\leaks\\AppData\\Local\\Programs\\Python\\Python313\\Lib\\site-packages\\plotly\\io\\_renderers.py:425\u001b[0m, in \u001b[0;36mshow\u001b[1;34m(fig, renderer, validate, **kwargs)\u001b[0m\n\u001b[0;32m    420\u001b[0m     \u001b[38;5;28;01mraise\u001b[39;00m \u001b[38;5;167;01mValueError\u001b[39;00m(\n\u001b[0;32m    421\u001b[0m         \u001b[38;5;124m\"\u001b[39m\u001b[38;5;124mMime type rendering requires ipython but it is not installed\u001b[39m\u001b[38;5;124m\"\u001b[39m\n\u001b[0;32m    422\u001b[0m     )\n\u001b[0;32m    424\u001b[0m \u001b[38;5;28;01mif\u001b[39;00m \u001b[38;5;129;01mnot\u001b[39;00m nbformat \u001b[38;5;129;01mor\u001b[39;00m Version(nbformat\u001b[38;5;241m.\u001b[39m__version__) \u001b[38;5;241m<\u001b[39m Version(\u001b[38;5;124m\"\u001b[39m\u001b[38;5;124m4.2.0\u001b[39m\u001b[38;5;124m\"\u001b[39m):\n\u001b[1;32m--> 425\u001b[0m     \u001b[38;5;28;01mraise\u001b[39;00m \u001b[38;5;167;01mValueError\u001b[39;00m(\n\u001b[0;32m    426\u001b[0m         \u001b[38;5;124m\"\u001b[39m\u001b[38;5;124mMime type rendering requires nbformat>=4.2.0 but it is not installed\u001b[39m\u001b[38;5;124m\"\u001b[39m\n\u001b[0;32m    427\u001b[0m     )\n\u001b[0;32m    429\u001b[0m display_jupyter_version_warnings()\n\u001b[0;32m    431\u001b[0m ipython_display\u001b[38;5;241m.\u001b[39mdisplay(bundle, raw\u001b[38;5;241m=\u001b[39m\u001b[38;5;28;01mTrue\u001b[39;00m)\n",
      "\u001b[1;31mValueError\u001b[0m: Mime type rendering requires nbformat>=4.2.0 but it is not installed"
     ]
    },
    {
     "data": {
      "application/vnd.plotly.v1+json": {
       "config": {
        "plotlyServerURL": "https://plot.ly"
       },
       "data": [
        {
         "alignmentgroup": "True",
         "box": {
          "visible": true
         },
         "hovertemplate": "ExtRarity=%{x}<br>Volatility=%{y}<extra></extra>",
         "legendgroup": "Hyper Rare",
         "marker": {
          "color": "#636efa"
         },
         "name": "Hyper Rare",
         "offsetgroup": "Hyper Rare",
         "orientation": "v",
         "points": "all",
         "scalegroup": "True",
         "showlegend": true,
         "type": "violin",
         "x": [
          "Hyper Rare",
          "Hyper Rare",
          "Hyper Rare",
          "Hyper Rare",
          "Hyper Rare",
          "Hyper Rare",
          "Hyper Rare",
          "Hyper Rare",
          "Hyper Rare",
          "Hyper Rare",
          "Hyper Rare",
          "Hyper Rare",
          "Hyper Rare",
          "Hyper Rare",
          "Hyper Rare",
          "Hyper Rare",
          "Hyper Rare",
          "Hyper Rare",
          "Hyper Rare",
          "Hyper Rare",
          "Hyper Rare",
          "Hyper Rare",
          "Hyper Rare",
          "Hyper Rare",
          "Hyper Rare",
          "Hyper Rare",
          "Hyper Rare",
          "Hyper Rare",
          "Hyper Rare",
          "Hyper Rare",
          "Hyper Rare",
          "Hyper Rare",
          "Hyper Rare",
          "Hyper Rare",
          "Hyper Rare",
          "Hyper Rare",
          "Hyper Rare",
          "Hyper Rare",
          "Hyper Rare",
          "Hyper Rare",
          "Hyper Rare",
          "Hyper Rare",
          "Hyper Rare",
          "Hyper Rare",
          "Hyper Rare",
          "Hyper Rare",
          "Hyper Rare",
          "Hyper Rare",
          "Hyper Rare",
          "Hyper Rare",
          "Hyper Rare",
          "Hyper Rare",
          "Hyper Rare",
          "Hyper Rare",
          "Hyper Rare",
          "Hyper Rare",
          "Hyper Rare",
          "Hyper Rare",
          "Hyper Rare",
          "Hyper Rare",
          "Hyper Rare",
          "Hyper Rare",
          "Hyper Rare",
          "Hyper Rare",
          "Hyper Rare",
          "Hyper Rare",
          "Hyper Rare",
          "Hyper Rare"
         ],
         "x0": " ",
         "xaxis": "x",
         "y": {
          "bdata": "4XoUrkeBS0AzMzMzMzM5QFyPwvUonDZAAAAAAACAR0C4HoXrUTg4QAAAAAAAAERACtejcD0KL0AzMzMzM/M5QJqZmZmZmTBAwvUoXI+COUC4HoXrUfg2QF2PwvUoHD9AR+F6FK4HOUDC9ShcjwIyQD0K16Nw/TlAmpmZmZlJVEAAAAAAAABBQML1KFyPAjZAAAAAAAAAREDsUbgehWszQArXo3A9ijBAcT0K16NAUEBmZmZmZmYwQHI9CtejcDxAKVyPwvVoMUAzMzMzM/MyQML1KFyPgj9AmZmZmZkZJkC4HoXrUfgzQAAAAAAAAEdAcT0K16NAV0AzMzMzM/M0QClcj8L1KDlAMzMzMzPjUUAzMzMzM/MyQClcj8L1aDNAAAAAAABANUAzMzMzM/M1QJqZmZmZeUpAMzMzMzNzW0A+CtejcP07QPYoXI/C9TZAHoXrUbi+TUD1KFyPwvUpQD0K16Nw/TFAZmZmZmbmK0CkcD0K1+NCQAAAAAAAQFZANDMzMzPzPUCamZmZmflIQHwUrkfhekRAXI/C9Sj8RUA0MzMzM/M6QAAAAAAAADdA4noUrkcRaED2KFyPwvU/QITrUbgeBS9AAAAAAACAUECamZmZmflIQAAAAAAAAE5AH4XrUbg+R0A0MzMzM/M9QOF6FK5HAUJAAAAAAACAb0AAAAAAAABbQAAAAAAAACxAAAAAAAAAREApXI/C9QhBQA==",
          "dtype": "f8"
         },
         "y0": " ",
         "yaxis": "y"
        },
        {
         "alignmentgroup": "True",
         "box": {
          "visible": true
         },
         "hovertemplate": "ExtRarity=%{x}<br>Volatility=%{y}<extra></extra>",
         "legendgroup": "Illustration Rare",
         "marker": {
          "color": "#EF553B"
         },
         "name": "Illustration Rare",
         "offsetgroup": "Illustration Rare",
         "orientation": "v",
         "points": "all",
         "scalegroup": "True",
         "showlegend": true,
         "type": "violin",
         "x": [
          "Illustration Rare",
          "Illustration Rare",
          "Illustration Rare",
          "Illustration Rare",
          "Illustration Rare",
          "Illustration Rare",
          "Illustration Rare",
          "Illustration Rare",
          "Illustration Rare",
          "Illustration Rare",
          "Illustration Rare",
          "Illustration Rare",
          "Illustration Rare",
          "Illustration Rare",
          "Illustration Rare",
          "Illustration Rare",
          "Illustration Rare",
          "Illustration Rare",
          "Illustration Rare",
          "Illustration Rare",
          "Illustration Rare",
          "Illustration Rare",
          "Illustration Rare",
          "Illustration Rare",
          "Illustration Rare",
          "Illustration Rare",
          "Illustration Rare",
          "Illustration Rare",
          "Illustration Rare",
          "Illustration Rare",
          "Illustration Rare",
          "Illustration Rare",
          "Illustration Rare",
          "Illustration Rare",
          "Illustration Rare",
          "Illustration Rare",
          "Illustration Rare",
          "Illustration Rare",
          "Illustration Rare",
          "Illustration Rare",
          "Illustration Rare",
          "Illustration Rare",
          "Illustration Rare",
          "Illustration Rare",
          "Illustration Rare",
          "Illustration Rare",
          "Illustration Rare",
          "Illustration Rare",
          "Illustration Rare",
          "Illustration Rare",
          "Illustration Rare",
          "Illustration Rare",
          "Illustration Rare",
          "Illustration Rare",
          "Illustration Rare",
          "Illustration Rare",
          "Illustration Rare",
          "Illustration Rare",
          "Illustration Rare",
          "Illustration Rare",
          "Illustration Rare",
          "Illustration Rare",
          "Illustration Rare",
          "Illustration Rare",
          "Illustration Rare",
          "Illustration Rare",
          "Illustration Rare",
          "Illustration Rare",
          "Illustration Rare",
          "Illustration Rare",
          "Illustration Rare",
          "Illustration Rare",
          "Illustration Rare",
          "Illustration Rare",
          "Illustration Rare",
          "Illustration Rare",
          "Illustration Rare",
          "Illustration Rare",
          "Illustration Rare",
          "Illustration Rare",
          "Illustration Rare",
          "Illustration Rare",
          "Illustration Rare",
          "Illustration Rare",
          "Illustration Rare",
          "Illustration Rare",
          "Illustration Rare",
          "Illustration Rare",
          "Illustration Rare",
          "Illustration Rare",
          "Illustration Rare",
          "Illustration Rare",
          "Illustration Rare",
          "Illustration Rare",
          "Illustration Rare",
          "Illustration Rare",
          "Illustration Rare",
          "Illustration Rare",
          "Illustration Rare",
          "Illustration Rare",
          "Illustration Rare",
          "Illustration Rare",
          "Illustration Rare",
          "Illustration Rare",
          "Illustration Rare",
          "Illustration Rare",
          "Illustration Rare",
          "Illustration Rare",
          "Illustration Rare",
          "Illustration Rare",
          "Illustration Rare",
          "Illustration Rare",
          "Illustration Rare",
          "Illustration Rare",
          "Illustration Rare",
          "Illustration Rare",
          "Illustration Rare",
          "Illustration Rare",
          "Illustration Rare",
          "Illustration Rare",
          "Illustration Rare",
          "Illustration Rare",
          "Illustration Rare",
          "Illustration Rare",
          "Illustration Rare",
          "Illustration Rare",
          "Illustration Rare",
          "Illustration Rare",
          "Illustration Rare",
          "Illustration Rare",
          "Illustration Rare",
          "Illustration Rare",
          "Illustration Rare",
          "Illustration Rare",
          "Illustration Rare",
          "Illustration Rare",
          "Illustration Rare",
          "Illustration Rare",
          "Illustration Rare",
          "Illustration Rare",
          "Illustration Rare",
          "Illustration Rare",
          "Illustration Rare",
          "Illustration Rare",
          "Illustration Rare",
          "Illustration Rare",
          "Illustration Rare",
          "Illustration Rare",
          "Illustration Rare",
          "Illustration Rare",
          "Illustration Rare",
          "Illustration Rare",
          "Illustration Rare",
          "Illustration Rare",
          "Illustration Rare",
          "Illustration Rare",
          "Illustration Rare",
          "Illustration Rare",
          "Illustration Rare",
          "Illustration Rare",
          "Illustration Rare",
          "Illustration Rare",
          "Illustration Rare",
          "Illustration Rare",
          "Illustration Rare",
          "Illustration Rare",
          "Illustration Rare",
          "Illustration Rare",
          "Illustration Rare",
          "Illustration Rare",
          "Illustration Rare",
          "Illustration Rare",
          "Illustration Rare",
          "Illustration Rare",
          "Illustration Rare",
          "Illustration Rare",
          "Illustration Rare",
          "Illustration Rare",
          "Illustration Rare",
          "Illustration Rare",
          "Illustration Rare",
          "Illustration Rare",
          "Illustration Rare",
          "Illustration Rare",
          "Illustration Rare",
          "Illustration Rare",
          "Illustration Rare",
          "Illustration Rare",
          "Illustration Rare",
          "Illustration Rare",
          "Illustration Rare",
          "Illustration Rare",
          "Illustration Rare",
          "Illustration Rare",
          "Illustration Rare",
          "Illustration Rare",
          "Illustration Rare",
          "Illustration Rare",
          "Illustration Rare",
          "Illustration Rare",
          "Illustration Rare",
          "Illustration Rare",
          "Illustration Rare",
          "Illustration Rare",
          "Illustration Rare",
          "Illustration Rare",
          "Illustration Rare",
          "Illustration Rare",
          "Illustration Rare",
          "Illustration Rare",
          "Illustration Rare",
          "Illustration Rare",
          "Illustration Rare",
          "Illustration Rare",
          "Illustration Rare",
          "Illustration Rare",
          "Illustration Rare",
          "Illustration Rare",
          "Illustration Rare",
          "Illustration Rare",
          "Illustration Rare",
          "Illustration Rare",
          "Illustration Rare",
          "Illustration Rare",
          "Illustration Rare",
          "Illustration Rare",
          "Illustration Rare",
          "Illustration Rare",
          "Illustration Rare",
          "Illustration Rare",
          "Illustration Rare"
         ],
         "x0": " ",
         "xaxis": "x",
         "y": {
          "bdata": "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",
          "dtype": "f8"
         },
         "y0": " ",
         "yaxis": "y"
        },
        {
         "alignmentgroup": "True",
         "box": {
          "visible": true
         },
         "hovertemplate": "ExtRarity=%{x}<br>Volatility=%{y}<extra></extra>",
         "legendgroup": "Special Illustration Rare",
         "marker": {
          "color": "#00cc96"
         },
         "name": "Special Illustration Rare",
         "offsetgroup": "Special Illustration Rare",
         "orientation": "v",
         "points": "all",
         "scalegroup": "True",
         "showlegend": true,
         "type": "violin",
         "x": [
          "Special Illustration Rare",
          "Special Illustration Rare",
          "Special Illustration Rare",
          "Special Illustration Rare",
          "Special Illustration Rare",
          "Special Illustration Rare",
          "Special Illustration Rare",
          "Special Illustration Rare",
          "Special Illustration Rare",
          "Special Illustration Rare",
          "Special Illustration Rare",
          "Special Illustration Rare",
          "Special Illustration Rare",
          "Special Illustration Rare",
          "Special Illustration Rare",
          "Special Illustration Rare",
          "Special Illustration Rare",
          "Special Illustration Rare",
          "Special Illustration Rare",
          "Special Illustration Rare",
          "Special Illustration Rare",
          "Special Illustration Rare",
          "Special Illustration Rare",
          "Special Illustration Rare",
          "Special Illustration Rare",
          "Special Illustration Rare",
          "Special Illustration Rare",
          "Special Illustration Rare",
          "Special Illustration Rare",
          "Special Illustration Rare",
          "Special Illustration Rare",
          "Special Illustration Rare",
          "Special Illustration Rare",
          "Special Illustration Rare",
          "Special Illustration Rare",
          "Special Illustration Rare",
          "Special Illustration Rare",
          "Special Illustration Rare",
          "Special Illustration Rare",
          "Special Illustration Rare",
          "Special Illustration Rare",
          "Special Illustration Rare",
          "Special Illustration Rare",
          "Special Illustration Rare",
          "Special Illustration Rare",
          "Special Illustration Rare",
          "Special Illustration Rare",
          "Special Illustration Rare",
          "Special Illustration Rare",
          "Special Illustration Rare",
          "Special Illustration Rare",
          "Special Illustration Rare",
          "Special Illustration Rare",
          "Special Illustration Rare",
          "Special Illustration Rare",
          "Special Illustration Rare",
          "Special Illustration Rare",
          "Special Illustration Rare",
          "Special Illustration Rare",
          "Special Illustration Rare",
          "Special Illustration Rare",
          "Special Illustration Rare",
          "Special Illustration Rare",
          "Special Illustration Rare",
          "Special Illustration Rare",
          "Special Illustration Rare",
          "Special Illustration Rare",
          "Special Illustration Rare",
          "Special Illustration Rare",
          "Special Illustration Rare",
          "Special Illustration Rare",
          "Special Illustration Rare",
          "Special Illustration Rare",
          "Special Illustration Rare",
          "Special Illustration Rare",
          "Special Illustration Rare",
          "Special Illustration Rare",
          "Special Illustration Rare",
          "Special Illustration Rare",
          "Special Illustration Rare",
          "Special Illustration Rare",
          "Special Illustration Rare",
          "Special Illustration Rare",
          "Special Illustration Rare",
          "Special Illustration Rare",
          "Special Illustration Rare",
          "Special Illustration Rare",
          "Special Illustration Rare",
          "Special Illustration Rare",
          "Special Illustration Rare",
          "Special Illustration Rare",
          "Special Illustration Rare",
          "Special Illustration Rare",
          "Special Illustration Rare",
          "Special Illustration Rare",
          "Special Illustration Rare",
          "Special Illustration Rare",
          "Special Illustration Rare",
          "Special Illustration Rare",
          "Special Illustration Rare",
          "Special Illustration Rare",
          "Special Illustration Rare",
          "Special Illustration Rare",
          "Special Illustration Rare",
          "Special Illustration Rare",
          "Special Illustration Rare",
          "Special Illustration Rare",
          "Special Illustration Rare",
          "Special Illustration Rare",
          "Special Illustration Rare",
          "Special Illustration Rare",
          "Special Illustration Rare",
          "Special Illustration Rare",
          "Special Illustration Rare",
          "Special Illustration Rare",
          "Special Illustration Rare",
          "Special Illustration Rare",
          "Special Illustration Rare",
          "Special Illustration Rare",
          "Special Illustration Rare",
          "Special Illustration Rare",
          "Special Illustration Rare",
          "Special Illustration Rare",
          "Special Illustration Rare",
          "Special Illustration Rare",
          "Special Illustration Rare",
          "Special Illustration Rare",
          "Special Illustration Rare",
          "Special Illustration Rare",
          "Special Illustration Rare",
          "Special Illustration Rare",
          "Special Illustration Rare",
          "Special Illustration Rare",
          "Special Illustration Rare",
          "Special Illustration Rare",
          "Special Illustration Rare",
          "Special Illustration Rare",
          "Special Illustration Rare",
          "Special Illustration Rare",
          "Special Illustration Rare",
          "Special Illustration Rare",
          "Special Illustration Rare"
         ],
         "x0": " ",
         "xaxis": "x",
         "y": {
          "bdata": "AAAAAACQUUAAAAAAAIBWQAAAAAAAFJdA9ihcj8L1M0BxPQrXowBVQAAAAAAAgE1A4XoUrkcRVUAAAAAAAMBWQI/C9Shc/1dANDMzMzPzOEA0MzMzM/M8QML1KFyPAjtAPgrXo3CdUEAAAAAAACBSQI/C9Shcj1NAfBSuR+H6Q0CamZmZmXlGQDMzMzMzc1RAzszMzMyMPEBwPQrXo7A+QB+F61G4/lRAwvUoXI9CPkDNzMzMzGxTQEjhehSuv2hAAAAAAACAQEAAAAAAAKBRQPYoXI/CDWJAAAAAAACAWEAzMzMzM3NKQML1KFyPgjtA4XoUrkcBQ0AAAAAAAEB7QAAAAAAAUIRAAAAAAACgX0AAAAAAAOBvQAAAAAAA0G5AAAAAAAAgZ0AAAAAAAHhnQAAAAAAAQFBA9yhcj8L1O0A+CtejcP1AQJqZmZmZ+UBAAAAAAACATkAAAAAAAAA2QD4K16NwrVBAmpmZmZn5SEAAAAAAAEBaQHE9CtejgFRAhutRuB7lQEDhehSuRwFEQAAAAAAAADZAcT0K16MwTEDXo3A9CgdRQOF6FK6n5MJAAAAAAABAXUCkcD0K12t0QDQzMzMz8z5A4noUrkeBRkDiehSuRyFNQAAAAAAAgFFAH4XrUbh+QkBI4XoUrp9kQM3MzMzM/FJAXI/C9SjsVkBI4XoUrn9hQM3MzMzMrEBAj8L1KFwPYUAAAAAAACBSQML1KFyPAk9AcD0K16OAVEBxPQrXo0BQQKRwPQrXY0BAcD0K16PwSkD2KFyPwrU7QOxRuB6F6z9AAAAAAAAwfEDNzMzMzIw8QAAAAAAAwFJAAAAAAADAWUAehetRuP5JQFyPwvUoXEZAFK5H4XoMZEAAAAAAAABDQPUoXI/CVVBAPgrXo3D9U0BnZmZmZiZEQM3MzMzMfFRAPgrXo3DdSEDiehSuRwFGQM3MzMzMvFBAmZmZmZkJXECPwvUoXI9DQAAAAAAAgE9AAAAAAABAXUDiehSuRwFFQAAAAAAAAEJAAAAAAABAQECG61G4HsVLQMzMzMzMPFpArkfhehRuUUBcj8L1KMB3QLgehetRSFlAj8L1KFzfcEBSuB6F6zeDQCCF61G48nxAexSuR+HaQ0A0MzMzMxmFQDMzMzMzv3JAPgrXo3D9REA0MzMzM595QJDC9ShcT35A4noUrkepZkBI4XoUrkc8QJqZmZmZ/4NACtejcD3KdEDNzMzMzBCBQDQzMzMzv31AZmZmZmZ+a0A9CtejcM1YQAAAAAAAEGFACtejcD3qSkDXo3A9ChibQDQzMzMzP39AHoXrUbiOYUBSuB6F69lyQMzMzMzMYHRAMzMzMzOPdUAAAAAAALBhQHA9Ctej/HFAPQrXo3A9WkA+CtejcD1VQGZmZmZmHm5AmpmZmZn5SEAAAAAAAPBhQHsUrkfhmktAjsL1KFzfVUDwKFyPwvUbQAAAAAAAgEZAYI/C9ShcPUCgwvUoXI8XQAApXI/C9RNAAAAAAAAAREA=",
          "dtype": "f8"
         },
         "y0": " ",
         "yaxis": "y"
        }
       ],
       "layout": {
        "legend": {
         "title": {
          "text": "ExtRarity"
         },
         "tracegroupgap": 0
        },
        "template": {
         "data": {
          "bar": [
           {
            "error_x": {
             "color": "#2a3f5f"
            },
            "error_y": {
             "color": "#2a3f5f"
            },
            "marker": {
             "line": {
              "color": "#E5ECF6",
              "width": 0.5
             },
             "pattern": {
              "fillmode": "overlay",
              "size": 10,
              "solidity": 0.2
             }
            },
            "type": "bar"
           }
          ],
          "barpolar": [
           {
            "marker": {
             "line": {
              "color": "#E5ECF6",
              "width": 0.5
             },
             "pattern": {
              "fillmode": "overlay",
              "size": 10,
              "solidity": 0.2
             }
            },
            "type": "barpolar"
           }
          ],
          "carpet": [
           {
            "aaxis": {
             "endlinecolor": "#2a3f5f",
             "gridcolor": "white",
             "linecolor": "white",
             "minorgridcolor": "white",
             "startlinecolor": "#2a3f5f"
            },
            "baxis": {
             "endlinecolor": "#2a3f5f",
             "gridcolor": "white",
             "linecolor": "white",
             "minorgridcolor": "white",
             "startlinecolor": "#2a3f5f"
            },
            "type": "carpet"
           }
          ],
          "choropleth": [
           {
            "colorbar": {
             "outlinewidth": 0,
             "ticks": ""
            },
            "type": "choropleth"
           }
          ],
          "contour": [
           {
            "colorbar": {
             "outlinewidth": 0,
             "ticks": ""
            },
            "colorscale": [
             [
              0,
              "#0d0887"
             ],
             [
              0.1111111111111111,
              "#46039f"
             ],
             [
              0.2222222222222222,
              "#7201a8"
             ],
             [
              0.3333333333333333,
              "#9c179e"
             ],
             [
              0.4444444444444444,
              "#bd3786"
             ],
             [
              0.5555555555555556,
              "#d8576b"
             ],
             [
              0.6666666666666666,
              "#ed7953"
             ],
             [
              0.7777777777777778,
              "#fb9f3a"
             ],
             [
              0.8888888888888888,
              "#fdca26"
             ],
             [
              1,
              "#f0f921"
             ]
            ],
            "type": "contour"
           }
          ],
          "contourcarpet": [
           {
            "colorbar": {
             "outlinewidth": 0,
             "ticks": ""
            },
            "type": "contourcarpet"
           }
          ],
          "heatmap": [
           {
            "colorbar": {
             "outlinewidth": 0,
             "ticks": ""
            },
            "colorscale": [
             [
              0,
              "#0d0887"
             ],
             [
              0.1111111111111111,
              "#46039f"
             ],
             [
              0.2222222222222222,
              "#7201a8"
             ],
             [
              0.3333333333333333,
              "#9c179e"
             ],
             [
              0.4444444444444444,
              "#bd3786"
             ],
             [
              0.5555555555555556,
              "#d8576b"
             ],
             [
              0.6666666666666666,
              "#ed7953"
             ],
             [
              0.7777777777777778,
              "#fb9f3a"
             ],
             [
              0.8888888888888888,
              "#fdca26"
             ],
             [
              1,
              "#f0f921"
             ]
            ],
            "type": "heatmap"
           }
          ],
          "histogram": [
           {
            "marker": {
             "pattern": {
              "fillmode": "overlay",
              "size": 10,
              "solidity": 0.2
             }
            },
            "type": "histogram"
           }
          ],
          "histogram2d": [
           {
            "colorbar": {
             "outlinewidth": 0,
             "ticks": ""
            },
            "colorscale": [
             [
              0,
              "#0d0887"
             ],
             [
              0.1111111111111111,
              "#46039f"
             ],
             [
              0.2222222222222222,
              "#7201a8"
             ],
             [
              0.3333333333333333,
              "#9c179e"
             ],
             [
              0.4444444444444444,
              "#bd3786"
             ],
             [
              0.5555555555555556,
              "#d8576b"
             ],
             [
              0.6666666666666666,
              "#ed7953"
             ],
             [
              0.7777777777777778,
              "#fb9f3a"
             ],
             [
              0.8888888888888888,
              "#fdca26"
             ],
             [
              1,
              "#f0f921"
             ]
            ],
            "type": "histogram2d"
           }
          ],
          "histogram2dcontour": [
           {
            "colorbar": {
             "outlinewidth": 0,
             "ticks": ""
            },
            "colorscale": [
             [
              0,
              "#0d0887"
             ],
             [
              0.1111111111111111,
              "#46039f"
             ],
             [
              0.2222222222222222,
              "#7201a8"
             ],
             [
              0.3333333333333333,
              "#9c179e"
             ],
             [
              0.4444444444444444,
              "#bd3786"
             ],
             [
              0.5555555555555556,
              "#d8576b"
             ],
             [
              0.6666666666666666,
              "#ed7953"
             ],
             [
              0.7777777777777778,
              "#fb9f3a"
             ],
             [
              0.8888888888888888,
              "#fdca26"
             ],
             [
              1,
              "#f0f921"
             ]
            ],
            "type": "histogram2dcontour"
           }
          ],
          "mesh3d": [
           {
            "colorbar": {
             "outlinewidth": 0,
             "ticks": ""
            },
            "type": "mesh3d"
           }
          ],
          "parcoords": [
           {
            "line": {
             "colorbar": {
              "outlinewidth": 0,
              "ticks": ""
             }
            },
            "type": "parcoords"
           }
          ],
          "pie": [
           {
            "automargin": true,
            "type": "pie"
           }
          ],
          "scatter": [
           {
            "fillpattern": {
             "fillmode": "overlay",
             "size": 10,
             "solidity": 0.2
            },
            "type": "scatter"
           }
          ],
          "scatter3d": [
           {
            "line": {
             "colorbar": {
              "outlinewidth": 0,
              "ticks": ""
             }
            },
            "marker": {
             "colorbar": {
              "outlinewidth": 0,
              "ticks": ""
             }
            },
            "type": "scatter3d"
           }
          ],
          "scattercarpet": [
           {
            "marker": {
             "colorbar": {
              "outlinewidth": 0,
              "ticks": ""
             }
            },
            "type": "scattercarpet"
           }
          ],
          "scattergeo": [
           {
            "marker": {
             "colorbar": {
              "outlinewidth": 0,
              "ticks": ""
             }
            },
            "type": "scattergeo"
           }
          ],
          "scattergl": [
           {
            "marker": {
             "colorbar": {
              "outlinewidth": 0,
              "ticks": ""
             }
            },
            "type": "scattergl"
           }
          ],
          "scattermap": [
           {
            "marker": {
             "colorbar": {
              "outlinewidth": 0,
              "ticks": ""
             }
            },
            "type": "scattermap"
           }
          ],
          "scattermapbox": [
           {
            "marker": {
             "colorbar": {
              "outlinewidth": 0,
              "ticks": ""
             }
            },
            "type": "scattermapbox"
           }
          ],
          "scatterpolar": [
           {
            "marker": {
             "colorbar": {
              "outlinewidth": 0,
              "ticks": ""
             }
            },
            "type": "scatterpolar"
           }
          ],
          "scatterpolargl": [
           {
            "marker": {
             "colorbar": {
              "outlinewidth": 0,
              "ticks": ""
             }
            },
            "type": "scatterpolargl"
           }
          ],
          "scatterternary": [
           {
            "marker": {
             "colorbar": {
              "outlinewidth": 0,
              "ticks": ""
             }
            },
            "type": "scatterternary"
           }
          ],
          "surface": [
           {
            "colorbar": {
             "outlinewidth": 0,
             "ticks": ""
            },
            "colorscale": [
             [
              0,
              "#0d0887"
             ],
             [
              0.1111111111111111,
              "#46039f"
             ],
             [
              0.2222222222222222,
              "#7201a8"
             ],
             [
              0.3333333333333333,
              "#9c179e"
             ],
             [
              0.4444444444444444,
              "#bd3786"
             ],
             [
              0.5555555555555556,
              "#d8576b"
             ],
             [
              0.6666666666666666,
              "#ed7953"
             ],
             [
              0.7777777777777778,
              "#fb9f3a"
             ],
             [
              0.8888888888888888,
              "#fdca26"
             ],
             [
              1,
              "#f0f921"
             ]
            ],
            "type": "surface"
           }
          ],
          "table": [
           {
            "cells": {
             "fill": {
              "color": "#EBF0F8"
             },
             "line": {
              "color": "white"
             }
            },
            "header": {
             "fill": {
              "color": "#C8D4E3"
             },
             "line": {
              "color": "white"
             }
            },
            "type": "table"
           }
          ]
         },
         "layout": {
          "annotationdefaults": {
           "arrowcolor": "#2a3f5f",
           "arrowhead": 0,
           "arrowwidth": 1
          },
          "autotypenumbers": "strict",
          "coloraxis": {
           "colorbar": {
            "outlinewidth": 0,
            "ticks": ""
           }
          },
          "colorscale": {
           "diverging": [
            [
             0,
             "#8e0152"
            ],
            [
             0.1,
             "#c51b7d"
            ],
            [
             0.2,
             "#de77ae"
            ],
            [
             0.3,
             "#f1b6da"
            ],
            [
             0.4,
             "#fde0ef"
            ],
            [
             0.5,
             "#f7f7f7"
            ],
            [
             0.6,
             "#e6f5d0"
            ],
            [
             0.7,
             "#b8e186"
            ],
            [
             0.8,
             "#7fbc41"
            ],
            [
             0.9,
             "#4d9221"
            ],
            [
             1,
             "#276419"
            ]
           ],
           "sequential": [
            [
             0,
             "#0d0887"
            ],
            [
             0.1111111111111111,
             "#46039f"
            ],
            [
             0.2222222222222222,
             "#7201a8"
            ],
            [
             0.3333333333333333,
             "#9c179e"
            ],
            [
             0.4444444444444444,
             "#bd3786"
            ],
            [
             0.5555555555555556,
             "#d8576b"
            ],
            [
             0.6666666666666666,
             "#ed7953"
            ],
            [
             0.7777777777777778,
             "#fb9f3a"
            ],
            [
             0.8888888888888888,
             "#fdca26"
            ],
            [
             1,
             "#f0f921"
            ]
           ],
           "sequentialminus": [
            [
             0,
             "#0d0887"
            ],
            [
             0.1111111111111111,
             "#46039f"
            ],
            [
             0.2222222222222222,
             "#7201a8"
            ],
            [
             0.3333333333333333,
             "#9c179e"
            ],
            [
             0.4444444444444444,
             "#bd3786"
            ],
            [
             0.5555555555555556,
             "#d8576b"
            ],
            [
             0.6666666666666666,
             "#ed7953"
            ],
            [
             0.7777777777777778,
             "#fb9f3a"
            ],
            [
             0.8888888888888888,
             "#fdca26"
            ],
            [
             1,
             "#f0f921"
            ]
           ]
          },
          "colorway": [
           "#636efa",
           "#EF553B",
           "#00cc96",
           "#ab63fa",
           "#FFA15A",
           "#19d3f3",
           "#FF6692",
           "#B6E880",
           "#FF97FF",
           "#FECB52"
          ],
          "font": {
           "color": "#2a3f5f"
          },
          "geo": {
           "bgcolor": "white",
           "lakecolor": "white",
           "landcolor": "#E5ECF6",
           "showlakes": true,
           "showland": true,
           "subunitcolor": "white"
          },
          "hoverlabel": {
           "align": "left"
          },
          "hovermode": "closest",
          "mapbox": {
           "style": "light"
          },
          "paper_bgcolor": "white",
          "plot_bgcolor": "#E5ECF6",
          "polar": {
           "angularaxis": {
            "gridcolor": "white",
            "linecolor": "white",
            "ticks": ""
           },
           "bgcolor": "#E5ECF6",
           "radialaxis": {
            "gridcolor": "white",
            "linecolor": "white",
            "ticks": ""
           }
          },
          "scene": {
           "xaxis": {
            "backgroundcolor": "#E5ECF6",
            "gridcolor": "white",
            "gridwidth": 2,
            "linecolor": "white",
            "showbackground": true,
            "ticks": "",
            "zerolinecolor": "white"
           },
           "yaxis": {
            "backgroundcolor": "#E5ECF6",
            "gridcolor": "white",
            "gridwidth": 2,
            "linecolor": "white",
            "showbackground": true,
            "ticks": "",
            "zerolinecolor": "white"
           },
           "zaxis": {
            "backgroundcolor": "#E5ECF6",
            "gridcolor": "white",
            "gridwidth": 2,
            "linecolor": "white",
            "showbackground": true,
            "ticks": "",
            "zerolinecolor": "white"
           }
          },
          "shapedefaults": {
           "line": {
            "color": "#2a3f5f"
           }
          },
          "ternary": {
           "aaxis": {
            "gridcolor": "white",
            "linecolor": "white",
            "ticks": ""
           },
           "baxis": {
            "gridcolor": "white",
            "linecolor": "white",
            "ticks": ""
           },
           "bgcolor": "#E5ECF6",
           "caxis": {
            "gridcolor": "white",
            "linecolor": "white",
            "ticks": ""
           }
          },
          "title": {
           "x": 0.05
          },
          "xaxis": {
           "automargin": true,
           "gridcolor": "white",
           "linecolor": "white",
           "ticks": "",
           "title": {
            "standoff": 15
           },
           "zerolinecolor": "white",
           "zerolinewidth": 2
          },
          "yaxis": {
           "automargin": true,
           "gridcolor": "white",
           "linecolor": "white",
           "ticks": "",
           "title": {
            "standoff": 15
           },
           "zerolinecolor": "white",
           "zerolinewidth": 2
          }
         }
        },
        "title": {
         "text": "Volatility grouped by Rarity"
        },
        "violinmode": "overlay",
        "xaxis": {
         "anchor": "y",
         "categoryarray": [
          "Hyper Rare",
          "Illustration Rare",
          "Special Illustration Rare"
         ],
         "categoryorder": "array",
         "domain": [
          0,
          1
         ],
         "title": {
          "text": "ExtRarity"
         }
        },
        "yaxis": {
         "anchor": "x",
         "domain": [
          0,
          1
         ],
         "title": {
          "text": "Volatility"
         }
        }
       }
      },
      "text/html": [
       "<div>                        <script type=\"text/javascript\">window.PlotlyConfig = {MathJaxConfig: 'local'};</script>\n",
       "        <script charset=\"utf-8\" src=\"https://cdn.plot.ly/plotly-3.0.1.min.js\"></script>                <div id=\"9752b798-4649-429c-a4eb-0c146c60ccfe\" class=\"plotly-graph-div\" style=\"height:100%; width:100%;\"></div>            <script type=\"text/javascript\">                window.PLOTLYENV=window.PLOTLYENV || {};                                if (document.getElementById(\"9752b798-4649-429c-a4eb-0c146c60ccfe\")) {                    Plotly.newPlot(                        \"9752b798-4649-429c-a4eb-0c146c60ccfe\",                        [{\"alignmentgroup\":\"True\",\"box\":{\"visible\":true},\"hovertemplate\":\"ExtRarity=%{x}\\u003cbr\\u003eVolatility=%{y}\\u003cextra\\u003e\\u003c\\u002fextra\\u003e\",\"legendgroup\":\"Hyper Rare\",\"marker\":{\"color\":\"#636efa\"},\"name\":\"Hyper Rare\",\"offsetgroup\":\"Hyper Rare\",\"orientation\":\"v\",\"points\":\"all\",\"scalegroup\":\"True\",\"showlegend\":true,\"x\":[\"Hyper Rare\",\"Hyper Rare\",\"Hyper Rare\",\"Hyper Rare\",\"Hyper Rare\",\"Hyper Rare\",\"Hyper Rare\",\"Hyper Rare\",\"Hyper Rare\",\"Hyper Rare\",\"Hyper Rare\",\"Hyper Rare\",\"Hyper Rare\",\"Hyper Rare\",\"Hyper Rare\",\"Hyper Rare\",\"Hyper Rare\",\"Hyper Rare\",\"Hyper Rare\",\"Hyper Rare\",\"Hyper Rare\",\"Hyper Rare\",\"Hyper Rare\",\"Hyper Rare\",\"Hyper Rare\",\"Hyper Rare\",\"Hyper Rare\",\"Hyper Rare\",\"Hyper Rare\",\"Hyper Rare\",\"Hyper Rare\",\"Hyper Rare\",\"Hyper Rare\",\"Hyper Rare\",\"Hyper Rare\",\"Hyper Rare\",\"Hyper Rare\",\"Hyper Rare\",\"Hyper Rare\",\"Hyper Rare\",\"Hyper Rare\",\"Hyper Rare\",\"Hyper Rare\",\"Hyper Rare\",\"Hyper Rare\",\"Hyper Rare\",\"Hyper Rare\",\"Hyper Rare\",\"Hyper Rare\",\"Hyper Rare\",\"Hyper Rare\",\"Hyper Rare\",\"Hyper Rare\",\"Hyper Rare\",\"Hyper Rare\",\"Hyper Rare\",\"Hyper Rare\",\"Hyper Rare\",\"Hyper Rare\",\"Hyper Rare\",\"Hyper Rare\",\"Hyper Rare\",\"Hyper Rare\",\"Hyper Rare\",\"Hyper Rare\",\"Hyper Rare\",\"Hyper Rare\",\"Hyper Rare\"],\"x0\":\" \",\"xaxis\":\"x\",\"y\":{\"dtype\":\"f8\",\"bdata\":\"4XoUrkeBS0AzMzMzMzM5QFyPwvUonDZAAAAAAACAR0C4HoXrUTg4QAAAAAAAAERACtejcD0KL0AzMzMzM\\u002fM5QJqZmZmZmTBAwvUoXI+COUC4HoXrUfg2QF2PwvUoHD9AR+F6FK4HOUDC9ShcjwIyQD0K16Nw\\u002fTlAmpmZmZlJVEAAAAAAAABBQML1KFyPAjZAAAAAAAAAREDsUbgehWszQArXo3A9ijBAcT0K16NAUEBmZmZmZmYwQHI9CtejcDxAKVyPwvVoMUAzMzMzM\\u002fMyQML1KFyPgj9AmZmZmZkZJkC4HoXrUfgzQAAAAAAAAEdAcT0K16NAV0AzMzMzM\\u002fM0QClcj8L1KDlAMzMzMzPjUUAzMzMzM\\u002fMyQClcj8L1aDNAAAAAAABANUAzMzMzM\\u002fM1QJqZmZmZeUpAMzMzMzNzW0A+CtejcP07QPYoXI\\u002fC9TZAHoXrUbi+TUD1KFyPwvUpQD0K16Nw\\u002fTFAZmZmZmbmK0CkcD0K1+NCQAAAAAAAQFZANDMzMzPzPUCamZmZmflIQHwUrkfhekRAXI\\u002fC9Sj8RUA0MzMzM\\u002fM6QAAAAAAAADdA4noUrkcRaED2KFyPwvU\\u002fQITrUbgeBS9AAAAAAACAUECamZmZmflIQAAAAAAAAE5AH4XrUbg+R0A0MzMzM\\u002fM9QOF6FK5HAUJAAAAAAACAb0AAAAAAAABbQAAAAAAAACxAAAAAAAAAREApXI\\u002fC9QhBQA==\"},\"y0\":\" \",\"yaxis\":\"y\",\"type\":\"violin\"},{\"alignmentgroup\":\"True\",\"box\":{\"visible\":true},\"hovertemplate\":\"ExtRarity=%{x}\\u003cbr\\u003eVolatility=%{y}\\u003cextra\\u003e\\u003c\\u002fextra\\u003e\",\"legendgroup\":\"Illustration Rare\",\"marker\":{\"color\":\"#EF553B\"},\"name\":\"Illustration Rare\",\"offsetgroup\":\"Illustration Rare\",\"orientation\":\"v\",\"points\":\"all\",\"scalegroup\":\"True\",\"showlegend\":true,\"x\":[\"Illustration Rare\",\"Illustration Rare\",\"Illustration Rare\",\"Illustration Rare\",\"Illustration Rare\",\"Illustration Rare\",\"Illustration Rare\",\"Illustration Rare\",\"Illustration Rare\",\"Illustration Rare\",\"Illustration Rare\",\"Illustration Rare\",\"Illustration Rare\",\"Illustration Rare\",\"Illustration Rare\",\"Illustration Rare\",\"Illustration Rare\",\"Illustration Rare\",\"Illustration Rare\",\"Illustration Rare\",\"Illustration Rare\",\"Illustration Rare\",\"Illustration Rare\",\"Illustration Rare\",\"Illustration Rare\",\"Illustration Rare\",\"Illustration Rare\",\"Illustration Rare\",\"Illustration Rare\",\"Illustration Rare\",\"Illustration Rare\",\"Illustration Rare\",\"Illustration Rare\",\"Illustration Rare\",\"Illustration Rare\",\"Illustration Rare\",\"Illustration Rare\",\"Illustration Rare\",\"Illustration Rare\",\"Illustration Rare\",\"Illustration Rare\",\"Illustration Rare\",\"Illustration Rare\",\"Illustration Rare\",\"Illustration Rare\",\"Illustration Rare\",\"Illustration Rare\",\"Illustration Rare\",\"Illustration Rare\",\"Illustration Rare\",\"Illustration Rare\",\"Illustration Rare\",\"Illustration Rare\",\"Illustration Rare\",\"Illustration Rare\",\"Illustration Rare\",\"Illustration Rare\",\"Illustration Rare\",\"Illustration Rare\",\"Illustration Rare\",\"Illustration Rare\",\"Illustration Rare\",\"Illustration Rare\",\"Illustration Rare\",\"Illustration Rare\",\"Illustration Rare\",\"Illustration Rare\",\"Illustration Rare\",\"Illustration Rare\",\"Illustration Rare\",\"Illustration Rare\",\"Illustration Rare\",\"Illustration Rare\",\"Illustration Rare\",\"Illustration Rare\",\"Illustration Rare\",\"Illustration Rare\",\"Illustration Rare\",\"Illustration Rare\",\"Illustration Rare\",\"Illustration Rare\",\"Illustration Rare\",\"Illustration Rare\",\"Illustration Rare\",\"Illustration Rare\",\"Illustration Rare\",\"Illustration Rare\",\"Illustration Rare\",\"Illustration Rare\",\"Illustration Rare\",\"Illustration Rare\",\"Illustration Rare\",\"Illustration Rare\",\"Illustration Rare\",\"Illustration Rare\",\"Illustration Rare\",\"Illustration Rare\",\"Illustration Rare\",\"Illustration Rare\",\"Illustration Rare\",\"Illustration Rare\",\"Illustration Rare\",\"Illustration Rare\",\"Illustration Rare\",\"Illustration Rare\",\"Illustration Rare\",\"Illustration Rare\",\"Illustration Rare\",\"Illustration Rare\",\"Illustration Rare\",\"Illustration Rare\",\"Illustration Rare\",\"Illustration Rare\",\"Illustration Rare\",\"Illustration Rare\",\"Illustration Rare\",\"Illustration Rare\",\"Illustration Rare\",\"Illustration Rare\",\"Illustration Rare\",\"Illustration Rare\",\"Illustration Rare\",\"Illustration Rare\",\"Illustration Rare\",\"Illustration Rare\",\"Illustration Rare\",\"Illustration Rare\",\"Illustration Rare\",\"Illustration Rare\",\"Illustration Rare\",\"Illustration Rare\",\"Illustration Rare\",\"Illustration Rare\",\"Illustration Rare\",\"Illustration Rare\",\"Illustration Rare\",\"Illustration Rare\",\"Illustration Rare\",\"Illustration Rare\",\"Illustration Rare\",\"Illustration Rare\",\"Illustration Rare\",\"Illustration Rare\",\"Illustration Rare\",\"Illustration Rare\",\"Illustration Rare\",\"Illustration Rare\",\"Illustration Rare\",\"Illustration Rare\",\"Illustration Rare\",\"Illustration Rare\",\"Illustration Rare\",\"Illustration Rare\",\"Illustration Rare\",\"Illustration Rare\",\"Illustration Rare\",\"Illustration Rare\",\"Illustration Rare\",\"Illustration Rare\",\"Illustration Rare\",\"Illustration Rare\",\"Illustration Rare\",\"Illustration Rare\",\"Illustration Rare\",\"Illustration Rare\",\"Illustration Rare\",\"Illustration Rare\",\"Illustration Rare\",\"Illustration Rare\",\"Illustration Rare\",\"Illustration Rare\",\"Illustration Rare\",\"Illustration Rare\",\"Illustration Rare\",\"Illustration Rare\",\"Illustration Rare\",\"Illustration Rare\",\"Illustration Rare\",\"Illustration Rare\",\"Illustration Rare\",\"Illustration Rare\",\"Illustration Rare\",\"Illustration Rare\",\"Illustration Rare\",\"Illustration Rare\",\"Illustration Rare\",\"Illustration Rare\",\"Illustration Rare\",\"Illustration Rare\",\"Illustration Rare\",\"Illustration Rare\",\"Illustration Rare\",\"Illustration Rare\",\"Illustration Rare\",\"Illustration Rare\",\"Illustration Rare\",\"Illustration Rare\",\"Illustration Rare\",\"Illustration Rare\",\"Illustration Rare\",\"Illustration Rare\",\"Illustration Rare\",\"Illustration Rare\",\"Illustration Rare\",\"Illustration Rare\",\"Illustration Rare\",\"Illustration Rare\",\"Illustration Rare\",\"Illustration Rare\",\"Illustration Rare\",\"Illustration Rare\",\"Illustration Rare\",\"Illustration Rare\",\"Illustration Rare\",\"Illustration Rare\",\"Illustration Rare\",\"Illustration Rare\",\"Illustration Rare\",\"Illustration Rare\",\"Illustration Rare\",\"Illustration Rare\",\"Illustration Rare\",\"Illustration Rare\",\"Illustration Rare\",\"Illustration Rare\",\"Illustration Rare\",\"Illustration Rare\",\"Illustration Rare\",\"Illustration Rare\",\"Illustration Rare\",\"Illustration Rare\"],\"x0\":\" \",\"xaxis\":\"x\",\"y\":{\"dtype\":\"f8\",\"bdata\":\"cT0K16PAUUCamZmZmVlEQAAAAAAAQEpAwvUoXI8COkCZmZmZmRksQFyPwvUo3C1AAAAAAAAASEAAAAAAAABUQDMzMzMzczdAAAAAAADgcEAAAAAAAIA2QAAAAAAAAFhA9ihcj8IlYUAAAAAAAEBYQAAAAAAAAFlAAAAAAADAVkAAAAAAAEBTQAAAAAAAgDpAmpmZmZm5QUA9CtejcH0xQBSuR+F61FdAH4XrUbj+SEAAAAAAAFBVQGZmZmZmxkpAAQAAAADAP0AAAAAAAIAyQAAAAAAAsFRAcD0K16OwP0DNzMzMzMxBQAAAAAAAgDZAH4XrUbh+REAAAAAAAEBTQPYoXI\\u002fC9ThAAAAAAACAeUA0MzMzMxNNQOxRuB6FK01AzszMzMwMO0Bcj8L1KBw2QI\\u002fC9ShcP1ZApHA9CtfzUEBI4XoUrl9gQM3MzMzM\\u002fFNAH4XrUbj+REAzMzMzM3MzQHwUrkfhej9AAAAAAACATEA+CtejcP0\\u002fQB+F61G4HkdAMjMzMzOzP0A0MzMzM\\u002fM5QJqZmZmZGTVAAAAAAABARUCPwvUoXP9TQAAAAAAAgD5AZmZmZmbmLkCuR+F6FA5BQIXrUbh+e8NAAAAAAADgV0BSuB6F69E1QAAAAAAAwFdAFK5H4Xp0VkAAAAAAAOBUQAAAAAAAAFJAAAAAAACANkDhehSuRwFVQAAAAAAAMFhASOF6FK5HT0AAAAAAAEBFQK5H4XoUrjxAAAAAAABAV0AAAAAAAABVQM3MzMzMTEJA4noUrkeRVUCkcD0K1zNwQAAAAAAAwFdAcD0K16NAV0AK16NwPUpSQNejcD0Kh1ZAAAAAAAAAXkAzMzMzMyuaQBSuR+F6lFZAAAAAAADAV0BxPQrXo0BQQHE9CtejQFdAAAAAAABAVEAAAAAAAABKQAAAAAAAAFdAmpmZmZn5TkAUrkfhehQwQHE9Ctej4FFAH4XrUbgOUUCPwvUoXI9VQNejcD0Kx1ZA4XoUrkeBR0C4HoXrUUhQQLkehetRuDdAAAAAAAAAOUAAAAAAAAAzQAAAAAAAAERAmpmZmZn5Q0AAAAAAAAAzQDMzMzMz8zVArkfhehQuMkAAAAAAAAA2QKRwPQrXz3ZAAAAAAAAAV0CkcD0K1+M1QAAAAAAAgDlAAAAAAAAARkA0MzMzM\\u002fM6QM3MzMzMjEhASOF6FK6nRUAAAAAAAEBNQAAAAAAAAFJArkfhehQuKkDC9ShcjwI3QIXrUbgeBUVAfBSuR+E6OUAfhetRuL5BQLgehetRWEFAH4XrUbheSkCF61G4HgU2QEjhehSuJ0FAZmZmZmZmLEBxPQrXo3AuQJqZmZmZWUBAAAAAAADASUBxPQrXo8BUQAAAAAAAAE1AAAAAAADAQED2KFyPwjU5QAAAAAAAADBAMzMzMzMzOEApXI\\u002fC9ShAQHsUrkfh+ilAMzMzMzMzMkAAAAAAAAA0QEfhehSuxyxAj8L1KFx\\u002fUEBI4XoUro9jQGdmZmZmRk5A16NwPQrHUUCG61G4HkVDQAAAAAAAgEBA7FG4HoUrQEAAAAAAgEnEQD4K16Nw\\u002fT5AH4XrUbgeQ0AAAAAAAAA0QIXrUbgeBS1AexSuR+G6OkCkcD0K13NYQI\\u002fC9ShcT1tAMzMzMzOzM0DC9ShcjwJBQML1KFyPQjFA7FG4HoXrL0DD9ShcjwI8QKRwPQrXQ0pAMzMzMzMzNUAAAAAAAIBOQAAAAAAAADJAzczMzMxMMEAzMzMzMxNYQAAAAAAAADhA9ihcj8J1S0AehetRuP5IQAAAAAAAAGVAPgrXo3B9MUDiehSuR0FbQAAAAAAAwERA4noUrkfBUkAAAAAAAABJQAAAAAAAAE5AAAAAAAAATEA+CtejcP09QAAAAAAAPIxAAAAAAADATEAAAAAAAIBCQI\\u002fC9ShcDzZANDMzMzMzOkD\\u002f\\u002f\\u002f\\u002f\\u002f\\u002f09ZQML1KFyPAjhApHA9CtfTYkAAAAAAAMA6QOF6FK5HgUlAAAAAAACAL0Bcj8L1KNxCQAAAAAAAoGFA4XoUrkeBR0AAAAAAAABKQNejcD0Kl0lAUrgehesvg0BxPQrXo1BCQBSuR+F69FdAAAAAAACAWEAAAAAAAABAQAAAAAAAAC5A2KNwPQpXPkAAAAAAAAAwQHsUrkfhOjZAAAAAAACAUUDC9Shcj4I2QAAAAAAAwDRAAAAAAADAV0AAAAAAAABBQOtRuB6FqzNA4XoUrkdhOEDsUbgehWsvQHE9CtejAFRAAAAAAADAVkAAAAAAAMBXQM3MzMzMzDVAmpmZmZl5REAAAAAAAIBEQML1KFyPAkVAUrgehetxUkCjcD0K1yM7QI\\u002fC9ShcDzZAuB6F61G4GUCkcD0K14NGQLgehetR+DVAaGZmZmZmHUDD9ShcjwIwQPQoXI\\u002fC9R1AC9ejcD0KM0DMzMzMzIxGQM3MzMzMjDdAPgrXo3A9GEDoUbgehesPQHwUrkfh+iNA\"},\"y0\":\" \",\"yaxis\":\"y\",\"type\":\"violin\"},{\"alignmentgroup\":\"True\",\"box\":{\"visible\":true},\"hovertemplate\":\"ExtRarity=%{x}\\u003cbr\\u003eVolatility=%{y}\\u003cextra\\u003e\\u003c\\u002fextra\\u003e\",\"legendgroup\":\"Special Illustration Rare\",\"marker\":{\"color\":\"#00cc96\"},\"name\":\"Special Illustration Rare\",\"offsetgroup\":\"Special Illustration Rare\",\"orientation\":\"v\",\"points\":\"all\",\"scalegroup\":\"True\",\"showlegend\":true,\"x\":[\"Special Illustration Rare\",\"Special Illustration Rare\",\"Special Illustration Rare\",\"Special Illustration Rare\",\"Special Illustration Rare\",\"Special Illustration Rare\",\"Special Illustration Rare\",\"Special Illustration Rare\",\"Special Illustration Rare\",\"Special Illustration Rare\",\"Special Illustration Rare\",\"Special Illustration Rare\",\"Special Illustration Rare\",\"Special Illustration Rare\",\"Special Illustration Rare\",\"Special Illustration Rare\",\"Special Illustration Rare\",\"Special Illustration Rare\",\"Special Illustration Rare\",\"Special Illustration Rare\",\"Special Illustration Rare\",\"Special Illustration Rare\",\"Special Illustration Rare\",\"Special Illustration Rare\",\"Special Illustration Rare\",\"Special Illustration Rare\",\"Special Illustration Rare\",\"Special Illustration Rare\",\"Special Illustration Rare\",\"Special Illustration Rare\",\"Special Illustration Rare\",\"Special Illustration Rare\",\"Special Illustration Rare\",\"Special Illustration Rare\",\"Special Illustration Rare\",\"Special Illustration Rare\",\"Special Illustration Rare\",\"Special Illustration Rare\",\"Special Illustration Rare\",\"Special Illustration Rare\",\"Special Illustration Rare\",\"Special Illustration Rare\",\"Special Illustration Rare\",\"Special Illustration Rare\",\"Special Illustration Rare\",\"Special Illustration Rare\",\"Special Illustration Rare\",\"Special Illustration Rare\",\"Special Illustration Rare\",\"Special Illustration Rare\",\"Special Illustration Rare\",\"Special Illustration Rare\",\"Special Illustration Rare\",\"Special Illustration Rare\",\"Special Illustration Rare\",\"Special Illustration Rare\",\"Special Illustration Rare\",\"Special Illustration Rare\",\"Special Illustration Rare\",\"Special Illustration Rare\",\"Special Illustration Rare\",\"Special Illustration Rare\",\"Special Illustration Rare\",\"Special Illustration Rare\",\"Special Illustration Rare\",\"Special Illustration Rare\",\"Special Illustration Rare\",\"Special Illustration Rare\",\"Special Illustration Rare\",\"Special Illustration Rare\",\"Special Illustration Rare\",\"Special Illustration Rare\",\"Special Illustration Rare\",\"Special Illustration Rare\",\"Special Illustration Rare\",\"Special Illustration Rare\",\"Special Illustration Rare\",\"Special Illustration Rare\",\"Special Illustration Rare\",\"Special Illustration Rare\",\"Special Illustration Rare\",\"Special Illustration Rare\",\"Special Illustration Rare\",\"Special Illustration Rare\",\"Special Illustration Rare\",\"Special Illustration Rare\",\"Special Illustration Rare\",\"Special Illustration Rare\",\"Special Illustration Rare\",\"Special Illustration Rare\",\"Special Illustration Rare\",\"Special Illustration Rare\",\"Special Illustration Rare\",\"Special Illustration Rare\",\"Special Illustration Rare\",\"Special Illustration Rare\",\"Special Illustration Rare\",\"Special Illustration Rare\",\"Special Illustration Rare\",\"Special Illustration Rare\",\"Special Illustration Rare\",\"Special Illustration Rare\",\"Special Illustration Rare\",\"Special Illustration Rare\",\"Special Illustration Rare\",\"Special Illustration Rare\",\"Special Illustration Rare\",\"Special Illustration Rare\",\"Special Illustration Rare\",\"Special Illustration Rare\",\"Special Illustration Rare\",\"Special Illustration Rare\",\"Special Illustration Rare\",\"Special Illustration Rare\",\"Special Illustration Rare\",\"Special Illustration Rare\",\"Special Illustration Rare\",\"Special Illustration Rare\",\"Special Illustration Rare\",\"Special Illustration Rare\",\"Special Illustration Rare\",\"Special Illustration Rare\",\"Special Illustration Rare\",\"Special Illustration Rare\",\"Special Illustration Rare\",\"Special Illustration Rare\",\"Special Illustration Rare\",\"Special Illustration Rare\",\"Special Illustration Rare\",\"Special Illustration Rare\",\"Special Illustration Rare\",\"Special Illustration Rare\",\"Special Illustration Rare\",\"Special Illustration Rare\",\"Special Illustration Rare\",\"Special Illustration Rare\",\"Special Illustration Rare\",\"Special Illustration Rare\",\"Special Illustration Rare\",\"Special Illustration Rare\",\"Special Illustration Rare\",\"Special Illustration Rare\"],\"x0\":\" \",\"xaxis\":\"x\",\"y\":{\"dtype\":\"f8\",\"bdata\":\"AAAAAACQUUAAAAAAAIBWQAAAAAAAFJdA9ihcj8L1M0BxPQrXowBVQAAAAAAAgE1A4XoUrkcRVUAAAAAAAMBWQI\\u002fC9Shc\\u002f1dANDMzMzPzOEA0MzMzM\\u002fM8QML1KFyPAjtAPgrXo3CdUEAAAAAAACBSQI\\u002fC9Shcj1NAfBSuR+H6Q0CamZmZmXlGQDMzMzMzc1RAzszMzMyMPEBwPQrXo7A+QB+F61G4\\u002flRAwvUoXI9CPkDNzMzMzGxTQEjhehSuv2hAAAAAAACAQEAAAAAAAKBRQPYoXI\\u002fCDWJAAAAAAACAWEAzMzMzM3NKQML1KFyPgjtA4XoUrkcBQ0AAAAAAAEB7QAAAAAAAUIRAAAAAAACgX0AAAAAAAOBvQAAAAAAA0G5AAAAAAAAgZ0AAAAAAAHhnQAAAAAAAQFBA9yhcj8L1O0A+CtejcP1AQJqZmZmZ+UBAAAAAAACATkAAAAAAAAA2QD4K16NwrVBAmpmZmZn5SEAAAAAAAEBaQHE9CtejgFRAhutRuB7lQEDhehSuRwFEQAAAAAAAADZAcT0K16MwTEDXo3A9CgdRQOF6FK6n5MJAAAAAAABAXUCkcD0K12t0QDQzMzMz8z5A4noUrkeBRkDiehSuRyFNQAAAAAAAgFFAH4XrUbh+QkBI4XoUrp9kQM3MzMzM\\u002fFJAXI\\u002fC9SjsVkBI4XoUrn9hQM3MzMzMrEBAj8L1KFwPYUAAAAAAACBSQML1KFyPAk9AcD0K16OAVEBxPQrXo0BQQKRwPQrXY0BAcD0K16PwSkD2KFyPwrU7QOxRuB6F6z9AAAAAAAAwfEDNzMzMzIw8QAAAAAAAwFJAAAAAAADAWUAehetRuP5JQFyPwvUoXEZAFK5H4XoMZEAAAAAAAABDQPUoXI\\u002fCVVBAPgrXo3D9U0BnZmZmZiZEQM3MzMzMfFRAPgrXo3DdSEDiehSuRwFGQM3MzMzMvFBAmZmZmZkJXECPwvUoXI9DQAAAAAAAgE9AAAAAAABAXUDiehSuRwFFQAAAAAAAAEJAAAAAAABAQECG61G4HsVLQMzMzMzMPFpArkfhehRuUUBcj8L1KMB3QLgehetRSFlAj8L1KFzfcEBSuB6F6zeDQCCF61G48nxAexSuR+HaQ0A0MzMzMxmFQDMzMzMzv3JAPgrXo3D9REA0MzMzM595QJDC9ShcT35A4noUrkepZkBI4XoUrkc8QJqZmZmZ\\u002f4NACtejcD3KdEDNzMzMzBCBQDQzMzMzv31AZmZmZmZ+a0A9CtejcM1YQAAAAAAAEGFACtejcD3qSkDXo3A9ChibQDQzMzMzP39AHoXrUbiOYUBSuB6F69lyQMzMzMzMYHRAMzMzMzOPdUAAAAAAALBhQHA9Ctej\\u002fHFAPQrXo3A9WkA+CtejcD1VQGZmZmZmHm5AmpmZmZn5SEAAAAAAAPBhQHsUrkfhmktAjsL1KFzfVUDwKFyPwvUbQAAAAAAAgEZAYI\\u002fC9ShcPUCgwvUoXI8XQAApXI\\u002fC9RNAAAAAAAAAREA=\"},\"y0\":\" \",\"yaxis\":\"y\",\"type\":\"violin\"}],                        {\"template\":{\"data\":{\"histogram2dcontour\":[{\"type\":\"histogram2dcontour\",\"colorbar\":{\"outlinewidth\":0,\"ticks\":\"\"},\"colorscale\":[[0.0,\"#0d0887\"],[0.1111111111111111,\"#46039f\"],[0.2222222222222222,\"#7201a8\"],[0.3333333333333333,\"#9c179e\"],[0.4444444444444444,\"#bd3786\"],[0.5555555555555556,\"#d8576b\"],[0.6666666666666666,\"#ed7953\"],[0.7777777777777778,\"#fb9f3a\"],[0.8888888888888888,\"#fdca26\"],[1.0,\"#f0f921\"]]}],\"choropleth\":[{\"type\":\"choropleth\",\"colorbar\":{\"outlinewidth\":0,\"ticks\":\"\"}}],\"histogram2d\":[{\"type\":\"histogram2d\",\"colorbar\":{\"outlinewidth\":0,\"ticks\":\"\"},\"colorscale\":[[0.0,\"#0d0887\"],[0.1111111111111111,\"#46039f\"],[0.2222222222222222,\"#7201a8\"],[0.3333333333333333,\"#9c179e\"],[0.4444444444444444,\"#bd3786\"],[0.5555555555555556,\"#d8576b\"],[0.6666666666666666,\"#ed7953\"],[0.7777777777777778,\"#fb9f3a\"],[0.8888888888888888,\"#fdca26\"],[1.0,\"#f0f921\"]]}],\"heatmap\":[{\"type\":\"heatmap\",\"colorbar\":{\"outlinewidth\":0,\"ticks\":\"\"},\"colorscale\":[[0.0,\"#0d0887\"],[0.1111111111111111,\"#46039f\"],[0.2222222222222222,\"#7201a8\"],[0.3333333333333333,\"#9c179e\"],[0.4444444444444444,\"#bd3786\"],[0.5555555555555556,\"#d8576b\"],[0.6666666666666666,\"#ed7953\"],[0.7777777777777778,\"#fb9f3a\"],[0.8888888888888888,\"#fdca26\"],[1.0,\"#f0f921\"]]}],\"contourcarpet\":[{\"type\":\"contourcarpet\",\"colorbar\":{\"outlinewidth\":0,\"ticks\":\"\"}}],\"contour\":[{\"type\":\"contour\",\"colorbar\":{\"outlinewidth\":0,\"ticks\":\"\"},\"colorscale\":[[0.0,\"#0d0887\"],[0.1111111111111111,\"#46039f\"],[0.2222222222222222,\"#7201a8\"],[0.3333333333333333,\"#9c179e\"],[0.4444444444444444,\"#bd3786\"],[0.5555555555555556,\"#d8576b\"],[0.6666666666666666,\"#ed7953\"],[0.7777777777777778,\"#fb9f3a\"],[0.8888888888888888,\"#fdca26\"],[1.0,\"#f0f921\"]]}],\"surface\":[{\"type\":\"surface\",\"colorbar\":{\"outlinewidth\":0,\"ticks\":\"\"},\"colorscale\":[[0.0,\"#0d0887\"],[0.1111111111111111,\"#46039f\"],[0.2222222222222222,\"#7201a8\"],[0.3333333333333333,\"#9c179e\"],[0.4444444444444444,\"#bd3786\"],[0.5555555555555556,\"#d8576b\"],[0.6666666666666666,\"#ed7953\"],[0.7777777777777778,\"#fb9f3a\"],[0.8888888888888888,\"#fdca26\"],[1.0,\"#f0f921\"]]}],\"mesh3d\":[{\"type\":\"mesh3d\",\"colorbar\":{\"outlinewidth\":0,\"ticks\":\"\"}}],\"scatter\":[{\"fillpattern\":{\"fillmode\":\"overlay\",\"size\":10,\"solidity\":0.2},\"type\":\"scatter\"}],\"parcoords\":[{\"type\":\"parcoords\",\"line\":{\"colorbar\":{\"outlinewidth\":0,\"ticks\":\"\"}}}],\"scatterpolargl\":[{\"type\":\"scatterpolargl\",\"marker\":{\"colorbar\":{\"outlinewidth\":0,\"ticks\":\"\"}}}],\"bar\":[{\"error_x\":{\"color\":\"#2a3f5f\"},\"error_y\":{\"color\":\"#2a3f5f\"},\"marker\":{\"line\":{\"color\":\"#E5ECF6\",\"width\":0.5},\"pattern\":{\"fillmode\":\"overlay\",\"size\":10,\"solidity\":0.2}},\"type\":\"bar\"}],\"scattergeo\":[{\"type\":\"scattergeo\",\"marker\":{\"colorbar\":{\"outlinewidth\":0,\"ticks\":\"\"}}}],\"scatterpolar\":[{\"type\":\"scatterpolar\",\"marker\":{\"colorbar\":{\"outlinewidth\":0,\"ticks\":\"\"}}}],\"histogram\":[{\"marker\":{\"pattern\":{\"fillmode\":\"overlay\",\"size\":10,\"solidity\":0.2}},\"type\":\"histogram\"}],\"scattergl\":[{\"type\":\"scattergl\",\"marker\":{\"colorbar\":{\"outlinewidth\":0,\"ticks\":\"\"}}}],\"scatter3d\":[{\"type\":\"scatter3d\",\"line\":{\"colorbar\":{\"outlinewidth\":0,\"ticks\":\"\"}},\"marker\":{\"colorbar\":{\"outlinewidth\":0,\"ticks\":\"\"}}}],\"scattermap\":[{\"type\":\"scattermap\",\"marker\":{\"colorbar\":{\"outlinewidth\":0,\"ticks\":\"\"}}}],\"scattermapbox\":[{\"type\":\"scattermapbox\",\"marker\":{\"colorbar\":{\"outlinewidth\":0,\"ticks\":\"\"}}}],\"scatterternary\":[{\"type\":\"scatterternary\",\"marker\":{\"colorbar\":{\"outlinewidth\":0,\"ticks\":\"\"}}}],\"scattercarpet\":[{\"type\":\"scattercarpet\",\"marker\":{\"colorbar\":{\"outlinewidth\":0,\"ticks\":\"\"}}}],\"carpet\":[{\"aaxis\":{\"endlinecolor\":\"#2a3f5f\",\"gridcolor\":\"white\",\"linecolor\":\"white\",\"minorgridcolor\":\"white\",\"startlinecolor\":\"#2a3f5f\"},\"baxis\":{\"endlinecolor\":\"#2a3f5f\",\"gridcolor\":\"white\",\"linecolor\":\"white\",\"minorgridcolor\":\"white\",\"startlinecolor\":\"#2a3f5f\"},\"type\":\"carpet\"}],\"table\":[{\"cells\":{\"fill\":{\"color\":\"#EBF0F8\"},\"line\":{\"color\":\"white\"}},\"header\":{\"fill\":{\"color\":\"#C8D4E3\"},\"line\":{\"color\":\"white\"}},\"type\":\"table\"}],\"barpolar\":[{\"marker\":{\"line\":{\"color\":\"#E5ECF6\",\"width\":0.5},\"pattern\":{\"fillmode\":\"overlay\",\"size\":10,\"solidity\":0.2}},\"type\":\"barpolar\"}],\"pie\":[{\"automargin\":true,\"type\":\"pie\"}]},\"layout\":{\"autotypenumbers\":\"strict\",\"colorway\":[\"#636efa\",\"#EF553B\",\"#00cc96\",\"#ab63fa\",\"#FFA15A\",\"#19d3f3\",\"#FF6692\",\"#B6E880\",\"#FF97FF\",\"#FECB52\"],\"font\":{\"color\":\"#2a3f5f\"},\"hovermode\":\"closest\",\"hoverlabel\":{\"align\":\"left\"},\"paper_bgcolor\":\"white\",\"plot_bgcolor\":\"#E5ECF6\",\"polar\":{\"bgcolor\":\"#E5ECF6\",\"angularaxis\":{\"gridcolor\":\"white\",\"linecolor\":\"white\",\"ticks\":\"\"},\"radialaxis\":{\"gridcolor\":\"white\",\"linecolor\":\"white\",\"ticks\":\"\"}},\"ternary\":{\"bgcolor\":\"#E5ECF6\",\"aaxis\":{\"gridcolor\":\"white\",\"linecolor\":\"white\",\"ticks\":\"\"},\"baxis\":{\"gridcolor\":\"white\",\"linecolor\":\"white\",\"ticks\":\"\"},\"caxis\":{\"gridcolor\":\"white\",\"linecolor\":\"white\",\"ticks\":\"\"}},\"coloraxis\":{\"colorbar\":{\"outlinewidth\":0,\"ticks\":\"\"}},\"colorscale\":{\"sequential\":[[0.0,\"#0d0887\"],[0.1111111111111111,\"#46039f\"],[0.2222222222222222,\"#7201a8\"],[0.3333333333333333,\"#9c179e\"],[0.4444444444444444,\"#bd3786\"],[0.5555555555555556,\"#d8576b\"],[0.6666666666666666,\"#ed7953\"],[0.7777777777777778,\"#fb9f3a\"],[0.8888888888888888,\"#fdca26\"],[1.0,\"#f0f921\"]],\"sequentialminus\":[[0.0,\"#0d0887\"],[0.1111111111111111,\"#46039f\"],[0.2222222222222222,\"#7201a8\"],[0.3333333333333333,\"#9c179e\"],[0.4444444444444444,\"#bd3786\"],[0.5555555555555556,\"#d8576b\"],[0.6666666666666666,\"#ed7953\"],[0.7777777777777778,\"#fb9f3a\"],[0.8888888888888888,\"#fdca26\"],[1.0,\"#f0f921\"]],\"diverging\":[[0,\"#8e0152\"],[0.1,\"#c51b7d\"],[0.2,\"#de77ae\"],[0.3,\"#f1b6da\"],[0.4,\"#fde0ef\"],[0.5,\"#f7f7f7\"],[0.6,\"#e6f5d0\"],[0.7,\"#b8e186\"],[0.8,\"#7fbc41\"],[0.9,\"#4d9221\"],[1,\"#276419\"]]},\"xaxis\":{\"gridcolor\":\"white\",\"linecolor\":\"white\",\"ticks\":\"\",\"title\":{\"standoff\":15},\"zerolinecolor\":\"white\",\"automargin\":true,\"zerolinewidth\":2},\"yaxis\":{\"gridcolor\":\"white\",\"linecolor\":\"white\",\"ticks\":\"\",\"title\":{\"standoff\":15},\"zerolinecolor\":\"white\",\"automargin\":true,\"zerolinewidth\":2},\"scene\":{\"xaxis\":{\"backgroundcolor\":\"#E5ECF6\",\"gridcolor\":\"white\",\"linecolor\":\"white\",\"showbackground\":true,\"ticks\":\"\",\"zerolinecolor\":\"white\",\"gridwidth\":2},\"yaxis\":{\"backgroundcolor\":\"#E5ECF6\",\"gridcolor\":\"white\",\"linecolor\":\"white\",\"showbackground\":true,\"ticks\":\"\",\"zerolinecolor\":\"white\",\"gridwidth\":2},\"zaxis\":{\"backgroundcolor\":\"#E5ECF6\",\"gridcolor\":\"white\",\"linecolor\":\"white\",\"showbackground\":true,\"ticks\":\"\",\"zerolinecolor\":\"white\",\"gridwidth\":2}},\"shapedefaults\":{\"line\":{\"color\":\"#2a3f5f\"}},\"annotationdefaults\":{\"arrowcolor\":\"#2a3f5f\",\"arrowhead\":0,\"arrowwidth\":1},\"geo\":{\"bgcolor\":\"white\",\"landcolor\":\"#E5ECF6\",\"subunitcolor\":\"white\",\"showland\":true,\"showlakes\":true,\"lakecolor\":\"white\"},\"title\":{\"x\":0.05},\"mapbox\":{\"style\":\"light\"}}},\"xaxis\":{\"anchor\":\"y\",\"domain\":[0.0,1.0],\"title\":{\"text\":\"ExtRarity\"},\"categoryorder\":\"array\",\"categoryarray\":[\"Hyper Rare\",\"Illustration Rare\",\"Special Illustration Rare\"]},\"yaxis\":{\"anchor\":\"x\",\"domain\":[0.0,1.0],\"title\":{\"text\":\"Volatility\"}},\"legend\":{\"title\":{\"text\":\"ExtRarity\"},\"tracegroupgap\":0},\"title\":{\"text\":\"Volatility grouped by Rarity\"},\"violinmode\":\"overlay\"},                        {\"responsive\": true}                    )                };            </script>        </div>"
      ],
      "text/plain": [
       "Figure({\n",
       "    'data': [{'alignmentgroup': 'True',\n",
       "              'box': {'visible': True},\n",
       "              'hovertemplate': 'ExtRarity=%{x}<br>Volatility=%{y}<extra></extra>',\n",
       "              'legendgroup': 'Hyper Rare',\n",
       "              'marker': {'color': '#636efa'},\n",
       "              'name': 'Hyper Rare',\n",
       "              'offsetgroup': 'Hyper Rare',\n",
       "              'orientation': 'v',\n",
       "              'points': 'all',\n",
       "              'scalegroup': 'True',\n",
       "              'showlegend': True,\n",
       "              'type': 'violin',\n",
       "              'x': array(['Hyper Rare', 'Hyper Rare', 'Hyper Rare', 'Hyper Rare', 'Hyper Rare',\n",
       "                          'Hyper Rare', 'Hyper Rare', 'Hyper Rare', 'Hyper Rare', 'Hyper Rare',\n",
       "                          'Hyper Rare', 'Hyper Rare', 'Hyper Rare', 'Hyper Rare', 'Hyper Rare',\n",
       "                          'Hyper Rare', 'Hyper Rare', 'Hyper Rare', 'Hyper Rare', 'Hyper Rare',\n",
       "                          'Hyper Rare', 'Hyper Rare', 'Hyper Rare', 'Hyper Rare', 'Hyper Rare',\n",
       "                          'Hyper Rare', 'Hyper Rare', 'Hyper Rare', 'Hyper Rare', 'Hyper Rare',\n",
       "                          'Hyper Rare', 'Hyper Rare', 'Hyper Rare', 'Hyper Rare', 'Hyper Rare',\n",
       "                          'Hyper Rare', 'Hyper Rare', 'Hyper Rare', 'Hyper Rare', 'Hyper Rare',\n",
       "                          'Hyper Rare', 'Hyper Rare', 'Hyper Rare', 'Hyper Rare', 'Hyper Rare',\n",
       "                          'Hyper Rare', 'Hyper Rare', 'Hyper Rare', 'Hyper Rare', 'Hyper Rare',\n",
       "                          'Hyper Rare', 'Hyper Rare', 'Hyper Rare', 'Hyper Rare', 'Hyper Rare',\n",
       "                          'Hyper Rare', 'Hyper Rare', 'Hyper Rare', 'Hyper Rare', 'Hyper Rare',\n",
       "                          'Hyper Rare', 'Hyper Rare', 'Hyper Rare', 'Hyper Rare', 'Hyper Rare',\n",
       "                          'Hyper Rare', 'Hyper Rare', 'Hyper Rare'], dtype=object),\n",
       "              'x0': ' ',\n",
       "              'xaxis': 'x',\n",
       "              'y': {'bdata': ('4XoUrkeBS0AzMzMzMzM5QFyPwvUonD' ... 'AAACxAAAAAAAAAREApXI/C9QhBQA=='),\n",
       "                    'dtype': 'f8'},\n",
       "              'y0': ' ',\n",
       "              'yaxis': 'y'},\n",
       "             {'alignmentgroup': 'True',\n",
       "              'box': {'visible': True},\n",
       "              'hovertemplate': 'ExtRarity=%{x}<br>Volatility=%{y}<extra></extra>',\n",
       "              'legendgroup': 'Illustration Rare',\n",
       "              'marker': {'color': '#EF553B'},\n",
       "              'name': 'Illustration Rare',\n",
       "              'offsetgroup': 'Illustration Rare',\n",
       "              'orientation': 'v',\n",
       "              'points': 'all',\n",
       "              'scalegroup': 'True',\n",
       "              'showlegend': True,\n",
       "              'type': 'violin',\n",
       "              'x': array(['Illustration Rare', 'Illustration Rare', 'Illustration Rare', ...,\n",
       "                          'Illustration Rare', 'Illustration Rare', 'Illustration Rare'],\n",
       "                         dtype=object),\n",
       "              'x0': ' ',\n",
       "              'xaxis': 'x',\n",
       "              'y': {'bdata': ('cT0K16PAUUCamZmZmVlEQAAAAAAAQE' ... 'rXo3A9GEDoUbgehesPQHwUrkfh+iNA'),\n",
       "                    'dtype': 'f8'},\n",
       "              'y0': ' ',\n",
       "              'yaxis': 'y'},\n",
       "             {'alignmentgroup': 'True',\n",
       "              'box': {'visible': True},\n",
       "              'hovertemplate': 'ExtRarity=%{x}<br>Volatility=%{y}<extra></extra>',\n",
       "              'legendgroup': 'Special Illustration Rare',\n",
       "              'marker': {'color': '#00cc96'},\n",
       "              'name': 'Special Illustration Rare',\n",
       "              'offsetgroup': 'Special Illustration Rare',\n",
       "              'orientation': 'v',\n",
       "              'points': 'all',\n",
       "              'scalegroup': 'True',\n",
       "              'showlegend': True,\n",
       "              'type': 'violin',\n",
       "              'x': array(['Special Illustration Rare', 'Special Illustration Rare',\n",
       "                          'Special Illustration Rare', 'Special Illustration Rare',\n",
       "                          'Special Illustration Rare', 'Special Illustration Rare',\n",
       "                          'Special Illustration Rare', 'Special Illustration Rare',\n",
       "                          'Special Illustration Rare', 'Special Illustration Rare',\n",
       "                          'Special Illustration Rare', 'Special Illustration Rare',\n",
       "                          'Special Illustration Rare', 'Special Illustration Rare',\n",
       "                          'Special Illustration Rare', 'Special Illustration Rare',\n",
       "                          'Special Illustration Rare', 'Special Illustration Rare',\n",
       "                          'Special Illustration Rare', 'Special Illustration Rare',\n",
       "                          'Special Illustration Rare', 'Special Illustration Rare',\n",
       "                          'Special Illustration Rare', 'Special Illustration Rare',\n",
       "                          'Special Illustration Rare', 'Special Illustration Rare',\n",
       "                          'Special Illustration Rare', 'Special Illustration Rare',\n",
       "                          'Special Illustration Rare', 'Special Illustration Rare',\n",
       "                          'Special Illustration Rare', 'Special Illustration Rare',\n",
       "                          'Special Illustration Rare', 'Special Illustration Rare',\n",
       "                          'Special Illustration Rare', 'Special Illustration Rare',\n",
       "                          'Special Illustration Rare', 'Special Illustration Rare',\n",
       "                          'Special Illustration Rare', 'Special Illustration Rare',\n",
       "                          'Special Illustration Rare', 'Special Illustration Rare',\n",
       "                          'Special Illustration Rare', 'Special Illustration Rare',\n",
       "                          'Special Illustration Rare', 'Special Illustration Rare',\n",
       "                          'Special Illustration Rare', 'Special Illustration Rare',\n",
       "                          'Special Illustration Rare', 'Special Illustration Rare',\n",
       "                          'Special Illustration Rare', 'Special Illustration Rare',\n",
       "                          'Special Illustration Rare', 'Special Illustration Rare',\n",
       "                          'Special Illustration Rare', 'Special Illustration Rare',\n",
       "                          'Special Illustration Rare', 'Special Illustration Rare',\n",
       "                          'Special Illustration Rare', 'Special Illustration Rare',\n",
       "                          'Special Illustration Rare', 'Special Illustration Rare',\n",
       "                          'Special Illustration Rare', 'Special Illustration Rare',\n",
       "                          'Special Illustration Rare', 'Special Illustration Rare',\n",
       "                          'Special Illustration Rare', 'Special Illustration Rare',\n",
       "                          'Special Illustration Rare', 'Special Illustration Rare',\n",
       "                          'Special Illustration Rare', 'Special Illustration Rare',\n",
       "                          'Special Illustration Rare', 'Special Illustration Rare',\n",
       "                          'Special Illustration Rare', 'Special Illustration Rare',\n",
       "                          'Special Illustration Rare', 'Special Illustration Rare',\n",
       "                          'Special Illustration Rare', 'Special Illustration Rare',\n",
       "                          'Special Illustration Rare', 'Special Illustration Rare',\n",
       "                          'Special Illustration Rare', 'Special Illustration Rare',\n",
       "                          'Special Illustration Rare', 'Special Illustration Rare',\n",
       "                          'Special Illustration Rare', 'Special Illustration Rare',\n",
       "                          'Special Illustration Rare', 'Special Illustration Rare',\n",
       "                          'Special Illustration Rare', 'Special Illustration Rare',\n",
       "                          'Special Illustration Rare', 'Special Illustration Rare',\n",
       "                          'Special Illustration Rare', 'Special Illustration Rare',\n",
       "                          'Special Illustration Rare', 'Special Illustration Rare',\n",
       "                          'Special Illustration Rare', 'Special Illustration Rare',\n",
       "                          'Special Illustration Rare', 'Special Illustration Rare',\n",
       "                          'Special Illustration Rare', 'Special Illustration Rare',\n",
       "                          'Special Illustration Rare', 'Special Illustration Rare',\n",
       "                          'Special Illustration Rare', 'Special Illustration Rare',\n",
       "                          'Special Illustration Rare', 'Special Illustration Rare',\n",
       "                          'Special Illustration Rare', 'Special Illustration Rare',\n",
       "                          'Special Illustration Rare', 'Special Illustration Rare',\n",
       "                          'Special Illustration Rare', 'Special Illustration Rare',\n",
       "                          'Special Illustration Rare', 'Special Illustration Rare',\n",
       "                          'Special Illustration Rare', 'Special Illustration Rare',\n",
       "                          'Special Illustration Rare', 'Special Illustration Rare',\n",
       "                          'Special Illustration Rare', 'Special Illustration Rare',\n",
       "                          'Special Illustration Rare', 'Special Illustration Rare',\n",
       "                          'Special Illustration Rare', 'Special Illustration Rare',\n",
       "                          'Special Illustration Rare', 'Special Illustration Rare',\n",
       "                          'Special Illustration Rare', 'Special Illustration Rare',\n",
       "                          'Special Illustration Rare', 'Special Illustration Rare',\n",
       "                          'Special Illustration Rare', 'Special Illustration Rare',\n",
       "                          'Special Illustration Rare', 'Special Illustration Rare',\n",
       "                          'Special Illustration Rare', 'Special Illustration Rare',\n",
       "                          'Special Illustration Rare', 'Special Illustration Rare'], dtype=object),\n",
       "              'x0': ' ',\n",
       "              'xaxis': 'x',\n",
       "              'y': {'bdata': ('AAAAAACQUUAAAAAAAIBWQAAAAAAAFJ' ... 'UoXI8XQAApXI/C9RNAAAAAAAAAREA='),\n",
       "                    'dtype': 'f8'},\n",
       "              'y0': ' ',\n",
       "              'yaxis': 'y'}],\n",
       "    'layout': {'legend': {'title': {'text': 'ExtRarity'}, 'tracegroupgap': 0},\n",
       "               'template': '...',\n",
       "               'title': {'text': 'Volatility grouped by Rarity'},\n",
       "               'violinmode': 'overlay',\n",
       "               'xaxis': {'anchor': 'y',\n",
       "                         'categoryarray': [Hyper Rare, Illustration Rare, Special\n",
       "                                           Illustration Rare],\n",
       "                         'categoryorder': 'array',\n",
       "                         'domain': [0.0, 1.0],\n",
       "                         'title': {'text': 'ExtRarity'}},\n",
       "               'yaxis': {'anchor': 'x', 'domain': [0.0, 1.0], 'title': {'text': 'Volatility'}}}\n",
       "})"
      ]
     },
     "execution_count": 14,
     "metadata": {},
     "output_type": "execute_result"
    }
   ],
   "source": [
    "import plotly.express as plotly\n",
    "import plotly.io as pio\n",
    "\n",
    "fig_ttest = plotly.violin(\n",
    "    master_df, \n",
    "    y = 'volatility', \n",
    "    x = 'extRarity', \n",
    "    color ='extRarity',\n",
    "    box = True, \n",
    "    points='all',  \\\n",
    "    title = 'Volatility grouped by Rarity',\n",
    "    labels={'extRarity': 'ExtRarity', 'volatility': 'Volatility'}\n",
    ")\n",
    "fig_ttest"
   ]
  },
  {
   "cell_type": "markdown",
   "metadata": {},
   "source": [
    "### Machine Learning"
   ]
  },
  {
   "cell_type": "code",
   "execution_count": 32,
   "metadata": {},
   "outputs": [
    {
     "name": "stdout",
     "output_type": "stream",
     "text": [
      "LOO‑CV Accuracy: 61.22%\n",
      "\n",
      "Classification Report:\n",
      "                           precision    recall  f1-score   support\n",
      "\n",
      "               Hyper Rare       0.21      0.13      0.16        68\n",
      "        Illustration Rare       0.63      0.78      0.70       231\n",
      "Special Illustration Rare       0.72      0.56      0.63       142\n",
      "\n",
      "                 accuracy                           0.61       441\n",
      "                macro avg       0.52      0.49      0.50       441\n",
      "             weighted avg       0.59      0.61      0.59       441\n",
      "\n",
      "Confusion Matrix:\n",
      "[[  9  50   9]\n",
      " [ 28 181  22]\n",
      " [  5  57  80]]\n"
     ]
    }
   ],
   "source": [
    "from sklearn.preprocessing import LabelEncoder\n",
    "from sklearn.ensemble import RandomForestClassifier\n",
    "from sklearn.model_selection import LeaveOneOut, cross_val_predict\n",
    "from sklearn.metrics import classification_report, confusion_matrix, accuracy_score\n",
    "from sklearn.preprocessing import LabelEncoder, StandardScaler\n",
    "from sklearn.neighbors import KNeighborsClassifier\n",
    "from sklearn.model_selection import LeaveOneOut, cross_val_predict\n",
    "from sklearn.metrics import classification_report, confusion_matrix, accuracy_score\n",
    "from sklearn.pipeline import make_pipeline\n",
    "\n",
    "X = master_df[['marketPrice']].values\n",
    "y = master_df['extRarity'].values\n",
    "\n",
    "le = LabelEncoder()\n",
    "y_encoded = le.fit_transform(y)\n",
    "\n",
    "X_train, X_test, y_train, y_test = train_test_split(x, y_encoded, test_size=0.2, random_state=42, stratify=y_encoded)\n",
    "\n",
    "knn_pipeline = make_pipeline(\n",
    "    StandardScaler(),\n",
    "    KNeighborsClassifier(n_neighbors=5)   # you can tune n_neighbors\n",
    ")\n",
    "\n",
    "loo = LeaveOneOut()\n",
    "\n",
    "\n",
    "# 5. Get LOO‑CV predictions\n",
    "y_pred = cross_val_predict(knn_pipeline, X, y_encoded, cv=loo, n_jobs=-1)\n",
    "\n",
    "# 6. Evaluate\n",
    "print(f\"LOO‑CV Accuracy: {accuracy_score(y_encoded, y_pred):.2%}\\n\")\n",
    "print(\"Classification Report:\")\n",
    "print(classification_report(y_encoded, y_pred, target_names=le.classes_))\n",
    "print(\"Confusion Matrix:\")\n",
    "print(confusion_matrix(y_encoded, y_pred))"
   ]
  }
 ],
 "metadata": {
  "kernelspec": {
   "display_name": "Python 3",
   "language": "python",
   "name": "python3"
  },
  "language_info": {
   "codemirror_mode": {
    "name": "ipython",
    "version": 3
   },
   "file_extension": ".py",
   "mimetype": "text/x-python",
   "name": "python",
   "nbconvert_exporter": "python",
   "pygments_lexer": "ipython3",
   "version": "3.13.1"
  }
 },
 "nbformat": 4,
 "nbformat_minor": 2
}
