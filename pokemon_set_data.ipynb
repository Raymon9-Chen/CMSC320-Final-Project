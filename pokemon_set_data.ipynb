{
 "cells": [
  {
   "cell_type": "markdown",
   "metadata": {},
   "source": [
    "We are uploading all csv files of the Scarlet & Violet main and special sets.\n",
    "\n",
    "Sets: SV01, SV02, SV03, SV: Scarlet & Violet 151, SV04, SV: Paldean Fates, SV05, SV06, SV: Shrouded Fable, SV07, SV08, SV: Prismatic Evolutions, SV09"
   ]
  },
  {
   "cell_type": "code",
   "execution_count": 10,
   "metadata": {},
   "outputs": [],
   "source": [
    "import pandas as pd\n",
    "import scipy as sp\n",
    "\n",
    "sv01_df = pd.read_csv('SV01ScarletAndVioletBaseSetProductsAndPrices.csv')\n",
    "sv02_df = pd.read_csv('SV02PaldeaEvolvedProductsAndPrices.csv')\n",
    "sv03_df = pd.read_csv('SV03ObsidianFlamesProductsAndPrices.csv')\n",
    "sv04_df = pd.read_csv('SV04ParadoxRiftProductsAndPrices.csv')\n",
    "sv05_df = pd.read_csv('SV05TemporalForcesProductsAndPrices.csv')\n",
    "sv06_df = pd.read_csv('SV06TwilightMasqueradeProductsAndPrices.csv')\n",
    "sv07_df = pd.read_csv('SV07StellarCrownProductsAndPrices.csv')\n",
    "sv08_df = pd.read_csv('SV08SurgingSparksProductsAndPrices.csv')\n",
    "sv09_df = pd.read_csv('SV09JourneyTogetherProductsAndPrices.csv')\n",
    "sv_151_df = pd.read_csv('SVScarletAndViolet151ProductsAndPrices.csv')\n",
    "sv_pf_df = pd.read_csv('SVPaldeanFatesProductsAndPrices.csv')\n",
    "sv_sf_df = pd.read_csv('SVShroudedFableProductsAndPrices.csv')\n",
    "sv_pe_df = pd.read_csv('SVPrismaticEvolutionsProductsAndPrices.csv')"
   ]
  },
  {
   "cell_type": "markdown",
   "metadata": {},
   "source": [
    "We then merge all of these sets into a master set, filter out unnecessary columns, and add a column for the textual set name based on groupId variable."
   ]
  },
  {
   "cell_type": "code",
   "execution_count": 11,
   "metadata": {},
   "outputs": [
    {
     "data": {
      "text/html": [
       "<div>\n",
       "<style scoped>\n",
       "    .dataframe tbody tr th:only-of-type {\n",
       "        vertical-align: middle;\n",
       "    }\n",
       "\n",
       "    .dataframe tbody tr th {\n",
       "        vertical-align: top;\n",
       "    }\n",
       "\n",
       "    .dataframe thead th {\n",
       "        text-align: right;\n",
       "    }\n",
       "</style>\n",
       "<table border=\"1\" class=\"dataframe\">\n",
       "  <thead>\n",
       "    <tr style=\"text-align: right;\">\n",
       "      <th></th>\n",
       "      <th>index</th>\n",
       "      <th>productId</th>\n",
       "      <th>name</th>\n",
       "      <th>groupId</th>\n",
       "      <th>lowPrice</th>\n",
       "      <th>highPrice</th>\n",
       "      <th>marketPrice</th>\n",
       "      <th>extRarity</th>\n",
       "      <th>set</th>\n",
       "      <th>release date</th>\n",
       "    </tr>\n",
       "  </thead>\n",
       "  <tbody>\n",
       "    <tr>\n",
       "      <th>1</th>\n",
       "      <td>437</td>\n",
       "      <td>490043</td>\n",
       "      <td>Miraidon ex - 253/198</td>\n",
       "      <td>22873</td>\n",
       "      <td>4.99</td>\n",
       "      <td>60.00</td>\n",
       "      <td>5.76</td>\n",
       "      <td>Hyper Rare</td>\n",
       "      <td>Scarlet And Violet Base</td>\n",
       "      <td>2023-05-31</td>\n",
       "    </tr>\n",
       "    <tr>\n",
       "      <th>2</th>\n",
       "      <td>439</td>\n",
       "      <td>490045</td>\n",
       "      <td>Koraidon ex - 254/198</td>\n",
       "      <td>22873</td>\n",
       "      <td>3.00</td>\n",
       "      <td>28.20</td>\n",
       "      <td>5.50</td>\n",
       "      <td>Hyper Rare</td>\n",
       "      <td>Scarlet And Violet Base</td>\n",
       "      <td>2023-05-31</td>\n",
       "    </tr>\n",
       "    <tr>\n",
       "      <th>3</th>\n",
       "      <td>483</td>\n",
       "      <td>490294</td>\n",
       "      <td>Basic Fighting Energy - 258/198</td>\n",
       "      <td>22873</td>\n",
       "      <td>2.39</td>\n",
       "      <td>25.00</td>\n",
       "      <td>3.14</td>\n",
       "      <td>Hyper Rare</td>\n",
       "      <td>Scarlet And Violet Base</td>\n",
       "      <td>2023-05-31</td>\n",
       "    </tr>\n",
       "    <tr>\n",
       "      <th>4</th>\n",
       "      <td>484</td>\n",
       "      <td>490295</td>\n",
       "      <td>Basic Lightning Energy - 257/198</td>\n",
       "      <td>22873</td>\n",
       "      <td>3.00</td>\n",
       "      <td>50.00</td>\n",
       "      <td>5.01</td>\n",
       "      <td>Hyper Rare</td>\n",
       "      <td>Scarlet And Violet Base</td>\n",
       "      <td>2023-05-31</td>\n",
       "    </tr>\n",
       "    <tr>\n",
       "      <th>5</th>\n",
       "      <td>485</td>\n",
       "      <td>490296</td>\n",
       "      <td>Rare Candy - 256/198</td>\n",
       "      <td>22873</td>\n",
       "      <td>5.80</td>\n",
       "      <td>30.02</td>\n",
       "      <td>7.83</td>\n",
       "      <td>Hyper Rare</td>\n",
       "      <td>Scarlet And Violet Base</td>\n",
       "      <td>2023-05-31</td>\n",
       "    </tr>\n",
       "    <tr>\n",
       "      <th>...</th>\n",
       "      <td>...</td>\n",
       "      <td>...</td>\n",
       "      <td>...</td>\n",
       "      <td>...</td>\n",
       "      <td>...</td>\n",
       "      <td>...</td>\n",
       "      <td>...</td>\n",
       "      <td>...</td>\n",
       "      <td>...</td>\n",
       "      <td>...</td>\n",
       "    </tr>\n",
       "    <tr>\n",
       "      <th>437</th>\n",
       "      <td>338</td>\n",
       "      <td>623610</td>\n",
       "      <td>Iono's Bellibolt ex - 183/159</td>\n",
       "      <td>24073</td>\n",
       "      <td>135.00</td>\n",
       "      <td>180.00</td>\n",
       "      <td>136.62</td>\n",
       "      <td>Special Illustration Rare</td>\n",
       "      <td>Journey Together</td>\n",
       "      <td>2025-03-28</td>\n",
       "    </tr>\n",
       "    <tr>\n",
       "      <th>438</th>\n",
       "      <td>339</td>\n",
       "      <td>623611</td>\n",
       "      <td>Lillie's Clefairy ex - 184/159</td>\n",
       "      <td>24073</td>\n",
       "      <td>300.00</td>\n",
       "      <td>329.36</td>\n",
       "      <td>328.63</td>\n",
       "      <td>Special Illustration Rare</td>\n",
       "      <td>Journey Together</td>\n",
       "      <td>2025-03-28</td>\n",
       "    </tr>\n",
       "    <tr>\n",
       "      <th>439</th>\n",
       "      <td>340</td>\n",
       "      <td>623612</td>\n",
       "      <td>N's Zoroark ex - 185/159</td>\n",
       "      <td>24073</td>\n",
       "      <td>214.10</td>\n",
       "      <td>219.99</td>\n",
       "      <td>219.62</td>\n",
       "      <td>Special Illustration Rare</td>\n",
       "      <td>Journey Together</td>\n",
       "      <td>2025-03-28</td>\n",
       "    </tr>\n",
       "    <tr>\n",
       "      <th>440</th>\n",
       "      <td>341</td>\n",
       "      <td>623613</td>\n",
       "      <td>Hop's Zacian ex - 186/159</td>\n",
       "      <td>24073</td>\n",
       "      <td>175.00</td>\n",
       "      <td>179.99</td>\n",
       "      <td>178.79</td>\n",
       "      <td>Special Illustration Rare</td>\n",
       "      <td>Journey Together</td>\n",
       "      <td>2025-03-28</td>\n",
       "    </tr>\n",
       "    <tr>\n",
       "      <th>441</th>\n",
       "      <td>342</td>\n",
       "      <td>623614</td>\n",
       "      <td>Salamence ex - 187/159</td>\n",
       "      <td>24073</td>\n",
       "      <td>200.00</td>\n",
       "      <td>240.00</td>\n",
       "      <td>238.03</td>\n",
       "      <td>Special Illustration Rare</td>\n",
       "      <td>Journey Together</td>\n",
       "      <td>2025-03-28</td>\n",
       "    </tr>\n",
       "  </tbody>\n",
       "</table>\n",
       "<p>441 rows × 10 columns</p>\n",
       "</div>"
      ],
      "text/plain": [
       "     index  productId                              name  groupId  lowPrice  \\\n",
       "1      437     490043             Miraidon ex - 253/198    22873      4.99   \n",
       "2      439     490045             Koraidon ex - 254/198    22873      3.00   \n",
       "3      483     490294   Basic Fighting Energy - 258/198    22873      2.39   \n",
       "4      484     490295  Basic Lightning Energy - 257/198    22873      3.00   \n",
       "5      485     490296              Rare Candy - 256/198    22873      5.80   \n",
       "..     ...        ...                               ...      ...       ...   \n",
       "437    338     623610     Iono's Bellibolt ex - 183/159    24073    135.00   \n",
       "438    339     623611    Lillie's Clefairy ex - 184/159    24073    300.00   \n",
       "439    340     623612          N's Zoroark ex - 185/159    24073    214.10   \n",
       "440    341     623613         Hop's Zacian ex - 186/159    24073    175.00   \n",
       "441    342     623614            Salamence ex - 187/159    24073    200.00   \n",
       "\n",
       "     highPrice  marketPrice                  extRarity  \\\n",
       "1        60.00         5.76                 Hyper Rare   \n",
       "2        28.20         5.50                 Hyper Rare   \n",
       "3        25.00         3.14                 Hyper Rare   \n",
       "4        50.00         5.01                 Hyper Rare   \n",
       "5        30.02         7.83                 Hyper Rare   \n",
       "..         ...          ...                        ...   \n",
       "437     180.00       136.62  Special Illustration Rare   \n",
       "438     329.36       328.63  Special Illustration Rare   \n",
       "439     219.99       219.62  Special Illustration Rare   \n",
       "440     179.99       178.79  Special Illustration Rare   \n",
       "441     240.00       238.03  Special Illustration Rare   \n",
       "\n",
       "                         set release date  \n",
       "1    Scarlet And Violet Base   2023-05-31  \n",
       "2    Scarlet And Violet Base   2023-05-31  \n",
       "3    Scarlet And Violet Base   2023-05-31  \n",
       "4    Scarlet And Violet Base   2023-05-31  \n",
       "5    Scarlet And Violet Base   2023-05-31  \n",
       "..                       ...          ...  \n",
       "437         Journey Together   2025-03-28  \n",
       "438         Journey Together   2025-03-28  \n",
       "439         Journey Together   2025-03-28  \n",
       "440         Journey Together   2025-03-28  \n",
       "441         Journey Together   2025-03-28  \n",
       "\n",
       "[441 rows x 10 columns]"
      ]
     },
     "metadata": {},
     "output_type": "display_data"
    }
   ],
   "source": [
    "master_df = pd.concat([sv01_df, sv02_df, sv03_df, sv04_df, sv05_df, sv06_df, sv07_df, sv08_df, sv09_df, sv_151_df, sv_pf_df, sv_sf_df, sv_pe_df])\n",
    "master_df = master_df[['productId', 'name', 'groupId', 'lowPrice', 'highPrice', 'marketPrice', 'extRarity']]\n",
    "\n",
    "# filter for cards of specific rarity\n",
    "master_df = master_df[(master_df['extRarity'] == 'Special Illustration Rare') | (master_df['extRarity'] == 'Illustration Rare') | (master_df['extRarity'] == 'Hyper Rare')]\n",
    "\n",
    "# add textual set name column\n",
    "def get_textset(setId):\n",
    "    setId_list = [22873, 23120, 23228, 23286, 23381, 23473, 23537, 23651, 24073, 23237, 23353, 23529, 23821]\n",
    "    textId_list = [\n",
    "        'Scarlet And Violet Base',\n",
    "        'Paldea Evolved',\n",
    "        'Obsidian Flames',\n",
    "        'Paradox Rift',\n",
    "        'Temporal Forces',\n",
    "        'Twilight Masquerade',\n",
    "        'Stellar Crown',\n",
    "        'Surging Sparks',\n",
    "        'Journey Together',\n",
    "        'Scarlet And Violet 151',\n",
    "        'Paldean Fates',\n",
    "        'Shrouded Fable',\n",
    "        'Prismatic Evolutions'\n",
    "    ]\n",
    "    index = setId_list.index(setId)\n",
    "    return textId_list[index]\n",
    "\n",
    "master_df['set'] = master_df['groupId'].apply(get_textset)\n",
    "\n",
    "# add release date\n",
    "def get_dateset(setId):\n",
    "    name_list = ['Scarlet And Violet Base',\n",
    "        'Paldea Evolved',\n",
    "        'Obsidian Flames',\n",
    "        'Paradox Rift',\n",
    "        'Temporal Forces',\n",
    "        'Twilight Masquerade',\n",
    "        'Stellar Crown',\n",
    "        'Surging Sparks',\n",
    "        'Journey Together',\n",
    "        'Scarlet And Violet 151',\n",
    "        'Paldean Fates',\n",
    "        'Shrouded Fable',\n",
    "        'Prismatic Evolutions']\n",
    "    date_list = [\n",
    "        '05-31-2023',\n",
    "        '06-09-2023',\n",
    "        '08-11-2023',\n",
    "        '10-03-2023',\n",
    "        '03-22-2024',\n",
    "        '05-24-2024',\n",
    "        '09-13-2024',\n",
    "        '11-08-2024',\n",
    "        '03-28-2025',\n",
    "        '09-22-2023',\n",
    "        '01-26-2024',\n",
    "        '09-02-2024',\n",
    "        '01-17-2025'\n",
    "    ]\n",
    "    index = name_list.index(setId)\n",
    "    return date_list[index]\n",
    "\n",
    "master_df['set'] = master_df['groupId'].apply(get_textset)\n",
    "master_df['release date'] = master_df['set'].apply(get_dateset)\n",
    "\n",
    "# sort dataframe by card rarity\n",
    "master_df = master_df.sort_values(by=['groupId', 'extRarity'])\n",
    "\n",
    "# reset index\n",
    "master_df = master_df.reset_index()\n",
    "master_df.index +=1\n",
    "\n",
    "master_df['release date'] = pd.to_datetime(master_df['release date'], format='%m-%d-%Y')\n",
    "\n",
    "display(master_df)"
   ]
  },
  {
   "cell_type": "markdown",
   "metadata": {},
   "source": [
    "We will also have to fill in all NaN values, especially for the market prices of recent sets (ie. SV09 Journey Together).\n",
    "\n",
    "In order to fill in the NaN values, we will take the average of the lowPrice and highPrice values and input the average into marketPrice."
   ]
  },
  {
   "cell_type": "code",
   "execution_count": 12,
   "metadata": {},
   "outputs": [],
   "source": [
    "def fill_market_price(row):\n",
    "    if pd.isna(row['marketPrice']):\n",
    "        low_high_average = (row['lowPrice'] + row['highPrice'])/2\n",
    "        row['marketPrice'] = round(low_high_average, 2)\n",
    "    return row['marketPrice']\n",
    "\n",
    "master_df['marketPrice'] = master_df.apply(fill_market_price, axis=1)"
   ]
  },
  {
   "cell_type": "markdown",
   "metadata": {},
   "source": [
    "We will now conduct three hypothesis tests to observe trends and patterns in data."
   ]
  },
  {
   "cell_type": "markdown",
   "metadata": {},
   "source": [
    "TEST I: Using an ANOVA test, we plan on determining if the average price of cards of the same rarity vary significantly across all relevant sets\n",
    "(relevant sets - scarlet and violet main and special sets)\n",
    "\n",
    "Because we are testing multiple categories and observing if they exist within the same distribution, an ANOVA test would be appropriate.\n",
    "Significance level = 0.05 (Level of confidence = 95%)\n",
    "\n",
    "H0: There is no significant difference in the prices of the same card rarity across the relevant sets.\n",
    "HA: There exists significant differences in the prices of the same card rarity across the relevant sets."
   ]
  },
  {
   "cell_type": "code",
   "execution_count": 13,
   "metadata": {},
   "outputs": [],
   "source": [
    "hr_df = master_df[master_df['extRarity'] == 'Hyper Rare']\n",
    "ir_df = master_df[master_df['extRarity'] == 'Illustration Rare']\n",
    "sir_df = master_df[master_df['extRarity'] == 'Special Illustration Rare']\n",
    "\n",
    "average_prices = pd.DataFrame(columns=['set', 'averagePrice'])"
   ]
  },
  {
   "cell_type": "markdown",
   "metadata": {},
   "source": [
    "Hyper Rare Cards:"
   ]
  },
  {
   "cell_type": "code",
   "execution_count": 14,
   "metadata": {},
   "outputs": [
    {
     "name": "stderr",
     "output_type": "stream",
     "text": [
      "/var/folders/jf/0fx_tc1j7q53x09tmy3ll_f80000gn/T/ipykernel_32084/3381310859.py:8: FutureWarning:\n",
      "\n",
      "The behavior of DataFrame concatenation with empty or all-NA entries is deprecated. In a future version, this will no longer exclude empty or all-NA columns when determining the result dtypes. To retain the old behavior, exclude the relevant entries before the concat operation.\n",
      "\n"
     ]
    },
    {
     "name": "stdout",
     "output_type": "stream",
     "text": [
      "1.2307944715509516e-06\n",
      "Tukey's HSD Pairwise Group Comparisons (95.0% Confidence Interval)\n",
      "Comparison  Statistic  p-value  Lower CI  Upper CI\n",
      " (0 - 1)      0.690     1.000   -31.715    33.095\n",
      " (0 - 2)     -3.223     1.000   -46.699    40.252\n",
      " (0 - 3)     -0.230     1.000   -43.705    43.245\n",
      " (0 - 4)     -0.245     1.000   -34.451    33.962\n",
      " (0 - 5)     -2.320     1.000   -37.818    33.178\n",
      " (0 - 6)     -6.393     1.000   -41.891    29.104\n",
      " (0 - 7)     -5.483     1.000   -40.981    30.014\n",
      " (0 - 8)    -25.485     0.479   -62.715    11.745\n",
      " (0 - 9)     -7.690     1.000   -51.165    35.785\n",
      " (0 - 10)    -20.675     0.718   -56.173    14.823\n",
      " (0 - 11)    -21.691     0.717   -58.921    15.539\n",
      " (0 - 12)    -85.747     0.000  -129.222   -42.271\n",
      " (1 - 0)     -0.690     1.000   -33.095    31.715\n",
      " (1 - 2)     -3.913     1.000   -44.902    37.076\n",
      " (1 - 3)     -0.920     1.000   -41.909    40.069\n",
      " (1 - 4)     -0.935     1.000   -31.920    30.050\n",
      " (1 - 5)     -3.010     1.000   -35.415    29.395\n",
      " (1 - 6)     -7.083     1.000   -39.488    25.321\n",
      " (1 - 7)     -6.173     1.000   -38.578    26.231\n",
      " (1 - 8)    -26.175     0.311   -60.469     8.119\n",
      " (1 - 9)     -8.380     1.000   -49.369    32.609\n",
      " (1 - 10)    -21.365     0.539   -53.770    11.040\n",
      " (1 - 11)    -22.381     0.554   -56.675    11.913\n",
      " (1 - 12)    -86.437     0.000  -127.426   -45.448\n",
      " (2 - 0)      3.223     1.000   -40.252    46.699\n",
      " (2 - 1)      3.913     1.000   -37.076    44.902\n",
      " (2 - 3)      2.993     1.000   -47.208    53.194\n",
      " (2 - 4)      2.979     1.000   -39.449    45.406\n",
      " (2 - 5)      0.903     1.000   -42.572    44.379\n",
      " (2 - 6)     -3.170     1.000   -46.645    40.305\n",
      " (2 - 7)     -2.260     1.000   -45.735    41.215\n",
      " (2 - 8)    -22.262     0.879   -67.163    22.639\n",
      " (2 - 9)     -4.467     1.000   -54.668    45.734\n",
      " (2 - 10)    -17.452     0.971   -60.927    26.024\n",
      " (2 - 11)    -18.468     0.966   -63.369    26.433\n",
      " (2 - 12)    -82.523     0.000  -132.724   -32.322\n",
      " (3 - 0)      0.230     1.000   -43.245    43.705\n",
      " (3 - 1)      0.920     1.000   -40.069    41.909\n",
      " (3 - 2)     -2.993     1.000   -53.194    47.208\n",
      " (3 - 4)     -0.015     1.000   -42.442    42.413\n",
      " (3 - 5)     -2.090     1.000   -45.565    41.385\n",
      " (3 - 6)     -6.163     1.000   -49.639    37.312\n",
      " (3 - 7)     -5.253     1.000   -48.729    38.222\n",
      " (3 - 8)    -25.255     0.761   -70.157    19.646\n",
      " (3 - 9)     -7.460     1.000   -57.661    42.741\n",
      " (3 - 10)    -20.445     0.913   -63.920    23.030\n",
      " (3 - 11)    -21.461     0.904   -66.363    23.440\n",
      " (3 - 12)    -85.517     0.000  -135.718   -35.316\n",
      " (4 - 0)      0.245     1.000   -33.962    34.451\n",
      " (4 - 1)      0.935     1.000   -30.050    31.920\n",
      " (4 - 2)     -2.979     1.000   -45.406    39.449\n",
      " (4 - 3)      0.015     1.000   -42.413    42.442\n",
      " (4 - 5)     -2.075     1.000   -36.282    32.131\n",
      " (4 - 6)     -6.149     1.000   -40.355    28.058\n",
      " (4 - 7)     -5.239     1.000   -39.445    28.968\n",
      " (4 - 8)    -25.241     0.441   -61.242    10.760\n",
      " (4 - 9)     -7.445     1.000   -49.873    34.982\n",
      " (4 - 10)    -20.430     0.685   -54.637    13.776\n",
      " (4 - 11)    -21.447     0.688   -57.448    14.554\n",
      " (4 - 12)    -85.502     0.000  -127.930   -43.074\n",
      " (5 - 0)      2.320     1.000   -33.178    37.818\n",
      " (5 - 1)      3.010     1.000   -29.395    35.415\n",
      " (5 - 2)     -0.903     1.000   -44.379    42.572\n",
      " (5 - 3)      2.090     1.000   -41.385    45.565\n",
      " (5 - 4)      2.075     1.000   -32.131    36.282\n",
      " (5 - 6)     -4.073     1.000   -39.571    31.424\n",
      " (5 - 7)     -3.163     1.000   -38.661    32.334\n",
      " (5 - 8)    -23.165     0.627   -60.395    14.065\n",
      " (5 - 9)     -5.370     1.000   -48.845    38.105\n",
      " (5 - 10)    -18.355     0.846   -53.853    17.143\n",
      " (5 - 11)    -19.371     0.841   -56.601    17.859\n",
      " (5 - 12)    -83.427     0.000  -126.902   -39.951\n",
      " (6 - 0)      6.393     1.000   -29.104    41.891\n",
      " (6 - 1)      7.083     1.000   -25.321    39.488\n",
      " (6 - 2)      3.170     1.000   -40.305    46.645\n",
      " (6 - 3)      6.163     1.000   -37.312    49.639\n",
      " (6 - 4)      6.149     1.000   -28.058    40.355\n",
      " (6 - 5)      4.073     1.000   -31.424    39.571\n",
      " (6 - 7)      0.910     1.000   -34.588    36.408\n",
      " (6 - 8)    -19.092     0.853   -56.322    18.138\n",
      " (6 - 9)     -1.297     1.000   -44.772    42.179\n",
      " (6 - 10)    -14.282     0.971   -49.779    21.216\n",
      " (6 - 11)    -15.298     0.966   -52.528    21.932\n",
      " (6 - 12)    -79.353     0.000  -122.829   -35.878\n",
      " (7 - 0)      5.483     1.000   -30.014    40.981\n",
      " (7 - 1)      6.173     1.000   -26.231    38.578\n",
      " (7 - 2)      2.260     1.000   -41.215    45.735\n",
      " (7 - 3)      5.253     1.000   -38.222    48.729\n",
      " (7 - 4)      5.239     1.000   -28.968    39.445\n",
      " (7 - 5)      3.163     1.000   -32.334    38.661\n",
      " (7 - 6)     -0.910     1.000   -36.408    34.588\n",
      " (7 - 8)    -20.002     0.810   -57.232    17.228\n",
      " (7 - 9)     -2.207     1.000   -45.682    41.269\n",
      " (7 - 10)    -15.192     0.954   -50.689    20.306\n",
      " (7 - 11)    -16.208     0.948   -53.438    21.022\n",
      " (7 - 12)    -80.263     0.000  -123.739   -36.788\n",
      " (8 - 0)     25.485     0.479   -11.745    62.715\n",
      " (8 - 1)     26.175     0.311    -8.119    60.469\n",
      " (8 - 2)     22.262     0.879   -22.639    67.163\n",
      " (8 - 3)     25.255     0.761   -19.646    70.157\n",
      " (8 - 4)     25.241     0.441   -10.760    61.242\n",
      " (8 - 5)     23.165     0.627   -14.065    60.395\n",
      " (8 - 6)     19.092     0.853   -18.138    56.322\n",
      " (8 - 7)     20.002     0.810   -17.228    57.232\n",
      " (8 - 9)     17.795     0.974   -27.106    62.697\n",
      " (8 - 10)      4.810     1.000   -32.420    42.040\n",
      " (8 - 11)      3.794     1.000   -35.092    42.680\n",
      " (8 - 12)    -60.261     0.001  -105.163   -15.360\n",
      " (9 - 0)      7.690     1.000   -35.785    51.165\n",
      " (9 - 1)      8.380     1.000   -32.609    49.369\n",
      " (9 - 2)      4.467     1.000   -45.734    54.668\n",
      " (9 - 3)      7.460     1.000   -42.741    57.661\n",
      " (9 - 4)      7.445     1.000   -34.982    49.873\n",
      " (9 - 5)      5.370     1.000   -38.105    48.845\n",
      " (9 - 6)      1.297     1.000   -42.179    44.772\n",
      " (9 - 7)      2.207     1.000   -41.269    45.682\n",
      " (9 - 8)    -17.795     0.974   -62.697    27.106\n",
      " (9 - 10)    -12.985     0.998   -56.460    30.490\n",
      " (9 - 11)    -14.001     0.997   -58.903    30.900\n",
      " (9 - 12)    -78.057     0.000  -128.258   -27.856\n",
      " (10 - 0)     20.675     0.718   -14.823    56.173\n",
      " (10 - 1)     21.365     0.539   -11.040    53.770\n",
      " (10 - 2)     17.452     0.971   -26.024    60.927\n",
      " (10 - 3)     20.445     0.913   -23.030    63.920\n",
      " (10 - 4)     20.430     0.685   -13.776    54.637\n",
      " (10 - 5)     18.355     0.846   -17.143    53.853\n",
      " (10 - 6)     14.282     0.971   -21.216    49.779\n",
      " (10 - 7)     15.192     0.954   -20.306    50.689\n",
      " (10 - 8)     -4.810     1.000   -42.040    32.420\n",
      " (10 - 9)     12.985     0.998   -30.490    56.460\n",
      " (10 - 11)     -1.016     1.000   -38.246    36.214\n",
      " (10 - 12)    -65.072     0.000  -108.547   -21.596\n",
      " (11 - 0)     21.691     0.717   -15.539    58.921\n",
      " (11 - 1)     22.381     0.554   -11.913    56.675\n",
      " (11 - 2)     18.468     0.966   -26.433    63.369\n",
      " (11 - 3)     21.461     0.904   -23.440    66.363\n",
      " (11 - 4)     21.447     0.688   -14.554    57.448\n",
      " (11 - 5)     19.371     0.841   -17.859    56.601\n",
      " (11 - 6)     15.298     0.966   -21.932    52.528\n",
      " (11 - 7)     16.208     0.948   -21.022    53.438\n",
      " (11 - 8)     -3.794     1.000   -42.680    35.092\n",
      " (11 - 9)     14.001     0.997   -30.900    58.903\n",
      " (11 - 10)      1.016     1.000   -36.214    38.246\n",
      " (11 - 12)    -64.055     0.001  -108.957   -19.154\n",
      " (12 - 0)     85.747     0.000    42.271   129.222\n",
      " (12 - 1)     86.437     0.000    45.448   127.426\n",
      " (12 - 2)     82.523     0.000    32.322   132.724\n",
      " (12 - 3)     85.517     0.000    35.316   135.718\n",
      " (12 - 4)     85.502     0.000    43.074   127.930\n",
      " (12 - 5)     83.427     0.000    39.951   126.902\n",
      " (12 - 6)     79.353     0.000    35.878   122.829\n",
      " (12 - 7)     80.263     0.000    36.788   123.739\n",
      " (12 - 8)     60.261     0.001    15.360   105.163\n",
      " (12 - 9)     78.057     0.000    27.856   128.258\n",
      " (12 - 10)     65.072     0.000    21.596   108.547\n",
      " (12 - 11)     64.055     0.001    19.154   108.957\n",
      "\n"
     ]
    }
   ],
   "source": [
    "# for Hyper Rare cards\n",
    "hr_sets = hr_df.groupby('set', sort=False)\n",
    "\n",
    "for set,group in hr_sets:\n",
    "    group = group.dropna(subset=['marketPrice']).sort_values(by='marketPrice')\n",
    "    rarity_mean = group['marketPrice'].mean()\n",
    "    row = {'set': set, 'averagePrice': round(rarity_mean, 2)}\n",
    "    average_prices = pd.concat([average_prices, pd.DataFrame([row])], ignore_index=True)\n",
    "\n",
    "hr_avg_prices = [group['marketPrice'].dropna().values for _, group in hr_df.groupby('set', sort=False)]\n",
    "\n",
    "hr_res = sp.stats.f_oneway(*hr_avg_prices)\n",
    "hr_tukey = sp.stats.tukey_hsd(*hr_avg_prices)\n",
    "print(hr_res.pvalue)\n",
    "print(hr_tukey)"
   ]
  },
  {
   "cell_type": "markdown",
   "metadata": {},
   "source": [
    "TEST III: Pairwise T-Test: We will use pairwise T-tests to determine if there exists a significant difference between the volatility in prices between rarities. Here, we define volatility as the difference between a cards high and low price points. We'll have a significance level of $\\alpha = 0.5$. \n",
    "\n",
    "$H_0:$ There is no significant difference in the volatility in prices between rarities. \n",
    "\n",
    "$H_a:$ There is significant difference in the volatility in prices between rarities. "
   ]
  },
  {
   "cell_type": "code",
   "execution_count": 15,
   "metadata": {},
   "outputs": [
    {
     "name": "stdout",
     "output_type": "stream",
     "text": [
      "The observed p-value of hyper rare cards versus illustration rare is: 0.32509098167592854\n",
      "The observed p-value of hyper rare cards versus special illustration rare is: 0.08174837546624164\n",
      "The observed p-value of illustration rare cards versus special illustration rare is: 0.5146676677454878\n"
     ]
    }
   ],
   "source": [
    "from scipy.stats import ttest_ind\n",
    "\n",
    "master_df['volatility'] = master_df['highPrice'].astype(float) - master_df['lowPrice'].astype(float)\n",
    "\n",
    "ttest_hr_df = master_df[master_df['extRarity'] == 'Hyper Rare']\n",
    "ttest_ir_df = master_df[master_df['extRarity'] == 'Illustration Rare']\n",
    "ttest_sir_df = master_df[master_df['extRarity'] == 'Special Illustration Rare']\n",
    "\n",
    "hr_vs_ir = ttest_ind(ttest_hr_df['volatility'], ttest_ir_df['volatility'])\n",
    "hr_vs_sir = ttest_ind(ttest_hr_df['volatility'], ttest_sir_df['volatility'])\n",
    "ir_vs_sir = ttest_ind(ttest_ir_df['volatility'], ttest_sir_df['volatility'])\n",
    "\n",
    "print(f\"The observed p-value of hyper rare cards versus illustration rare is: {hr_vs_ir[1]}\")\n",
    "print(f\"The observed p-value of hyper rare cards versus special illustration rare is: {hr_vs_sir[1]}\")\n",
    "print(f\"The observed p-value of illustration rare cards versus special illustration rare is: {ir_vs_sir[1]}\")"
   ]
  },
  {
   "cell_type": "markdown",
   "metadata": {},
   "source": [
    "Since the observed p-values of all three categories are greater than our significant level of $\\alpha = 0.5$ we fail to reject our null hypothesis. There is not strong evidence that suggests significant differences in volatility in prices between rarities."
   ]
  },
  {
   "cell_type": "code",
   "execution_count": 16,
   "metadata": {},
   "outputs": [
    {
     "data": {
      "application/vnd.plotly.v1+json": {
       "config": {
        "plotlyServerURL": "https://plot.ly"
       },
       "data": [
        {
         "alignmentgroup": "True",
         "box": {
          "visible": true
         },
         "hovertemplate": "ExtRarity=%{x}<br>Volatility=%{y}<extra></extra>",
         "legendgroup": "Hyper Rare",
         "marker": {
          "color": "#636efa"
         },
         "name": "Hyper Rare",
         "offsetgroup": "Hyper Rare",
         "orientation": "v",
         "points": "all",
         "scalegroup": "True",
         "showlegend": true,
         "type": "violin",
         "x": [
          "Hyper Rare",
          "Hyper Rare",
          "Hyper Rare",
          "Hyper Rare",
          "Hyper Rare",
          "Hyper Rare",
          "Hyper Rare",
          "Hyper Rare",
          "Hyper Rare",
          "Hyper Rare",
          "Hyper Rare",
          "Hyper Rare",
          "Hyper Rare",
          "Hyper Rare",
          "Hyper Rare",
          "Hyper Rare",
          "Hyper Rare",
          "Hyper Rare",
          "Hyper Rare",
          "Hyper Rare",
          "Hyper Rare",
          "Hyper Rare",
          "Hyper Rare",
          "Hyper Rare",
          "Hyper Rare",
          "Hyper Rare",
          "Hyper Rare",
          "Hyper Rare",
          "Hyper Rare",
          "Hyper Rare",
          "Hyper Rare",
          "Hyper Rare",
          "Hyper Rare",
          "Hyper Rare",
          "Hyper Rare",
          "Hyper Rare",
          "Hyper Rare",
          "Hyper Rare",
          "Hyper Rare",
          "Hyper Rare",
          "Hyper Rare",
          "Hyper Rare",
          "Hyper Rare",
          "Hyper Rare",
          "Hyper Rare",
          "Hyper Rare",
          "Hyper Rare",
          "Hyper Rare",
          "Hyper Rare",
          "Hyper Rare",
          "Hyper Rare",
          "Hyper Rare",
          "Hyper Rare",
          "Hyper Rare",
          "Hyper Rare",
          "Hyper Rare",
          "Hyper Rare",
          "Hyper Rare",
          "Hyper Rare",
          "Hyper Rare",
          "Hyper Rare",
          "Hyper Rare",
          "Hyper Rare",
          "Hyper Rare",
          "Hyper Rare",
          "Hyper Rare",
          "Hyper Rare",
          "Hyper Rare"
         ],
         "x0": " ",
         "xaxis": "x",
         "y": {
          "bdata": "4XoUrkeBS0AzMzMzMzM5QFyPwvUonDZAAAAAAACAR0C4HoXrUTg4QAAAAAAAAERACtejcD0KL0AzMzMzM/M5QJqZmZmZmTBAwvUoXI+COUC4HoXrUfg2QF2PwvUoHD9AR+F6FK4HOUDC9ShcjwIyQD0K16Nw/TlAmpmZmZlJVEAAAAAAAABBQML1KFyPAjZAAAAAAAAAREDsUbgehWszQArXo3A9ijBAcT0K16NAUEBmZmZmZmYwQHI9CtejcDxAKVyPwvVoMUAzMzMzM/MyQML1KFyPgj9AmZmZmZkZJkC4HoXrUfgzQAAAAAAAAEdAcT0K16NAV0AzMzMzM/M0QClcj8L1KDlAMzMzMzPjUUAzMzMzM/MyQClcj8L1aDNAAAAAAABANUAzMzMzM/M1QJqZmZmZeUpAMzMzMzNzW0A+CtejcP07QPYoXI/C9TZAHoXrUbi+TUD1KFyPwvUpQD0K16Nw/TFAZmZmZmbmK0CkcD0K1+NCQAAAAAAAQFZANDMzMzPzPUCamZmZmflIQHwUrkfhekRAXI/C9Sj8RUA0MzMzM/M6QAAAAAAAADdA4noUrkcRaED2KFyPwvU/QITrUbgeBS9AAAAAAACAUECamZmZmflIQAAAAAAAAE5AH4XrUbg+R0A0MzMzM/M9QOF6FK5HAUJAAAAAAACAb0AAAAAAAABbQAAAAAAAACxAAAAAAAAAREApXI/C9QhBQA==",
          "dtype": "f8"
         },
         "y0": " ",
         "yaxis": "y"
        },
        {
         "alignmentgroup": "True",
         "box": {
          "visible": true
         },
         "hovertemplate": "ExtRarity=%{x}<br>Volatility=%{y}<extra></extra>",
         "legendgroup": "Illustration Rare",
         "marker": {
          "color": "#EF553B"
         },
         "name": "Illustration Rare",
         "offsetgroup": "Illustration Rare",
         "orientation": "v",
         "points": "all",
         "scalegroup": "True",
         "showlegend": true,
         "type": "violin",
         "x": [
          "Illustration Rare",
          "Illustration Rare",
          "Illustration Rare",
          "Illustration Rare",
          "Illustration Rare",
          "Illustration Rare",
          "Illustration Rare",
          "Illustration Rare",
          "Illustration Rare",
          "Illustration Rare",
          "Illustration Rare",
          "Illustration Rare",
          "Illustration Rare",
          "Illustration Rare",
          "Illustration Rare",
          "Illustration Rare",
          "Illustration Rare",
          "Illustration Rare",
          "Illustration Rare",
          "Illustration Rare",
          "Illustration Rare",
          "Illustration Rare",
          "Illustration Rare",
          "Illustration Rare",
          "Illustration Rare",
          "Illustration Rare",
          "Illustration Rare",
          "Illustration Rare",
          "Illustration Rare",
          "Illustration Rare",
          "Illustration Rare",
          "Illustration Rare",
          "Illustration Rare",
          "Illustration Rare",
          "Illustration Rare",
          "Illustration Rare",
          "Illustration Rare",
          "Illustration Rare",
          "Illustration Rare",
          "Illustration Rare",
          "Illustration Rare",
          "Illustration Rare",
          "Illustration Rare",
          "Illustration Rare",
          "Illustration Rare",
          "Illustration Rare",
          "Illustration Rare",
          "Illustration Rare",
          "Illustration Rare",
          "Illustration Rare",
          "Illustration Rare",
          "Illustration Rare",
          "Illustration Rare",
          "Illustration Rare",
          "Illustration Rare",
          "Illustration Rare",
          "Illustration Rare",
          "Illustration Rare",
          "Illustration Rare",
          "Illustration Rare",
          "Illustration Rare",
          "Illustration Rare",
          "Illustration Rare",
          "Illustration Rare",
          "Illustration Rare",
          "Illustration Rare",
          "Illustration Rare",
          "Illustration Rare",
          "Illustration Rare",
          "Illustration Rare",
          "Illustration Rare",
          "Illustration Rare",
          "Illustration Rare",
          "Illustration Rare",
          "Illustration Rare",
          "Illustration Rare",
          "Illustration Rare",
          "Illustration Rare",
          "Illustration Rare",
          "Illustration Rare",
          "Illustration Rare",
          "Illustration Rare",
          "Illustration Rare",
          "Illustration Rare",
          "Illustration Rare",
          "Illustration Rare",
          "Illustration Rare",
          "Illustration Rare",
          "Illustration Rare",
          "Illustration Rare",
          "Illustration Rare",
          "Illustration Rare",
          "Illustration Rare",
          "Illustration Rare",
          "Illustration Rare",
          "Illustration Rare",
          "Illustration Rare",
          "Illustration Rare",
          "Illustration Rare",
          "Illustration Rare",
          "Illustration Rare",
          "Illustration Rare",
          "Illustration Rare",
          "Illustration Rare",
          "Illustration Rare",
          "Illustration Rare",
          "Illustration Rare",
          "Illustration Rare",
          "Illustration Rare",
          "Illustration Rare",
          "Illustration Rare",
          "Illustration Rare",
          "Illustration Rare",
          "Illustration Rare",
          "Illustration Rare",
          "Illustration Rare",
          "Illustration Rare",
          "Illustration Rare",
          "Illustration Rare",
          "Illustration Rare",
          "Illustration Rare",
          "Illustration Rare",
          "Illustration Rare",
          "Illustration Rare",
          "Illustration Rare",
          "Illustration Rare",
          "Illustration Rare",
          "Illustration Rare",
          "Illustration Rare",
          "Illustration Rare",
          "Illustration Rare",
          "Illustration Rare",
          "Illustration Rare",
          "Illustration Rare",
          "Illustration Rare",
          "Illustration Rare",
          "Illustration Rare",
          "Illustration Rare",
          "Illustration Rare",
          "Illustration Rare",
          "Illustration Rare",
          "Illustration Rare",
          "Illustration Rare",
          "Illustration Rare",
          "Illustration Rare",
          "Illustration Rare",
          "Illustration Rare",
          "Illustration Rare",
          "Illustration Rare",
          "Illustration Rare",
          "Illustration Rare",
          "Illustration Rare",
          "Illustration Rare",
          "Illustration Rare",
          "Illustration Rare",
          "Illustration Rare",
          "Illustration Rare",
          "Illustration Rare",
          "Illustration Rare",
          "Illustration Rare",
          "Illustration Rare",
          "Illustration Rare",
          "Illustration Rare",
          "Illustration Rare",
          "Illustration Rare",
          "Illustration Rare",
          "Illustration Rare",
          "Illustration Rare",
          "Illustration Rare",
          "Illustration Rare",
          "Illustration Rare",
          "Illustration Rare",
          "Illustration Rare",
          "Illustration Rare",
          "Illustration Rare",
          "Illustration Rare",
          "Illustration Rare",
          "Illustration Rare",
          "Illustration Rare",
          "Illustration Rare",
          "Illustration Rare",
          "Illustration Rare",
          "Illustration Rare",
          "Illustration Rare",
          "Illustration Rare",
          "Illustration Rare",
          "Illustration Rare",
          "Illustration Rare",
          "Illustration Rare",
          "Illustration Rare",
          "Illustration Rare",
          "Illustration Rare",
          "Illustration Rare",
          "Illustration Rare",
          "Illustration Rare",
          "Illustration Rare",
          "Illustration Rare",
          "Illustration Rare",
          "Illustration Rare",
          "Illustration Rare",
          "Illustration Rare",
          "Illustration Rare",
          "Illustration Rare",
          "Illustration Rare",
          "Illustration Rare",
          "Illustration Rare",
          "Illustration Rare",
          "Illustration Rare",
          "Illustration Rare",
          "Illustration Rare",
          "Illustration Rare",
          "Illustration Rare",
          "Illustration Rare",
          "Illustration Rare",
          "Illustration Rare",
          "Illustration Rare",
          "Illustration Rare",
          "Illustration Rare",
          "Illustration Rare",
          "Illustration Rare",
          "Illustration Rare",
          "Illustration Rare",
          "Illustration Rare",
          "Illustration Rare",
          "Illustration Rare",
          "Illustration Rare",
          "Illustration Rare",
          "Illustration Rare",
          "Illustration Rare",
          "Illustration Rare",
          "Illustration Rare"
         ],
         "x0": " ",
         "xaxis": "x",
         "y": {
          "bdata": "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",
          "dtype": "f8"
         },
         "y0": " ",
         "yaxis": "y"
        },
        {
         "alignmentgroup": "True",
         "box": {
          "visible": true
         },
         "hovertemplate": "ExtRarity=%{x}<br>Volatility=%{y}<extra></extra>",
         "legendgroup": "Special Illustration Rare",
         "marker": {
          "color": "#00cc96"
         },
         "name": "Special Illustration Rare",
         "offsetgroup": "Special Illustration Rare",
         "orientation": "v",
         "points": "all",
         "scalegroup": "True",
         "showlegend": true,
         "type": "violin",
         "x": [
          "Special Illustration Rare",
          "Special Illustration Rare",
          "Special Illustration Rare",
          "Special Illustration Rare",
          "Special Illustration Rare",
          "Special Illustration Rare",
          "Special Illustration Rare",
          "Special Illustration Rare",
          "Special Illustration Rare",
          "Special Illustration Rare",
          "Special Illustration Rare",
          "Special Illustration Rare",
          "Special Illustration Rare",
          "Special Illustration Rare",
          "Special Illustration Rare",
          "Special Illustration Rare",
          "Special Illustration Rare",
          "Special Illustration Rare",
          "Special Illustration Rare",
          "Special Illustration Rare",
          "Special Illustration Rare",
          "Special Illustration Rare",
          "Special Illustration Rare",
          "Special Illustration Rare",
          "Special Illustration Rare",
          "Special Illustration Rare",
          "Special Illustration Rare",
          "Special Illustration Rare",
          "Special Illustration Rare",
          "Special Illustration Rare",
          "Special Illustration Rare",
          "Special Illustration Rare",
          "Special Illustration Rare",
          "Special Illustration Rare",
          "Special Illustration Rare",
          "Special Illustration Rare",
          "Special Illustration Rare",
          "Special Illustration Rare",
          "Special Illustration Rare",
          "Special Illustration Rare",
          "Special Illustration Rare",
          "Special Illustration Rare",
          "Special Illustration Rare",
          "Special Illustration Rare",
          "Special Illustration Rare",
          "Special Illustration Rare",
          "Special Illustration Rare",
          "Special Illustration Rare",
          "Special Illustration Rare",
          "Special Illustration Rare",
          "Special Illustration Rare",
          "Special Illustration Rare",
          "Special Illustration Rare",
          "Special Illustration Rare",
          "Special Illustration Rare",
          "Special Illustration Rare",
          "Special Illustration Rare",
          "Special Illustration Rare",
          "Special Illustration Rare",
          "Special Illustration Rare",
          "Special Illustration Rare",
          "Special Illustration Rare",
          "Special Illustration Rare",
          "Special Illustration Rare",
          "Special Illustration Rare",
          "Special Illustration Rare",
          "Special Illustration Rare",
          "Special Illustration Rare",
          "Special Illustration Rare",
          "Special Illustration Rare",
          "Special Illustration Rare",
          "Special Illustration Rare",
          "Special Illustration Rare",
          "Special Illustration Rare",
          "Special Illustration Rare",
          "Special Illustration Rare",
          "Special Illustration Rare",
          "Special Illustration Rare",
          "Special Illustration Rare",
          "Special Illustration Rare",
          "Special Illustration Rare",
          "Special Illustration Rare",
          "Special Illustration Rare",
          "Special Illustration Rare",
          "Special Illustration Rare",
          "Special Illustration Rare",
          "Special Illustration Rare",
          "Special Illustration Rare",
          "Special Illustration Rare",
          "Special Illustration Rare",
          "Special Illustration Rare",
          "Special Illustration Rare",
          "Special Illustration Rare",
          "Special Illustration Rare",
          "Special Illustration Rare",
          "Special Illustration Rare",
          "Special Illustration Rare",
          "Special Illustration Rare",
          "Special Illustration Rare",
          "Special Illustration Rare",
          "Special Illustration Rare",
          "Special Illustration Rare",
          "Special Illustration Rare",
          "Special Illustration Rare",
          "Special Illustration Rare",
          "Special Illustration Rare",
          "Special Illustration Rare",
          "Special Illustration Rare",
          "Special Illustration Rare",
          "Special Illustration Rare",
          "Special Illustration Rare",
          "Special Illustration Rare",
          "Special Illustration Rare",
          "Special Illustration Rare",
          "Special Illustration Rare",
          "Special Illustration Rare",
          "Special Illustration Rare",
          "Special Illustration Rare",
          "Special Illustration Rare",
          "Special Illustration Rare",
          "Special Illustration Rare",
          "Special Illustration Rare",
          "Special Illustration Rare",
          "Special Illustration Rare",
          "Special Illustration Rare",
          "Special Illustration Rare",
          "Special Illustration Rare",
          "Special Illustration Rare",
          "Special Illustration Rare",
          "Special Illustration Rare",
          "Special Illustration Rare",
          "Special Illustration Rare",
          "Special Illustration Rare",
          "Special Illustration Rare",
          "Special Illustration Rare",
          "Special Illustration Rare",
          "Special Illustration Rare",
          "Special Illustration Rare",
          "Special Illustration Rare",
          "Special Illustration Rare",
          "Special Illustration Rare",
          "Special Illustration Rare"
         ],
         "x0": " ",
         "xaxis": "x",
         "y": {
          "bdata": "AAAAAACQUUAAAAAAAIBWQAAAAAAAFJdA9ihcj8L1M0BxPQrXowBVQAAAAAAAgE1A4XoUrkcRVUAAAAAAAMBWQI/C9Shc/1dANDMzMzPzOEA0MzMzM/M8QML1KFyPAjtAPgrXo3CdUEAAAAAAACBSQI/C9Shcj1NAfBSuR+H6Q0CamZmZmXlGQDMzMzMzc1RAzszMzMyMPEBwPQrXo7A+QB+F61G4/lRAwvUoXI9CPkDNzMzMzGxTQEjhehSuv2hAAAAAAACAQEAAAAAAAKBRQPYoXI/CDWJAAAAAAACAWEAzMzMzM3NKQML1KFyPgjtA4XoUrkcBQ0AAAAAAAEB7QAAAAAAAUIRAAAAAAACgX0AAAAAAAOBvQAAAAAAA0G5AAAAAAAAgZ0AAAAAAAHhnQAAAAAAAQFBA9yhcj8L1O0A+CtejcP1AQJqZmZmZ+UBAAAAAAACATkAAAAAAAAA2QD4K16NwrVBAmpmZmZn5SEAAAAAAAEBaQHE9CtejgFRAhutRuB7lQEDhehSuRwFEQAAAAAAAADZAcT0K16MwTEDXo3A9CgdRQOF6FK6n5MJAAAAAAABAXUCkcD0K12t0QDQzMzMz8z5A4noUrkeBRkDiehSuRyFNQAAAAAAAgFFAH4XrUbh+QkBI4XoUrp9kQM3MzMzM/FJAXI/C9SjsVkBI4XoUrn9hQM3MzMzMrEBAj8L1KFwPYUAAAAAAACBSQML1KFyPAk9AcD0K16OAVEBxPQrXo0BQQKRwPQrXY0BAcD0K16PwSkD2KFyPwrU7QOxRuB6F6z9AAAAAAAAwfEDNzMzMzIw8QAAAAAAAwFJAAAAAAADAWUAehetRuP5JQFyPwvUoXEZAFK5H4XoMZEAAAAAAAABDQPUoXI/CVVBAPgrXo3D9U0BnZmZmZiZEQM3MzMzMfFRAPgrXo3DdSEDiehSuRwFGQM3MzMzMvFBAmZmZmZkJXECPwvUoXI9DQAAAAAAAgE9AAAAAAABAXUDiehSuRwFFQAAAAAAAAEJAAAAAAABAQECG61G4HsVLQMzMzMzMPFpArkfhehRuUUBcj8L1KMB3QLgehetRSFlAj8L1KFzfcEBSuB6F6zeDQCCF61G48nxAexSuR+HaQ0A0MzMzMxmFQDMzMzMzv3JAPgrXo3D9REA0MzMzM595QJDC9ShcT35A4noUrkepZkBI4XoUrkc8QJqZmZmZ/4NACtejcD3KdEDNzMzMzBCBQDQzMzMzv31AZmZmZmZ+a0A9CtejcM1YQAAAAAAAEGFACtejcD3qSkDXo3A9ChibQDQzMzMzP39AHoXrUbiOYUBSuB6F69lyQMzMzMzMYHRAMzMzMzOPdUAAAAAAALBhQHA9Ctej/HFAPQrXo3A9WkA+CtejcD1VQGZmZmZmHm5AmpmZmZn5SEAAAAAAAPBhQHsUrkfhmktAjsL1KFzfVUDwKFyPwvUbQAAAAAAAgEZAYI/C9ShcPUCgwvUoXI8XQAApXI/C9RNAAAAAAAAAREA=",
          "dtype": "f8"
         },
         "y0": " ",
         "yaxis": "y"
        }
       ],
       "layout": {
        "legend": {
         "title": {
          "text": "ExtRarity"
         },
         "tracegroupgap": 0
        },
        "template": {
         "data": {
          "bar": [
           {
            "error_x": {
             "color": "#2a3f5f"
            },
            "error_y": {
             "color": "#2a3f5f"
            },
            "marker": {
             "line": {
              "color": "#E5ECF6",
              "width": 0.5
             },
             "pattern": {
              "fillmode": "overlay",
              "size": 10,
              "solidity": 0.2
             }
            },
            "type": "bar"
           }
          ],
          "barpolar": [
           {
            "marker": {
             "line": {
              "color": "#E5ECF6",
              "width": 0.5
             },
             "pattern": {
              "fillmode": "overlay",
              "size": 10,
              "solidity": 0.2
             }
            },
            "type": "barpolar"
           }
          ],
          "carpet": [
           {
            "aaxis": {
             "endlinecolor": "#2a3f5f",
             "gridcolor": "white",
             "linecolor": "white",
             "minorgridcolor": "white",
             "startlinecolor": "#2a3f5f"
            },
            "baxis": {
             "endlinecolor": "#2a3f5f",
             "gridcolor": "white",
             "linecolor": "white",
             "minorgridcolor": "white",
             "startlinecolor": "#2a3f5f"
            },
            "type": "carpet"
           }
          ],
          "choropleth": [
           {
            "colorbar": {
             "outlinewidth": 0,
             "ticks": ""
            },
            "type": "choropleth"
           }
          ],
          "contour": [
           {
            "colorbar": {
             "outlinewidth": 0,
             "ticks": ""
            },
            "colorscale": [
             [
              0,
              "#0d0887"
             ],
             [
              0.1111111111111111,
              "#46039f"
             ],
             [
              0.2222222222222222,
              "#7201a8"
             ],
             [
              0.3333333333333333,
              "#9c179e"
             ],
             [
              0.4444444444444444,
              "#bd3786"
             ],
             [
              0.5555555555555556,
              "#d8576b"
             ],
             [
              0.6666666666666666,
              "#ed7953"
             ],
             [
              0.7777777777777778,
              "#fb9f3a"
             ],
             [
              0.8888888888888888,
              "#fdca26"
             ],
             [
              1,
              "#f0f921"
             ]
            ],
            "type": "contour"
           }
          ],
          "contourcarpet": [
           {
            "colorbar": {
             "outlinewidth": 0,
             "ticks": ""
            },
            "type": "contourcarpet"
           }
          ],
          "heatmap": [
           {
            "colorbar": {
             "outlinewidth": 0,
             "ticks": ""
            },
            "colorscale": [
             [
              0,
              "#0d0887"
             ],
             [
              0.1111111111111111,
              "#46039f"
             ],
             [
              0.2222222222222222,
              "#7201a8"
             ],
             [
              0.3333333333333333,
              "#9c179e"
             ],
             [
              0.4444444444444444,
              "#bd3786"
             ],
             [
              0.5555555555555556,
              "#d8576b"
             ],
             [
              0.6666666666666666,
              "#ed7953"
             ],
             [
              0.7777777777777778,
              "#fb9f3a"
             ],
             [
              0.8888888888888888,
              "#fdca26"
             ],
             [
              1,
              "#f0f921"
             ]
            ],
            "type": "heatmap"
           }
          ],
          "histogram": [
           {
            "marker": {
             "pattern": {
              "fillmode": "overlay",
              "size": 10,
              "solidity": 0.2
             }
            },
            "type": "histogram"
           }
          ],
          "histogram2d": [
           {
            "colorbar": {
             "outlinewidth": 0,
             "ticks": ""
            },
            "colorscale": [
             [
              0,
              "#0d0887"
             ],
             [
              0.1111111111111111,
              "#46039f"
             ],
             [
              0.2222222222222222,
              "#7201a8"
             ],
             [
              0.3333333333333333,
              "#9c179e"
             ],
             [
              0.4444444444444444,
              "#bd3786"
             ],
             [
              0.5555555555555556,
              "#d8576b"
             ],
             [
              0.6666666666666666,
              "#ed7953"
             ],
             [
              0.7777777777777778,
              "#fb9f3a"
             ],
             [
              0.8888888888888888,
              "#fdca26"
             ],
             [
              1,
              "#f0f921"
             ]
            ],
            "type": "histogram2d"
           }
          ],
          "histogram2dcontour": [
           {
            "colorbar": {
             "outlinewidth": 0,
             "ticks": ""
            },
            "colorscale": [
             [
              0,
              "#0d0887"
             ],
             [
              0.1111111111111111,
              "#46039f"
             ],
             [
              0.2222222222222222,
              "#7201a8"
             ],
             [
              0.3333333333333333,
              "#9c179e"
             ],
             [
              0.4444444444444444,
              "#bd3786"
             ],
             [
              0.5555555555555556,
              "#d8576b"
             ],
             [
              0.6666666666666666,
              "#ed7953"
             ],
             [
              0.7777777777777778,
              "#fb9f3a"
             ],
             [
              0.8888888888888888,
              "#fdca26"
             ],
             [
              1,
              "#f0f921"
             ]
            ],
            "type": "histogram2dcontour"
           }
          ],
          "mesh3d": [
           {
            "colorbar": {
             "outlinewidth": 0,
             "ticks": ""
            },
            "type": "mesh3d"
           }
          ],
          "parcoords": [
           {
            "line": {
             "colorbar": {
              "outlinewidth": 0,
              "ticks": ""
             }
            },
            "type": "parcoords"
           }
          ],
          "pie": [
           {
            "automargin": true,
            "type": "pie"
           }
          ],
          "scatter": [
           {
            "fillpattern": {
             "fillmode": "overlay",
             "size": 10,
             "solidity": 0.2
            },
            "type": "scatter"
           }
          ],
          "scatter3d": [
           {
            "line": {
             "colorbar": {
              "outlinewidth": 0,
              "ticks": ""
             }
            },
            "marker": {
             "colorbar": {
              "outlinewidth": 0,
              "ticks": ""
             }
            },
            "type": "scatter3d"
           }
          ],
          "scattercarpet": [
           {
            "marker": {
             "colorbar": {
              "outlinewidth": 0,
              "ticks": ""
             }
            },
            "type": "scattercarpet"
           }
          ],
          "scattergeo": [
           {
            "marker": {
             "colorbar": {
              "outlinewidth": 0,
              "ticks": ""
             }
            },
            "type": "scattergeo"
           }
          ],
          "scattergl": [
           {
            "marker": {
             "colorbar": {
              "outlinewidth": 0,
              "ticks": ""
             }
            },
            "type": "scattergl"
           }
          ],
          "scattermap": [
           {
            "marker": {
             "colorbar": {
              "outlinewidth": 0,
              "ticks": ""
             }
            },
            "type": "scattermap"
           }
          ],
          "scattermapbox": [
           {
            "marker": {
             "colorbar": {
              "outlinewidth": 0,
              "ticks": ""
             }
            },
            "type": "scattermapbox"
           }
          ],
          "scatterpolar": [
           {
            "marker": {
             "colorbar": {
              "outlinewidth": 0,
              "ticks": ""
             }
            },
            "type": "scatterpolar"
           }
          ],
          "scatterpolargl": [
           {
            "marker": {
             "colorbar": {
              "outlinewidth": 0,
              "ticks": ""
             }
            },
            "type": "scatterpolargl"
           }
          ],
          "scatterternary": [
           {
            "marker": {
             "colorbar": {
              "outlinewidth": 0,
              "ticks": ""
             }
            },
            "type": "scatterternary"
           }
          ],
          "surface": [
           {
            "colorbar": {
             "outlinewidth": 0,
             "ticks": ""
            },
            "colorscale": [
             [
              0,
              "#0d0887"
             ],
             [
              0.1111111111111111,
              "#46039f"
             ],
             [
              0.2222222222222222,
              "#7201a8"
             ],
             [
              0.3333333333333333,
              "#9c179e"
             ],
             [
              0.4444444444444444,
              "#bd3786"
             ],
             [
              0.5555555555555556,
              "#d8576b"
             ],
             [
              0.6666666666666666,
              "#ed7953"
             ],
             [
              0.7777777777777778,
              "#fb9f3a"
             ],
             [
              0.8888888888888888,
              "#fdca26"
             ],
             [
              1,
              "#f0f921"
             ]
            ],
            "type": "surface"
           }
          ],
          "table": [
           {
            "cells": {
             "fill": {
              "color": "#EBF0F8"
             },
             "line": {
              "color": "white"
             }
            },
            "header": {
             "fill": {
              "color": "#C8D4E3"
             },
             "line": {
              "color": "white"
             }
            },
            "type": "table"
           }
          ]
         },
         "layout": {
          "annotationdefaults": {
           "arrowcolor": "#2a3f5f",
           "arrowhead": 0,
           "arrowwidth": 1
          },
          "autotypenumbers": "strict",
          "coloraxis": {
           "colorbar": {
            "outlinewidth": 0,
            "ticks": ""
           }
          },
          "colorscale": {
           "diverging": [
            [
             0,
             "#8e0152"
            ],
            [
             0.1,
             "#c51b7d"
            ],
            [
             0.2,
             "#de77ae"
            ],
            [
             0.3,
             "#f1b6da"
            ],
            [
             0.4,
             "#fde0ef"
            ],
            [
             0.5,
             "#f7f7f7"
            ],
            [
             0.6,
             "#e6f5d0"
            ],
            [
             0.7,
             "#b8e186"
            ],
            [
             0.8,
             "#7fbc41"
            ],
            [
             0.9,
             "#4d9221"
            ],
            [
             1,
             "#276419"
            ]
           ],
           "sequential": [
            [
             0,
             "#0d0887"
            ],
            [
             0.1111111111111111,
             "#46039f"
            ],
            [
             0.2222222222222222,
             "#7201a8"
            ],
            [
             0.3333333333333333,
             "#9c179e"
            ],
            [
             0.4444444444444444,
             "#bd3786"
            ],
            [
             0.5555555555555556,
             "#d8576b"
            ],
            [
             0.6666666666666666,
             "#ed7953"
            ],
            [
             0.7777777777777778,
             "#fb9f3a"
            ],
            [
             0.8888888888888888,
             "#fdca26"
            ],
            [
             1,
             "#f0f921"
            ]
           ],
           "sequentialminus": [
            [
             0,
             "#0d0887"
            ],
            [
             0.1111111111111111,
             "#46039f"
            ],
            [
             0.2222222222222222,
             "#7201a8"
            ],
            [
             0.3333333333333333,
             "#9c179e"
            ],
            [
             0.4444444444444444,
             "#bd3786"
            ],
            [
             0.5555555555555556,
             "#d8576b"
            ],
            [
             0.6666666666666666,
             "#ed7953"
            ],
            [
             0.7777777777777778,
             "#fb9f3a"
            ],
            [
             0.8888888888888888,
             "#fdca26"
            ],
            [
             1,
             "#f0f921"
            ]
           ]
          },
          "colorway": [
           "#636efa",
           "#EF553B",
           "#00cc96",
           "#ab63fa",
           "#FFA15A",
           "#19d3f3",
           "#FF6692",
           "#B6E880",
           "#FF97FF",
           "#FECB52"
          ],
          "font": {
           "color": "#2a3f5f"
          },
          "geo": {
           "bgcolor": "white",
           "lakecolor": "white",
           "landcolor": "#E5ECF6",
           "showlakes": true,
           "showland": true,
           "subunitcolor": "white"
          },
          "hoverlabel": {
           "align": "left"
          },
          "hovermode": "closest",
          "mapbox": {
           "style": "light"
          },
          "paper_bgcolor": "white",
          "plot_bgcolor": "#E5ECF6",
          "polar": {
           "angularaxis": {
            "gridcolor": "white",
            "linecolor": "white",
            "ticks": ""
           },
           "bgcolor": "#E5ECF6",
           "radialaxis": {
            "gridcolor": "white",
            "linecolor": "white",
            "ticks": ""
           }
          },
          "scene": {
           "xaxis": {
            "backgroundcolor": "#E5ECF6",
            "gridcolor": "white",
            "gridwidth": 2,
            "linecolor": "white",
            "showbackground": true,
            "ticks": "",
            "zerolinecolor": "white"
           },
           "yaxis": {
            "backgroundcolor": "#E5ECF6",
            "gridcolor": "white",
            "gridwidth": 2,
            "linecolor": "white",
            "showbackground": true,
            "ticks": "",
            "zerolinecolor": "white"
           },
           "zaxis": {
            "backgroundcolor": "#E5ECF6",
            "gridcolor": "white",
            "gridwidth": 2,
            "linecolor": "white",
            "showbackground": true,
            "ticks": "",
            "zerolinecolor": "white"
           }
          },
          "shapedefaults": {
           "line": {
            "color": "#2a3f5f"
           }
          },
          "ternary": {
           "aaxis": {
            "gridcolor": "white",
            "linecolor": "white",
            "ticks": ""
           },
           "baxis": {
            "gridcolor": "white",
            "linecolor": "white",
            "ticks": ""
           },
           "bgcolor": "#E5ECF6",
           "caxis": {
            "gridcolor": "white",
            "linecolor": "white",
            "ticks": ""
           }
          },
          "title": {
           "x": 0.05
          },
          "xaxis": {
           "automargin": true,
           "gridcolor": "white",
           "linecolor": "white",
           "ticks": "",
           "title": {
            "standoff": 15
           },
           "zerolinecolor": "white",
           "zerolinewidth": 2
          },
          "yaxis": {
           "automargin": true,
           "gridcolor": "white",
           "linecolor": "white",
           "ticks": "",
           "title": {
            "standoff": 15
           },
           "zerolinecolor": "white",
           "zerolinewidth": 2
          }
         }
        },
        "title": {
         "text": "Volatility grouped by Rarity"
        },
        "violinmode": "overlay",
        "xaxis": {
         "anchor": "y",
         "categoryarray": [
          "Hyper Rare",
          "Illustration Rare",
          "Special Illustration Rare"
         ],
         "categoryorder": "array",
         "domain": [
          0,
          1
         ],
         "title": {
          "text": "ExtRarity"
         }
        },
        "yaxis": {
         "anchor": "x",
         "domain": [
          0,
          1
         ],
         "title": {
          "text": "Volatility"
         }
        }
       }
      }
     },
     "metadata": {},
     "output_type": "display_data"
    }
   ],
   "source": [
    "import plotly.express as plotly\n",
    "import plotly.io as pio\n",
    "\n",
    "fig_ttest = plotly.violin(\n",
    "    master_df, \n",
    "    y = 'volatility', \n",
    "    x = 'extRarity', \n",
    "    color ='extRarity',\n",
    "    box = True, \n",
    "    points='all',  \\\n",
    "    title = 'Volatility grouped by Rarity',\n",
    "    labels={'extRarity': 'ExtRarity', 'volatility': 'Volatility'}\n",
    ")\n",
    "fig_ttest"
   ]
  }
 ],
 "metadata": {
  "kernelspec": {
   "display_name": "Python 3",
   "language": "python",
   "name": "python3"
  },
  "language_info": {
   "codemirror_mode": {
    "name": "ipython",
    "version": 3
   },
   "file_extension": ".py",
   "mimetype": "text/x-python",
   "name": "python",
   "nbconvert_exporter": "python",
   "pygments_lexer": "ipython3",
   "version": "3.11.5"
  }
 },
 "nbformat": 4,
 "nbformat_minor": 2
}
