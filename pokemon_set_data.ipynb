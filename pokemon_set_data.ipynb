{
 "cells": [
  {
   "cell_type": "markdown",
   "metadata": {},
   "source": [
    "# Group Project gang\n",
    "\n",
    "We are uploading all csv files of the Scarlet & Violet main and special sets.\n",
    "\n",
    "Sets: SV01, SV02, SV03, SV: Scarlet & Violet 151, SV04, SV: Paldean Fates, SV05, SV06, SV: Shrouded Fable, SV07, SV08, SV: Prismatic Evolutions, SV09"
   ]
  },
  {
   "cell_type": "code",
<<<<<<< HEAD
   "execution_count": 10,
=======
   "execution_count": 73,
>>>>>>> 3ec6d88068e896ecc83e2f7788e35ecd656b2b29
   "metadata": {},
   "outputs": [],
   "source": [
    "import pandas as pd\n",
    "import scipy as sp\n",
    "import numpy as np\n",
    "import matplotlib.pyplot as plt\n",
    "\n",
    "sv01_df = pd.read_csv('SV01ScarletAndVioletBaseSetProductsAndPrices.csv')\n",
    "sv02_df = pd.read_csv('SV02PaldeaEvolvedProductsAndPrices.csv')\n",
    "sv03_df = pd.read_csv('SV03ObsidianFlamesProductsAndPrices.csv')\n",
    "sv04_df = pd.read_csv('SV04ParadoxRiftProductsAndPrices.csv')\n",
    "sv05_df = pd.read_csv('SV05TemporalForcesProductsAndPrices.csv')\n",
    "sv06_df = pd.read_csv('SV06TwilightMasqueradeProductsAndPrices.csv')\n",
    "sv07_df = pd.read_csv('SV07StellarCrownProductsAndPrices.csv')\n",
    "sv08_df = pd.read_csv('SV08SurgingSparksProductsAndPrices.csv')\n",
    "sv09_df = pd.read_csv('SV09JourneyTogetherProductsAndPrices.csv')\n",
    "sv_151_df = pd.read_csv('SVScarletAndViolet151ProductsAndPrices.csv')\n",
    "sv_pf_df = pd.read_csv('SVPaldeanFatesProductsAndPrices.csv')\n",
    "sv_sf_df = pd.read_csv('SVShroudedFableProductsAndPrices.csv')\n",
    "sv_pe_df = pd.read_csv('SVPrismaticEvolutionsProductsAndPrices.csv')"
   ]
  },
  {
   "cell_type": "markdown",
   "metadata": {},
   "source": [
    "We then merge all of these sets into a master set, filter out unnecessary columns, and add a column for the textual set name based on groupId variable."
   ]
  },
  {
   "cell_type": "code",
<<<<<<< HEAD
   "execution_count": 11,
=======
   "execution_count": 74,
>>>>>>> 3ec6d88068e896ecc83e2f7788e35ecd656b2b29
   "metadata": {},
   "outputs": [
    {
     "data": {
      "text/html": [
       "<div>\n",
       "<style scoped>\n",
       "    .dataframe tbody tr th:only-of-type {\n",
       "        vertical-align: middle;\n",
       "    }\n",
       "\n",
       "    .dataframe tbody tr th {\n",
       "        vertical-align: top;\n",
       "    }\n",
       "\n",
       "    .dataframe thead th {\n",
       "        text-align: right;\n",
       "    }\n",
       "</style>\n",
       "<table border=\"1\" class=\"dataframe\">\n",
       "  <thead>\n",
       "    <tr style=\"text-align: right;\">\n",
       "      <th></th>\n",
       "      <th>index</th>\n",
       "      <th>productId</th>\n",
       "      <th>name</th>\n",
       "      <th>groupId</th>\n",
       "      <th>lowPrice</th>\n",
       "      <th>highPrice</th>\n",
       "      <th>marketPrice</th>\n",
       "      <th>extRarity</th>\n",
       "      <th>set</th>\n",
       "      <th>release date</th>\n",
       "    </tr>\n",
       "  </thead>\n",
       "  <tbody>\n",
       "    <tr>\n",
       "      <th>1</th>\n",
       "      <td>437</td>\n",
       "      <td>490043</td>\n",
       "      <td>Miraidon ex - 253/198</td>\n",
       "      <td>22873</td>\n",
       "      <td>4.99</td>\n",
       "      <td>60.00</td>\n",
       "      <td>5.76</td>\n",
       "      <td>Hyper Rare</td>\n",
       "      <td>Scarlet And Violet Base</td>\n",
       "      <td>2023-05-31</td>\n",
       "    </tr>\n",
       "    <tr>\n",
       "      <th>2</th>\n",
       "      <td>439</td>\n",
       "      <td>490045</td>\n",
       "      <td>Koraidon ex - 254/198</td>\n",
       "      <td>22873</td>\n",
       "      <td>3.00</td>\n",
       "      <td>28.20</td>\n",
       "      <td>5.50</td>\n",
       "      <td>Hyper Rare</td>\n",
       "      <td>Scarlet And Violet Base</td>\n",
       "      <td>2023-05-31</td>\n",
       "    </tr>\n",
       "    <tr>\n",
       "      <th>3</th>\n",
       "      <td>483</td>\n",
       "      <td>490294</td>\n",
       "      <td>Basic Fighting Energy - 258/198</td>\n",
       "      <td>22873</td>\n",
       "      <td>2.39</td>\n",
       "      <td>25.00</td>\n",
       "      <td>3.14</td>\n",
       "      <td>Hyper Rare</td>\n",
       "      <td>Scarlet And Violet Base</td>\n",
       "      <td>2023-05-31</td>\n",
       "    </tr>\n",
       "    <tr>\n",
       "      <th>4</th>\n",
       "      <td>484</td>\n",
       "      <td>490295</td>\n",
       "      <td>Basic Lightning Energy - 257/198</td>\n",
       "      <td>22873</td>\n",
       "      <td>3.00</td>\n",
       "      <td>50.00</td>\n",
       "      <td>5.01</td>\n",
       "      <td>Hyper Rare</td>\n",
       "      <td>Scarlet And Violet Base</td>\n",
       "      <td>2023-05-31</td>\n",
       "    </tr>\n",
       "    <tr>\n",
       "      <th>5</th>\n",
       "      <td>485</td>\n",
       "      <td>490296</td>\n",
       "      <td>Rare Candy - 256/198</td>\n",
       "      <td>22873</td>\n",
       "      <td>5.80</td>\n",
       "      <td>30.02</td>\n",
       "      <td>7.83</td>\n",
       "      <td>Hyper Rare</td>\n",
       "      <td>Scarlet And Violet Base</td>\n",
       "      <td>2023-05-31</td>\n",
       "    </tr>\n",
       "    <tr>\n",
       "      <th>...</th>\n",
       "      <td>...</td>\n",
       "      <td>...</td>\n",
       "      <td>...</td>\n",
       "      <td>...</td>\n",
       "      <td>...</td>\n",
       "      <td>...</td>\n",
       "      <td>...</td>\n",
       "      <td>...</td>\n",
       "      <td>...</td>\n",
       "      <td>...</td>\n",
       "    </tr>\n",
       "    <tr>\n",
       "      <th>437</th>\n",
       "      <td>338</td>\n",
       "      <td>623610</td>\n",
       "      <td>Iono's Bellibolt ex - 183/159</td>\n",
       "      <td>24073</td>\n",
       "      <td>135.00</td>\n",
       "      <td>180.00</td>\n",
       "      <td>136.62</td>\n",
       "      <td>Special Illustration Rare</td>\n",
       "      <td>Journey Together</td>\n",
       "      <td>2025-03-28</td>\n",
       "    </tr>\n",
       "    <tr>\n",
       "      <th>438</th>\n",
       "      <td>339</td>\n",
       "      <td>623611</td>\n",
       "      <td>Lillie's Clefairy ex - 184/159</td>\n",
       "      <td>24073</td>\n",
       "      <td>300.00</td>\n",
       "      <td>329.36</td>\n",
       "      <td>328.63</td>\n",
       "      <td>Special Illustration Rare</td>\n",
       "      <td>Journey Together</td>\n",
       "      <td>2025-03-28</td>\n",
       "    </tr>\n",
       "    <tr>\n",
       "      <th>439</th>\n",
       "      <td>340</td>\n",
       "      <td>623612</td>\n",
       "      <td>N's Zoroark ex - 185/159</td>\n",
       "      <td>24073</td>\n",
       "      <td>214.10</td>\n",
       "      <td>219.99</td>\n",
       "      <td>219.62</td>\n",
       "      <td>Special Illustration Rare</td>\n",
       "      <td>Journey Together</td>\n",
       "      <td>2025-03-28</td>\n",
       "    </tr>\n",
       "    <tr>\n",
       "      <th>440</th>\n",
       "      <td>341</td>\n",
       "      <td>623613</td>\n",
       "      <td>Hop's Zacian ex - 186/159</td>\n",
       "      <td>24073</td>\n",
       "      <td>175.00</td>\n",
       "      <td>179.99</td>\n",
       "      <td>178.79</td>\n",
       "      <td>Special Illustration Rare</td>\n",
       "      <td>Journey Together</td>\n",
       "      <td>2025-03-28</td>\n",
       "    </tr>\n",
       "    <tr>\n",
       "      <th>441</th>\n",
       "      <td>342</td>\n",
       "      <td>623614</td>\n",
       "      <td>Salamence ex - 187/159</td>\n",
       "      <td>24073</td>\n",
       "      <td>200.00</td>\n",
       "      <td>240.00</td>\n",
       "      <td>238.03</td>\n",
       "      <td>Special Illustration Rare</td>\n",
       "      <td>Journey Together</td>\n",
       "      <td>2025-03-28</td>\n",
       "    </tr>\n",
       "  </tbody>\n",
       "</table>\n",
       "<p>441 rows × 10 columns</p>\n",
       "</div>"
      ],
      "text/plain": [
       "     index  productId                              name  groupId  lowPrice  \\\n",
       "1      437     490043             Miraidon ex - 253/198    22873      4.99   \n",
       "2      439     490045             Koraidon ex - 254/198    22873      3.00   \n",
       "3      483     490294   Basic Fighting Energy - 258/198    22873      2.39   \n",
       "4      484     490295  Basic Lightning Energy - 257/198    22873      3.00   \n",
       "5      485     490296              Rare Candy - 256/198    22873      5.80   \n",
       "..     ...        ...                               ...      ...       ...   \n",
       "437    338     623610     Iono's Bellibolt ex - 183/159    24073    135.00   \n",
       "438    339     623611    Lillie's Clefairy ex - 184/159    24073    300.00   \n",
       "439    340     623612          N's Zoroark ex - 185/159    24073    214.10   \n",
       "440    341     623613         Hop's Zacian ex - 186/159    24073    175.00   \n",
       "441    342     623614            Salamence ex - 187/159    24073    200.00   \n",
       "\n",
       "     highPrice  marketPrice                  extRarity  \\\n",
       "1        60.00         5.76                 Hyper Rare   \n",
       "2        28.20         5.50                 Hyper Rare   \n",
       "3        25.00         3.14                 Hyper Rare   \n",
       "4        50.00         5.01                 Hyper Rare   \n",
       "5        30.02         7.83                 Hyper Rare   \n",
       "..         ...          ...                        ...   \n",
       "437     180.00       136.62  Special Illustration Rare   \n",
       "438     329.36       328.63  Special Illustration Rare   \n",
       "439     219.99       219.62  Special Illustration Rare   \n",
       "440     179.99       178.79  Special Illustration Rare   \n",
       "441     240.00       238.03  Special Illustration Rare   \n",
       "\n",
       "                         set release date  \n",
       "1    Scarlet And Violet Base   2023-05-31  \n",
       "2    Scarlet And Violet Base   2023-05-31  \n",
       "3    Scarlet And Violet Base   2023-05-31  \n",
       "4    Scarlet And Violet Base   2023-05-31  \n",
       "5    Scarlet And Violet Base   2023-05-31  \n",
       "..                       ...          ...  \n",
       "437         Journey Together   2025-03-28  \n",
       "438         Journey Together   2025-03-28  \n",
       "439         Journey Together   2025-03-28  \n",
       "440         Journey Together   2025-03-28  \n",
       "441         Journey Together   2025-03-28  \n",
       "\n",
       "[441 rows x 10 columns]"
      ]
     },
     "metadata": {},
     "output_type": "display_data"
    }
   ],
   "source": [
    "master_df = pd.concat([sv01_df, sv02_df, sv03_df, sv04_df, sv05_df, sv06_df, sv07_df, sv08_df, sv09_df, sv_151_df, sv_pf_df, sv_sf_df, sv_pe_df])\n",
    "master_df = master_df[['productId', 'name', 'groupId', 'lowPrice', 'highPrice', 'marketPrice', 'extRarity']]\n",
    "\n",
    "# filter for cards of specific rarity\n",
    "master_df = master_df[(master_df['extRarity'] == 'Special Illustration Rare') | (master_df['extRarity'] == 'Illustration Rare') | (master_df['extRarity'] == 'Hyper Rare')]\n",
    "\n",
    "# add textual set name column\n",
    "def get_textset(setId):\n",
    "    setId_list = [22873, 23120, 23228, 23286, 23381, 23473, 23537, 23651, 24073, 23237, 23353, 23529, 23821]\n",
    "    textId_list = [\n",
    "        'Scarlet And Violet Base',\n",
    "        'Paldea Evolved',\n",
    "        'Obsidian Flames',\n",
    "        'Paradox Rift',\n",
    "        'Temporal Forces',\n",
    "        'Twilight Masquerade',\n",
    "        'Stellar Crown',\n",
    "        'Surging Sparks',\n",
    "        'Journey Together',\n",
    "        'Scarlet And Violet 151',\n",
    "        'Paldean Fates',\n",
    "        'Shrouded Fable',\n",
    "        'Prismatic Evolutions'\n",
    "    ]\n",
    "    index = setId_list.index(setId)\n",
    "    return textId_list[index]\n",
    "\n",
    "master_df['set'] = master_df['groupId'].apply(get_textset)\n",
    "\n",
    "# add release date\n",
    "def get_dateset(setId):\n",
    "    name_list = ['Scarlet And Violet Base',\n",
    "        'Paldea Evolved',\n",
    "        'Obsidian Flames',\n",
    "        'Paradox Rift',\n",
    "        'Temporal Forces',\n",
    "        'Twilight Masquerade',\n",
    "        'Stellar Crown',\n",
    "        'Surging Sparks',\n",
    "        'Journey Together',\n",
    "        'Scarlet And Violet 151',\n",
    "        'Paldean Fates',\n",
    "        'Shrouded Fable',\n",
    "        'Prismatic Evolutions']\n",
    "    date_list = [\n",
    "        '05-31-2023',\n",
    "        '06-09-2023',\n",
    "        '08-11-2023',\n",
    "        '10-03-2023',\n",
    "        '03-22-2024',\n",
    "        '05-24-2024',\n",
    "        '09-13-2024',\n",
    "        '11-08-2024',\n",
    "        '03-28-2025',\n",
    "        '09-22-2023',\n",
    "        '01-26-2024',\n",
    "        '09-02-2024',\n",
    "        '01-17-2025'\n",
    "    ]\n",
    "    index = name_list.index(setId)\n",
    "    return date_list[index]\n",
    "\n",
    "master_df['set'] = master_df['groupId'].apply(get_textset)\n",
    "master_df['release date'] = master_df['set'].apply(get_dateset)\n",
    "\n",
    "# sort dataframe by card rarity\n",
    "master_df = master_df.sort_values(by=['groupId', 'extRarity'])\n",
    "\n",
    "# reset index\n",
    "master_df = master_df.reset_index()\n",
    "master_df.index +=1\n",
    "\n",
    "master_df['release date'] = pd.to_datetime(master_df['release date'], format='%m-%d-%Y')\n",
    "\n",
    "display(master_df)"
   ]
  },
  {
   "cell_type": "markdown",
   "metadata": {},
   "source": [
    "We will also have to fill in all NaN values, especially for the market prices of recent sets (ie. SV09 Journey Together).\n",
    "\n",
    "In order to fill in the NaN values, we will take the average of the lowPrice and highPrice values and input the average into marketPrice."
   ]
  },
  {
   "cell_type": "code",
<<<<<<< HEAD
   "execution_count": 12,
=======
   "execution_count": 75,
>>>>>>> 3ec6d88068e896ecc83e2f7788e35ecd656b2b29
   "metadata": {},
   "outputs": [],
   "source": [
    "def fill_market_price(row):\n",
    "    if pd.isna(row['marketPrice']):\n",
    "        low_high_average = (row['lowPrice'] + row['highPrice'])/2\n",
    "        row['marketPrice'] = round(low_high_average, 2)\n",
    "    return row['marketPrice']\n",
    "\n",
    "master_df['marketPrice'] = master_df.apply(fill_market_price, axis=1)"
   ]
  },
  {
   "cell_type": "markdown",
   "metadata": {},
   "source": [
    "## Hypothesis Tests\n",
    "\n",
    "We will now conduct three hypothesis tests to observe trends and patterns in data."
   ]
  },
  {
   "cell_type": "markdown",
   "metadata": {},
   "source": [
    "### TEST I:\n",
    "Using an ANOVA test, we plan on determining if the average price of cards of the same rarity vary significantly across all relevant sets\n",
    "(relevant sets - scarlet and violet main and special sets)\n",
    "\n",
    "Because we are testing multiple categories and observing if they exist within the same distribution, an ANOVA test would be appropriate.\n",
    "Significance level = 0.05 (Level of confidence = 95%)\n",
    "\n",
    "H0: There is no significant difference in the prices of the same card rarity across the relevant sets.\n",
    "HA: There exists significant differences in the prices of the same card rarity across the relevant sets."
   ]
  },
  {
   "cell_type": "code",
<<<<<<< HEAD
   "execution_count": 13,
=======
   "execution_count": 76,
>>>>>>> 3ec6d88068e896ecc83e2f7788e35ecd656b2b29
   "metadata": {},
   "outputs": [],
   "source": [
    "hr_df = master_df[master_df['extRarity'] == 'Hyper Rare']\n",
    "ir_df = master_df[master_df['extRarity'] == 'Illustration Rare']\n",
    "sir_df = master_df[master_df['extRarity'] == 'Special Illustration Rare']"
   ]
  },
  {
   "cell_type": "markdown",
   "metadata": {},
   "source": [
    "#### Hyper Rare Cards:"
   ]
  },
  {
   "cell_type": "code",
<<<<<<< HEAD
   "execution_count": 14,
=======
   "execution_count": 77,
>>>>>>> 3ec6d88068e896ecc83e2f7788e35ecd656b2b29
   "metadata": {},
   "outputs": [
    {
     "name": "stderr",
     "output_type": "stream",
     "text": [
<<<<<<< HEAD
      "/var/folders/jf/0fx_tc1j7q53x09tmy3ll_f80000gn/T/ipykernel_32084/3381310859.py:8: FutureWarning:\n",
      "\n",
      "The behavior of DataFrame concatenation with empty or all-NA entries is deprecated. In a future version, this will no longer exclude empty or all-NA columns when determining the result dtypes. To retain the old behavior, exclude the relevant entries before the concat operation.\n",
      "\n"
=======
      "C:\\Users\\evanz\\AppData\\Local\\Temp\\ipykernel_70232\\553501463.py:9: FutureWarning: The behavior of DataFrame concatenation with empty or all-NA entries is deprecated. In a future version, this will no longer exclude empty or all-NA columns when determining the result dtypes. To retain the old behavior, exclude the relevant entries before the concat operation.\n",
      "  hr_average_prices = pd.concat([hr_average_prices, pd.DataFrame([row])], ignore_index=True)\n"
>>>>>>> 3ec6d88068e896ecc83e2f7788e35ecd656b2b29
     ]
    },
    {
     "name": "stdout",
     "output_type": "stream",
     "text": [
      "1.2307944715509516e-06\n",
      "Tukey's HSD Pairwise Group Comparisons (95.0% Confidence Interval)\n",
      "Comparison  Statistic  p-value  Lower CI  Upper CI\n",
      " (0 - 1)      0.690     1.000   -31.715    33.095\n",
      " (0 - 2)     -3.223     1.000   -46.699    40.252\n",
      " (0 - 3)     -0.230     1.000   -43.705    43.245\n",
      " (0 - 4)     -0.245     1.000   -34.451    33.962\n",
      " (0 - 5)     -2.320     1.000   -37.818    33.178\n",
      " (0 - 6)     -6.393     1.000   -41.891    29.104\n",
      " (0 - 7)     -5.483     1.000   -40.981    30.014\n",
      " (0 - 8)    -25.485     0.479   -62.715    11.745\n",
      " (0 - 9)     -7.690     1.000   -51.165    35.785\n",
      " (0 - 10)    -20.675     0.718   -56.173    14.823\n",
      " (0 - 11)    -21.691     0.717   -58.921    15.539\n",
      " (0 - 12)    -85.747     0.000  -129.222   -42.271\n",
      " (1 - 0)     -0.690     1.000   -33.095    31.715\n",
      " (1 - 2)     -3.913     1.000   -44.902    37.076\n",
      " (1 - 3)     -0.920     1.000   -41.909    40.069\n",
      " (1 - 4)     -0.935     1.000   -31.920    30.050\n",
      " (1 - 5)     -3.010     1.000   -35.415    29.395\n",
      " (1 - 6)     -7.083     1.000   -39.488    25.321\n",
      " (1 - 7)     -6.173     1.000   -38.578    26.231\n",
      " (1 - 8)    -26.175     0.311   -60.469     8.119\n",
      " (1 - 9)     -8.380     1.000   -49.369    32.609\n",
      " (1 - 10)    -21.365     0.539   -53.770    11.040\n",
      " (1 - 11)    -22.381     0.554   -56.675    11.913\n",
      " (1 - 12)    -86.437     0.000  -127.426   -45.448\n",
      " (2 - 0)      3.223     1.000   -40.252    46.699\n",
      " (2 - 1)      3.913     1.000   -37.076    44.902\n",
      " (2 - 3)      2.993     1.000   -47.208    53.194\n",
      " (2 - 4)      2.979     1.000   -39.449    45.406\n",
      " (2 - 5)      0.903     1.000   -42.572    44.379\n",
      " (2 - 6)     -3.170     1.000   -46.645    40.305\n",
      " (2 - 7)     -2.260     1.000   -45.735    41.215\n",
      " (2 - 8)    -22.262     0.879   -67.163    22.639\n",
      " (2 - 9)     -4.467     1.000   -54.668    45.734\n",
      " (2 - 10)    -17.452     0.971   -60.927    26.024\n",
      " (2 - 11)    -18.468     0.966   -63.369    26.433\n",
      " (2 - 12)    -82.523     0.000  -132.724   -32.322\n",
      " (3 - 0)      0.230     1.000   -43.245    43.705\n",
      " (3 - 1)      0.920     1.000   -40.069    41.909\n",
      " (3 - 2)     -2.993     1.000   -53.194    47.208\n",
      " (3 - 4)     -0.015     1.000   -42.442    42.413\n",
      " (3 - 5)     -2.090     1.000   -45.565    41.385\n",
      " (3 - 6)     -6.163     1.000   -49.639    37.312\n",
      " (3 - 7)     -5.253     1.000   -48.729    38.222\n",
      " (3 - 8)    -25.255     0.761   -70.157    19.646\n",
      " (3 - 9)     -7.460     1.000   -57.661    42.741\n",
      " (3 - 10)    -20.445     0.913   -63.920    23.030\n",
      " (3 - 11)    -21.461     0.904   -66.363    23.440\n",
      " (3 - 12)    -85.517     0.000  -135.718   -35.316\n",
      " (4 - 0)      0.245     1.000   -33.962    34.451\n",
      " (4 - 1)      0.935     1.000   -30.050    31.920\n",
      " (4 - 2)     -2.979     1.000   -45.406    39.449\n",
      " (4 - 3)      0.015     1.000   -42.413    42.442\n",
      " (4 - 5)     -2.075     1.000   -36.282    32.131\n",
      " (4 - 6)     -6.149     1.000   -40.355    28.058\n",
      " (4 - 7)     -5.239     1.000   -39.445    28.968\n",
      " (4 - 8)    -25.241     0.441   -61.242    10.760\n",
      " (4 - 9)     -7.445     1.000   -49.873    34.982\n",
      " (4 - 10)    -20.430     0.685   -54.637    13.776\n",
      " (4 - 11)    -21.447     0.688   -57.448    14.554\n",
      " (4 - 12)    -85.502     0.000  -127.930   -43.074\n",
      " (5 - 0)      2.320     1.000   -33.178    37.818\n",
      " (5 - 1)      3.010     1.000   -29.395    35.415\n",
      " (5 - 2)     -0.903     1.000   -44.379    42.572\n",
      " (5 - 3)      2.090     1.000   -41.385    45.565\n",
      " (5 - 4)      2.075     1.000   -32.131    36.282\n",
      " (5 - 6)     -4.073     1.000   -39.571    31.424\n",
      " (5 - 7)     -3.163     1.000   -38.661    32.334\n",
      " (5 - 8)    -23.165     0.627   -60.395    14.065\n",
      " (5 - 9)     -5.370     1.000   -48.845    38.105\n",
      " (5 - 10)    -18.355     0.846   -53.853    17.143\n",
      " (5 - 11)    -19.371     0.841   -56.601    17.859\n",
      " (5 - 12)    -83.427     0.000  -126.902   -39.951\n",
      " (6 - 0)      6.393     1.000   -29.104    41.891\n",
      " (6 - 1)      7.083     1.000   -25.321    39.488\n",
      " (6 - 2)      3.170     1.000   -40.305    46.645\n",
      " (6 - 3)      6.163     1.000   -37.312    49.639\n",
      " (6 - 4)      6.149     1.000   -28.058    40.355\n",
      " (6 - 5)      4.073     1.000   -31.424    39.571\n",
      " (6 - 7)      0.910     1.000   -34.588    36.408\n",
      " (6 - 8)    -19.092     0.853   -56.322    18.138\n",
      " (6 - 9)     -1.297     1.000   -44.772    42.179\n",
      " (6 - 10)    -14.282     0.971   -49.779    21.216\n",
      " (6 - 11)    -15.298     0.966   -52.528    21.932\n",
      " (6 - 12)    -79.353     0.000  -122.829   -35.878\n",
      " (7 - 0)      5.483     1.000   -30.014    40.981\n",
      " (7 - 1)      6.173     1.000   -26.231    38.578\n",
      " (7 - 2)      2.260     1.000   -41.215    45.735\n",
      " (7 - 3)      5.253     1.000   -38.222    48.729\n",
      " (7 - 4)      5.239     1.000   -28.968    39.445\n",
      " (7 - 5)      3.163     1.000   -32.334    38.661\n",
      " (7 - 6)     -0.910     1.000   -36.408    34.588\n",
      " (7 - 8)    -20.002     0.810   -57.232    17.228\n",
      " (7 - 9)     -2.207     1.000   -45.682    41.269\n",
      " (7 - 10)    -15.192     0.954   -50.689    20.306\n",
      " (7 - 11)    -16.208     0.948   -53.438    21.022\n",
      " (7 - 12)    -80.263     0.000  -123.739   -36.788\n",
      " (8 - 0)     25.485     0.479   -11.745    62.715\n",
      " (8 - 1)     26.175     0.311    -8.119    60.469\n",
      " (8 - 2)     22.262     0.879   -22.639    67.163\n",
      " (8 - 3)     25.255     0.761   -19.646    70.157\n",
      " (8 - 4)     25.241     0.441   -10.760    61.242\n",
      " (8 - 5)     23.165     0.627   -14.065    60.395\n",
      " (8 - 6)     19.092     0.853   -18.138    56.322\n",
      " (8 - 7)     20.002     0.810   -17.228    57.232\n",
      " (8 - 9)     17.795     0.974   -27.106    62.697\n",
      " (8 - 10)      4.810     1.000   -32.420    42.040\n",
      " (8 - 11)      3.794     1.000   -35.092    42.680\n",
      " (8 - 12)    -60.261     0.001  -105.163   -15.360\n",
      " (9 - 0)      7.690     1.000   -35.785    51.165\n",
      " (9 - 1)      8.380     1.000   -32.609    49.369\n",
      " (9 - 2)      4.467     1.000   -45.734    54.668\n",
      " (9 - 3)      7.460     1.000   -42.741    57.661\n",
      " (9 - 4)      7.445     1.000   -34.982    49.873\n",
      " (9 - 5)      5.370     1.000   -38.105    48.845\n",
      " (9 - 6)      1.297     1.000   -42.179    44.772\n",
      " (9 - 7)      2.207     1.000   -41.269    45.682\n",
      " (9 - 8)    -17.795     0.974   -62.697    27.106\n",
      " (9 - 10)    -12.985     0.998   -56.460    30.490\n",
      " (9 - 11)    -14.001     0.997   -58.903    30.900\n",
      " (9 - 12)    -78.057     0.000  -128.258   -27.856\n",
      " (10 - 0)     20.675     0.718   -14.823    56.173\n",
      " (10 - 1)     21.365     0.539   -11.040    53.770\n",
      " (10 - 2)     17.452     0.971   -26.024    60.927\n",
      " (10 - 3)     20.445     0.913   -23.030    63.920\n",
      " (10 - 4)     20.430     0.685   -13.776    54.637\n",
      " (10 - 5)     18.355     0.846   -17.143    53.853\n",
      " (10 - 6)     14.282     0.971   -21.216    49.779\n",
      " (10 - 7)     15.192     0.954   -20.306    50.689\n",
      " (10 - 8)     -4.810     1.000   -42.040    32.420\n",
      " (10 - 9)     12.985     0.998   -30.490    56.460\n",
      " (10 - 11)     -1.016     1.000   -38.246    36.214\n",
      " (10 - 12)    -65.072     0.000  -108.547   -21.596\n",
      " (11 - 0)     21.691     0.717   -15.539    58.921\n",
      " (11 - 1)     22.381     0.554   -11.913    56.675\n",
      " (11 - 2)     18.468     0.966   -26.433    63.369\n",
      " (11 - 3)     21.461     0.904   -23.440    66.363\n",
      " (11 - 4)     21.447     0.688   -14.554    57.448\n",
      " (11 - 5)     19.371     0.841   -17.859    56.601\n",
      " (11 - 6)     15.298     0.966   -21.932    52.528\n",
      " (11 - 7)     16.208     0.948   -21.022    53.438\n",
      " (11 - 8)     -3.794     1.000   -42.680    35.092\n",
      " (11 - 9)     14.001     0.997   -30.900    58.903\n",
      " (11 - 10)      1.016     1.000   -36.214    38.246\n",
      " (11 - 12)    -64.055     0.001  -108.957   -19.154\n",
      " (12 - 0)     85.747     0.000    42.271   129.222\n",
      " (12 - 1)     86.437     0.000    45.448   127.426\n",
      " (12 - 2)     82.523     0.000    32.322   132.724\n",
      " (12 - 3)     85.517     0.000    35.316   135.718\n",
      " (12 - 4)     85.502     0.000    43.074   127.930\n",
      " (12 - 5)     83.427     0.000    39.951   126.902\n",
      " (12 - 6)     79.353     0.000    35.878   122.829\n",
      " (12 - 7)     80.263     0.000    36.788   123.739\n",
      " (12 - 8)     60.261     0.001    15.360   105.163\n",
      " (12 - 9)     78.057     0.000    27.856   128.258\n",
      " (12 - 10)     65.072     0.000    21.596   108.547\n",
      " (12 - 11)     64.055     0.001    19.154   108.957\n",
      "\n"
     ]
    }
   ],
   "source": [
    "# for Hyper Rare cards\n",
    "hr_sets = hr_df.groupby('set', sort=False)\n",
    "hr_average_prices = pd.DataFrame(columns=['set', 'averagePrice'])\n",
    "\n",
    "for set,group in hr_sets:\n",
    "    group = group.dropna(subset=['marketPrice']).sort_values(by='marketPrice')\n",
    "    rarity_mean = group['marketPrice'].mean()\n",
    "    row = {'set': set, 'averagePrice': round(rarity_mean, 2)}\n",
    "    hr_average_prices = pd.concat([hr_average_prices, pd.DataFrame([row])], ignore_index=True)\n",
    "\n",
    "hr_clean_avg = [group['marketPrice'].dropna().values for _, group in hr_df.groupby('set', sort=False)]\n",
    "\n",
    "hr_res = sp.stats.f_oneway(*hr_clean_avg)\n",
    "hr_tukey = sp.stats.tukey_hsd(*hr_clean_avg)\n",
    "\n",
    "print(hr_res.pvalue)\n",
    "print(hr_tukey)"
   ]
  },
  {
   "cell_type": "markdown",
   "metadata": {},
   "source": [
<<<<<<< HEAD
    "TEST III: Pairwise T-Test: We will use pairwise T-tests to determine if there exists a significant difference between the volatility in prices between rarities. Here, we define volatility as the difference between a cards high and low price points. We'll have a significance level of $\\alpha = 0.5$. \n",
    "\n",
    "$H_0:$ There is no significant difference in the volatility in prices between rarities. \n",
    "\n",
    "$H_a:$ There is significant difference in the volatility in prices between rarities. "
=======
    "#### Illustration Rare Cards"
   ]
  },
  {
   "cell_type": "code",
   "execution_count": 78,
   "metadata": {},
   "outputs": [
    {
     "name": "stderr",
     "output_type": "stream",
     "text": [
      "C:\\Users\\evanz\\AppData\\Local\\Temp\\ipykernel_70232\\836959014.py:9: FutureWarning: The behavior of DataFrame concatenation with empty or all-NA entries is deprecated. In a future version, this will no longer exclude empty or all-NA columns when determining the result dtypes. To retain the old behavior, exclude the relevant entries before the concat operation.\n",
      "  ir_average_prices = pd.concat([ir_average_prices, pd.DataFrame([row])], ignore_index=True)\n"
     ]
    },
    {
     "name": "stdout",
     "output_type": "stream",
     "text": [
      "0.030095002095401828\n",
      "Tukey's HSD Pairwise Group Comparisons (95.0% Confidence Interval)\n",
      "Comparison  Statistic  p-value  Lower CI  Upper CI\n",
      " (0 - 1)     -9.414     0.829   -26.916     8.089\n",
      " (0 - 2)      3.523     1.000   -19.959    27.004\n",
      " (0 - 3)    -14.061     0.575   -35.497     7.375\n",
      " (0 - 4)     -3.565     1.000   -21.272    14.142\n",
      " (0 - 5)     10.884     0.999   -29.788    51.556\n",
      " (0 - 6)     -1.691     1.000   -21.295    17.913\n",
      " (0 - 7)      0.258     1.000   -19.587    20.104\n",
      " (0 - 8)     -9.504     0.955   -31.364    12.357\n",
      " (0 - 9)     -2.183     1.000   -25.055    20.689\n",
      " (0 - 10)      3.248     1.000   -16.132    22.628\n",
      " (0 - 11)    -17.713     0.351   -41.194     5.769\n",
      " (1 - 0)      9.414     0.829    -8.089    26.916\n",
      " (1 - 2)     12.936     0.739    -9.203    35.075\n",
      " (1 - 3)     -4.648     1.000   -24.603    15.308\n",
      " (1 - 4)      5.848     0.987   -10.035    21.731\n",
      " (1 - 5)     20.298     0.875   -19.614    60.209\n",
      " (1 - 6)      7.722     0.959   -10.251    25.696\n",
      " (1 - 7)      9.672     0.841    -8.565    27.909\n",
      " (1 - 8)     -0.090     1.000   -20.501    20.321\n",
      " (1 - 9)      7.230     0.994   -14.260    28.721\n",
      " (1 - 10)     12.662     0.438    -5.068    30.391\n",
      " (1 - 11)     -8.299     0.985   -30.438    13.840\n",
      " (2 - 0)     -3.523     1.000   -27.004    19.959\n",
      " (2 - 1)    -12.936     0.739   -35.075     9.203\n",
      " (2 - 3)    -17.584     0.487   -42.947     7.780\n",
      " (2 - 4)     -7.088     0.996   -29.389    15.213\n",
      " (2 - 5)      7.362     1.000   -35.510    50.233\n",
      " (2 - 6)     -5.214     1.000   -29.049    18.621\n",
      " (2 - 7)     -3.264     1.000   -27.298    20.770\n",
      " (2 - 8)    -13.026     0.878   -38.749    12.697\n",
      " (2 - 9)     -5.706     1.000   -32.294    20.882\n",
      " (2 - 10)     -0.275     1.000   -23.926    23.377\n",
      " (2 - 11)    -21.235     0.293   -48.349     5.879\n",
      " (3 - 0)     14.061     0.575    -7.375    35.497\n",
      " (3 - 1)      4.648     1.000   -15.308    24.603\n",
      " (3 - 2)     17.584     0.487    -7.780    42.947\n",
      " (3 - 4)     10.496     0.856    -9.640    30.631\n",
      " (3 - 5)     24.945     0.712   -16.841    66.732\n",
      " (3 - 6)     12.370     0.775    -9.452    34.192\n",
      " (3 - 7)     14.320     0.590    -7.720    36.360\n",
      " (3 - 8)      4.557     1.000   -19.313    28.427\n",
      " (3 - 9)     11.878     0.914   -12.922    36.678\n",
      " (3 - 10)     17.309     0.262    -4.312    38.931\n",
      " (3 - 11)     -3.651     1.000   -29.015    21.712\n",
      " (4 - 0)      3.565     1.000   -14.142    21.272\n",
      " (4 - 1)     -5.848     0.987   -21.731    10.035\n",
      " (4 - 2)      7.088     0.996   -15.213    29.389\n",
      " (4 - 3)    -10.496     0.856   -30.631     9.640\n",
      " (4 - 5)     14.450     0.989   -25.552    54.451\n",
      " (4 - 6)      1.874     1.000   -16.298    20.047\n",
      " (4 - 7)      3.824     1.000   -14.610    22.257\n",
      " (4 - 8)     -5.938     0.998   -26.525    14.648\n",
      " (4 - 9)      1.382     1.000   -20.276    23.040\n",
      " (4 - 10)      6.813     0.984   -11.118    24.745\n",
      " (4 - 11)    -14.147     0.626   -36.448     8.154\n",
      " (5 - 0)    -10.884     0.999   -51.556    29.788\n",
      " (5 - 1)    -20.298     0.875   -60.209    19.614\n",
      " (5 - 2)     -7.362     1.000   -50.233    35.510\n",
      " (5 - 3)    -24.945     0.712   -66.732    16.841\n",
      " (5 - 4)    -14.450     0.989   -54.451    25.552\n",
      " (5 - 6)    -12.575     0.997   -53.452    28.301\n",
      " (5 - 7)    -10.626     0.999   -51.619    30.368\n",
      " (5 - 8)    -20.388     0.906   -62.394    21.618\n",
      " (5 - 9)    -13.067     0.997   -55.608    29.473\n",
      " (5 - 10)     -7.636     1.000   -48.406    33.134\n",
      " (5 - 11)    -28.597     0.549   -71.468    14.275\n",
      " (6 - 0)      1.691     1.000   -17.913    21.295\n",
      " (6 - 1)     -7.722     0.959   -25.696    10.251\n",
      " (6 - 2)      5.214     1.000   -18.621    29.049\n",
      " (6 - 3)    -12.370     0.775   -34.192     9.452\n",
      " (6 - 4)     -1.874     1.000   -20.047    16.298\n",
      " (6 - 5)     12.575     0.997   -28.301    53.452\n",
      " (6 - 7)      1.950     1.000   -18.313    22.212\n",
      " (6 - 8)     -7.813     0.991   -30.052    14.427\n",
      " (6 - 9)     -0.492     1.000   -23.726    22.742\n",
      " (6 - 10)      4.939     1.000   -14.867    24.746\n",
      " (6 - 11)    -16.021     0.536   -39.856     7.814\n",
      " (7 - 0)     -0.258     1.000   -20.104    19.587\n",
      " (7 - 1)     -9.672     0.841   -27.909     8.565\n",
      " (7 - 2)      3.264     1.000   -20.770    27.298\n",
      " (7 - 3)    -14.320     0.590   -36.360     7.720\n",
      " (7 - 4)     -3.824     1.000   -22.257    14.610\n",
      " (7 - 5)     10.626     0.999   -30.368    51.619\n",
      " (7 - 6)     -1.950     1.000   -22.212    18.313\n",
      " (7 - 8)     -9.762     0.955   -32.215    12.691\n",
      " (7 - 9)     -2.442     1.000   -25.880    20.997\n",
      " (7 - 10)      2.989     1.000   -17.057    23.036\n",
      " (7 - 11)    -17.971     0.364   -42.005     6.063\n",
      " (8 - 0)      9.504     0.955   -12.357    31.364\n",
      " (8 - 1)      0.090     1.000   -20.321    20.501\n",
      " (8 - 2)     13.026     0.878   -12.697    38.749\n",
      " (8 - 3)     -4.557     1.000   -28.427    19.313\n",
      " (8 - 4)      5.938     0.998   -14.648    26.525\n",
      " (8 - 5)     20.388     0.906   -21.618    62.394\n",
      " (8 - 6)      7.813     0.991   -14.427    30.052\n",
      " (8 - 7)      9.762     0.955   -12.691    32.215\n",
      " (8 - 9)      7.321     0.998   -17.847    32.488\n",
      " (8 - 10)     12.752     0.751    -9.291    34.794\n",
      " (8 - 11)     -8.209     0.996   -33.932    17.514\n",
      " (9 - 0)      2.183     1.000   -20.689    25.055\n",
      " (9 - 1)     -7.230     0.994   -28.721    14.260\n",
      " (9 - 2)      5.706     1.000   -20.882    32.294\n",
      " (9 - 3)    -11.878     0.914   -36.678    12.922\n",
      " (9 - 4)     -1.382     1.000   -23.040    20.276\n",
      " (9 - 5)     13.067     0.997   -29.473    55.608\n",
      " (9 - 6)      0.492     1.000   -22.742    23.726\n",
      " (9 - 7)      2.442     1.000   -20.997    25.880\n",
      " (9 - 8)     -7.321     0.998   -32.488    17.847\n",
      " (9 - 10)      5.431     1.000   -17.615    28.477\n",
      " (9 - 11)    -15.529     0.739   -42.117    11.059\n",
      " (10 - 0)     -3.248     1.000   -22.628    16.132\n",
      " (10 - 1)    -12.662     0.438   -30.391     5.068\n",
      " (10 - 2)      0.275     1.000   -23.377    23.926\n",
      " (10 - 3)    -17.309     0.262   -38.931     4.312\n",
      " (10 - 4)     -6.813     0.984   -24.745    11.118\n",
      " (10 - 5)      7.636     1.000   -33.134    48.406\n",
      " (10 - 6)     -4.939     1.000   -24.746    14.867\n",
      " (10 - 7)     -2.989     1.000   -23.036    17.057\n",
      " (10 - 8)    -12.752     0.751   -34.794     9.291\n",
      " (10 - 9)     -5.431     1.000   -28.477    17.615\n",
      " (10 - 11)    -20.960     0.139   -44.612     2.691\n",
      " (11 - 0)     17.713     0.351    -5.769    41.194\n",
      " (11 - 1)      8.299     0.985   -13.840    30.438\n",
      " (11 - 2)     21.235     0.293    -5.879    48.349\n",
      " (11 - 3)      3.651     1.000   -21.712    29.015\n",
      " (11 - 4)     14.147     0.626    -8.154    36.448\n",
      " (11 - 5)     28.597     0.549   -14.275    71.468\n",
      " (11 - 6)     16.021     0.536    -7.814    39.856\n",
      " (11 - 7)     17.971     0.364    -6.063    42.005\n",
      " (11 - 8)      8.209     0.996   -17.514    33.932\n",
      " (11 - 9)     15.529     0.739   -11.059    42.117\n",
      " (11 - 10)     20.960     0.139    -2.691    44.612\n",
      "\n"
     ]
    }
   ],
   "source": [
    "# for Illustration Rare cards\n",
    "ir_sets = ir_df.groupby('set', sort=False)\n",
    "ir_average_prices = pd.DataFrame(columns=['set', 'averagePrice'])\n",
    "\n",
    "for set,group in ir_sets:\n",
    "    group = group.dropna(subset=['marketPrice']).sort_values(by='marketPrice')\n",
    "    rarity_mean = group['marketPrice'].mean()\n",
    "    row = {'set': set, 'averagePrice': round(rarity_mean, 2)}\n",
    "    ir_average_prices = pd.concat([ir_average_prices, pd.DataFrame([row])], ignore_index=True)\n",
    "\n",
    "ir_avg_prices = [group['marketPrice'].dropna().values for _, group in ir_df.groupby('set', sort=False)]\n",
    "\n",
    "ir_res = sp.stats.f_oneway(*ir_avg_prices)\n",
    "ir_tukey = sp.stats.tukey_hsd(*ir_avg_prices)\n",
    "\n",
    "print(ir_res.pvalue)\n",
    "print(ir_tukey)"
   ]
  },
  {
   "cell_type": "markdown",
   "metadata": {},
   "source": [
    "#### Special Illustration Rare Cards"
   ]
  },
  {
   "cell_type": "code",
   "execution_count": 79,
   "metadata": {},
   "outputs": [
    {
     "name": "stderr",
     "output_type": "stream",
     "text": [
      "C:\\Users\\evanz\\AppData\\Local\\Temp\\ipykernel_70232\\2099931476.py:9: FutureWarning: The behavior of DataFrame concatenation with empty or all-NA entries is deprecated. In a future version, this will no longer exclude empty or all-NA columns when determining the result dtypes. To retain the old behavior, exclude the relevant entries before the concat operation.\n",
      "  sir_average_prices = pd.concat([sir_average_prices, pd.DataFrame([row])], ignore_index=True)\n"
     ]
    },
    {
     "name": "stdout",
     "output_type": "stream",
     "text": [
      "0.0008935513093533942\n",
      "Tukey's HSD Pairwise Group Comparisons (95.0% Confidence Interval)\n",
      "Comparison  Statistic  p-value  Lower CI  Upper CI\n",
      " (0 - 1)     -2.927     1.000  -202.617   196.763\n",
      " (0 - 2)      1.641     1.000  -250.949   254.231\n",
      " (0 - 3)    -61.460     1.000  -302.510   179.589\n",
      " (0 - 4)     -7.115     1.000  -206.805   192.575\n",
      " (0 - 5)    -72.959     0.998  -304.977   159.059\n",
      " (0 - 6)    -30.827     1.000  -249.576   187.922\n",
      " (0 - 7)    -52.331     1.000  -266.051   161.389\n",
      " (0 - 8)    -14.055     1.000  -281.967   253.857\n",
      " (0 - 9)    -18.202     1.000  -270.792   234.387\n",
      " (0 - 10)    -81.494     0.986  -295.213   132.226\n",
      " (0 - 11)   -186.551     0.029  -363.758    -9.344\n",
      " (0 - 12)   -177.559     0.470  -430.149    75.031\n",
      " (1 - 0)      2.927     1.000  -196.763   202.617\n",
      " (1 - 2)      4.568     1.000  -231.708   240.844\n",
      " (1 - 3)    -58.533     1.000  -282.430   165.363\n",
      " (1 - 4)     -4.188     1.000  -182.796   174.420\n",
      " (1 - 5)    -70.032     0.996  -284.175   144.111\n",
      " (1 - 6)    -27.900     1.000  -227.590   171.790\n",
      " (1 - 7)    -49.404     1.000  -243.571   144.763\n",
      " (1 - 8)    -11.128     1.000  -263.718   241.462\n",
      " (1 - 9)    -15.275     1.000  -251.551   221.001\n",
      " (1 - 10)    -78.567     0.977  -272.734   115.601\n",
      " (1 - 11)   -183.624     0.006  -336.683   -30.565\n",
      " (1 - 12)   -174.632     0.387  -410.908    61.644\n",
      " (2 - 0)     -1.641     1.000  -254.231   250.949\n",
      " (2 - 1)     -4.568     1.000  -240.844   231.708\n",
      " (2 - 3)    -63.101     1.000  -335.233   209.030\n",
      " (2 - 4)     -8.756     1.000  -245.032   227.520\n",
      " (2 - 5)    -74.600     0.999  -338.765   189.565\n",
      " (2 - 6)    -32.468     1.000  -285.058   220.122\n",
      " (2 - 7)    -53.972     1.000  -302.219   194.275\n",
      " (2 - 8)    -15.696     1.000  -311.884   280.492\n",
      " (2 - 9)    -19.843     1.000  -302.247   262.561\n",
      " (2 - 10)    -83.135     0.996  -331.381   165.112\n",
      " (2 - 11)   -188.192     0.165  -405.799    29.415\n",
      " (2 - 12)   -179.200     0.634  -461.604   103.204\n",
      " (3 - 0)     61.460     1.000  -179.589   302.510\n",
      " (3 - 1)     58.533     1.000  -165.363   282.430\n",
      " (3 - 2)     63.101     1.000  -209.030   335.233\n",
      " (3 - 4)     54.345     1.000  -169.551   278.242\n",
      " (3 - 5)    -11.499     1.000  -264.651   241.654\n",
      " (3 - 6)     30.633     1.000  -210.416   271.683\n",
      " (3 - 7)      9.130     1.000  -227.366   245.625\n",
      " (3 - 8)     47.405     1.000  -239.004   333.815\n",
      " (3 - 9)     43.258     1.000  -228.873   315.389\n",
      " (3 - 10)    -20.033     1.000  -256.528   216.462\n",
      " (3 - 11)   -125.090     0.685  -329.189    79.008\n",
      " (3 - 12)   -116.099     0.966  -388.230   156.033\n",
      " (4 - 0)      7.115     1.000  -192.575   206.805\n",
      " (4 - 1)      4.188     1.000  -174.420   182.796\n",
      " (4 - 2)      8.756     1.000  -227.520   245.032\n",
      " (4 - 3)    -54.345     1.000  -278.242   169.551\n",
      " (4 - 5)    -65.844     0.998  -279.987   148.299\n",
      " (4 - 6)    -23.712     1.000  -223.402   175.978\n",
      " (4 - 7)    -45.216     1.000  -239.383   148.951\n",
      " (4 - 8)     -6.940     1.000  -259.530   245.650\n",
      " (4 - 9)    -11.087     1.000  -247.363   225.189\n",
      " (4 - 10)    -74.379     0.986  -268.546   119.789\n",
      " (4 - 11)   -179.436     0.008  -332.495   -26.377\n",
      " (4 - 12)   -170.444     0.427  -406.720    65.832\n",
      " (5 - 0)     72.959     0.998  -159.059   304.977\n",
      " (5 - 1)     70.032     0.996  -144.111   284.175\n",
      " (5 - 2)     74.600     0.999  -189.565   338.765\n",
      " (5 - 3)     11.499     1.000  -241.654   264.651\n",
      " (5 - 4)     65.844     0.998  -148.299   279.987\n",
      " (5 - 6)     42.132     1.000  -189.886   274.150\n",
      " (5 - 7)     20.628     1.000  -206.655   247.911\n",
      " (5 - 8)     58.904     1.000  -219.948   337.756\n",
      " (5 - 9)     54.757     1.000  -209.408   318.921\n",
      " (5 - 10)     -8.535     1.000  -235.817   218.748\n",
      " (5 - 11)   -113.592     0.742  -306.941    79.757\n",
      " (5 - 12)   -104.600     0.981  -368.765   159.565\n",
      " (6 - 0)     30.827     1.000  -187.922   249.576\n",
      " (6 - 1)     27.900     1.000  -171.790   227.590\n",
      " (6 - 2)     32.468     1.000  -220.122   285.058\n",
      " (6 - 3)    -30.633     1.000  -271.683   210.416\n",
      " (6 - 4)     23.712     1.000  -175.978   223.402\n",
      " (6 - 5)    -42.132     1.000  -274.150   189.886\n",
      " (6 - 7)    -21.504     1.000  -235.224   192.216\n",
      " (6 - 8)     16.772     1.000  -251.140   284.684\n",
      " (6 - 9)     12.625     1.000  -239.965   265.214\n",
      " (6 - 10)    -50.667     1.000  -264.386   163.053\n",
      " (6 - 11)   -155.724     0.148  -332.931    21.483\n",
      " (6 - 12)   -146.732     0.756  -399.322   105.858\n",
      " (7 - 0)     52.331     1.000  -161.389   266.051\n",
      " (7 - 1)     49.404     1.000  -144.763   243.571\n",
      " (7 - 2)     53.972     1.000  -194.275   302.219\n",
      " (7 - 3)     -9.130     1.000  -245.625   227.366\n",
      " (7 - 4)     45.216     1.000  -148.951   239.383\n",
      " (7 - 5)    -20.628     1.000  -247.911   206.655\n",
      " (7 - 6)     21.504     1.000  -192.216   235.224\n",
      " (7 - 8)     38.276     1.000  -225.546   302.097\n",
      " (7 - 9)     34.128     1.000  -214.118   282.375\n",
      " (7 - 10)    -29.163     1.000  -237.732   179.406\n",
      " (7 - 11)   -134.220     0.292  -305.180    36.740\n",
      " (7 - 12)   -125.228     0.890  -373.475   123.019\n",
      " (8 - 0)     14.055     1.000  -253.857   281.967\n",
      " (8 - 1)     11.128     1.000  -241.462   263.718\n",
      " (8 - 2)     15.696     1.000  -280.492   311.884\n",
      " (8 - 3)    -47.405     1.000  -333.815   239.004\n",
      " (8 - 4)      6.940     1.000  -245.650   259.530\n",
      " (8 - 5)    -58.904     1.000  -337.756   219.948\n",
      " (8 - 6)    -16.772     1.000  -284.684   251.140\n",
      " (8 - 7)    -38.276     1.000  -302.097   225.546\n",
      " (8 - 9)     -4.147     1.000  -300.335   292.040\n",
      " (8 - 10)    -67.439     1.000  -331.260   196.383\n",
      " (8 - 11)   -172.496     0.400  -407.715    62.723\n",
      " (8 - 12)   -163.504     0.813  -459.692   132.684\n",
      " (9 - 0)     18.202     1.000  -234.387   270.792\n",
      " (9 - 1)     15.275     1.000  -221.001   251.551\n",
      " (9 - 2)     19.843     1.000  -262.561   302.247\n",
      " (9 - 3)    -43.258     1.000  -315.389   228.873\n",
      " (9 - 4)     11.087     1.000  -225.189   247.363\n",
      " (9 - 5)    -54.757     1.000  -318.921   209.408\n",
      " (9 - 6)    -12.625     1.000  -265.214   239.965\n",
      " (9 - 7)    -34.128     1.000  -282.375   214.118\n",
      " (9 - 8)      4.147     1.000  -292.040   300.335\n",
      " (9 - 10)    -63.291     1.000  -311.538   184.956\n",
      " (9 - 11)   -168.349     0.314  -385.955    49.258\n",
      " (9 - 12)   -159.357     0.789  -441.761   123.047\n",
      " (10 - 0)     81.494     0.986  -132.226   295.213\n",
      " (10 - 1)     78.567     0.977  -115.601   272.734\n",
      " (10 - 2)     83.135     0.996  -165.112   331.381\n",
      " (10 - 3)     20.033     1.000  -216.462   256.528\n",
      " (10 - 4)     74.379     0.986  -119.789   268.546\n",
      " (10 - 5)      8.535     1.000  -218.748   235.817\n",
      " (10 - 6)     50.667     1.000  -163.053   264.386\n",
      " (10 - 7)     29.163     1.000  -179.406   237.732\n",
      " (10 - 8)     67.439     1.000  -196.383   331.260\n",
      " (10 - 9)     63.291     1.000  -184.956   311.538\n",
      " (10 - 11)   -105.057     0.681  -276.017    65.903\n",
      " (10 - 12)    -96.065     0.984  -344.312   152.181\n",
      " (11 - 0)    186.551     0.029     9.344   363.758\n",
      " (11 - 1)    183.624     0.006    30.565   336.683\n",
      " (11 - 2)    188.192     0.165   -29.415   405.799\n",
      " (11 - 3)    125.090     0.685   -79.008   329.189\n",
      " (11 - 4)    179.436     0.008    26.377   332.495\n",
      " (11 - 5)    113.592     0.742   -79.757   306.941\n",
      " (11 - 6)    155.724     0.148   -21.483   332.931\n",
      " (11 - 7)    134.220     0.292   -36.740   305.180\n",
      " (11 - 8)    172.496     0.400   -62.723   407.715\n",
      " (11 - 9)    168.349     0.314   -49.258   385.955\n",
      " (11 - 10)    105.057     0.681   -65.903   276.017\n",
      " (11 - 12)      8.992     1.000  -208.615   226.599\n",
      " (12 - 0)    177.559     0.470   -75.031   430.149\n",
      " (12 - 1)    174.632     0.387   -61.644   410.908\n",
      " (12 - 2)    179.200     0.634  -103.204   461.604\n",
      " (12 - 3)    116.099     0.966  -156.033   388.230\n",
      " (12 - 4)    170.444     0.427   -65.832   406.720\n",
      " (12 - 5)    104.600     0.981  -159.565   368.765\n",
      " (12 - 6)    146.732     0.756  -105.858   399.322\n",
      " (12 - 7)    125.228     0.890  -123.019   373.475\n",
      " (12 - 8)    163.504     0.813  -132.684   459.692\n",
      " (12 - 9)    159.357     0.789  -123.047   441.761\n",
      " (12 - 10)     96.065     0.984  -152.181   344.312\n",
      " (12 - 11)     -8.992     1.000  -226.599   208.615\n",
      "\n"
     ]
    }
   ],
   "source": [
    "# for Special Illustration Rare cards\n",
    "sir_sets = sir_df.groupby('set', sort=False)\n",
    "sir_average_prices = pd.DataFrame(columns=['set', 'averagePrice'])\n",
    "\n",
    "for set,group in sir_sets:\n",
    "    group = group.dropna(subset=['marketPrice']).sort_values(by='marketPrice')\n",
    "    rarity_mean = group['marketPrice'].mean()\n",
    "    row = {'set': set, 'averagePrice': round(rarity_mean, 2)}\n",
    "    sir_average_prices = pd.concat([sir_average_prices, pd.DataFrame([row])], ignore_index=True)\n",
    "\n",
    "sir_avg_prices = [group['marketPrice'].dropna().values for _, group in sir_df.groupby('set', sort=False)]\n",
    "\n",
    "sir_res = sp.stats.f_oneway(*sir_avg_prices)\n",
    "sir_tukey = sp.stats.tukey_hsd(*sir_avg_prices)\n",
    "\n",
    "print(sir_res.pvalue)\n",
    "print(sir_tukey)"
   ]
  },
  {
   "cell_type": "markdown",
   "metadata": {},
   "source": [
    "#### Graphs for ANOVA Tests:\n",
    "- SVB - Scarlet And Violet Base\n",
    "- PAL - Paldea Evolved\n",
    "- PAR - Paradox Rift\n",
    "- TEF - Temporal Forces\n",
    "- TWM - Twilight Masquerade\n",
    "- STC - Stellar Crown\n",
    "- SSP - Surging Sparks\n",
    "- JTG - Journey Together\n",
    "- 151 - Scarlet And Violet 151\n",
    "- PAF - Paldean Fates\n",
    "- SHF - Shrouded Fable\n",
    "- PRE - Prismatic Evolutions"
>>>>>>> 3ec6d88068e896ecc83e2f7788e35ecd656b2b29
   ]
  },
  {
   "cell_type": "code",
   "execution_count": 15,
   "metadata": {},
   "outputs": [
    {
<<<<<<< HEAD
     "name": "stdout",
     "output_type": "stream",
     "text": [
      "The observed p-value of hyper rare cards versus illustration rare is: 0.32509098167592854\n",
      "The observed p-value of hyper rare cards versus special illustration rare is: 0.08174837546624164\n",
      "The observed p-value of illustration rare cards versus special illustration rare is: 0.5146676677454878\n"
     ]
    }
   ],
   "source": [
    "from scipy.stats import ttest_ind\n",
    "\n",
    "master_df['volatility'] = master_df['highPrice'].astype(float) - master_df['lowPrice'].astype(float)\n",
    "\n",
    "ttest_hr_df = master_df[master_df['extRarity'] == 'Hyper Rare']\n",
    "ttest_ir_df = master_df[master_df['extRarity'] == 'Illustration Rare']\n",
    "ttest_sir_df = master_df[master_df['extRarity'] == 'Special Illustration Rare']\n",
    "\n",
    "hr_vs_ir = ttest_ind(ttest_hr_df['volatility'], ttest_ir_df['volatility'])\n",
    "hr_vs_sir = ttest_ind(ttest_hr_df['volatility'], ttest_sir_df['volatility'])\n",
    "ir_vs_sir = ttest_ind(ttest_ir_df['volatility'], ttest_sir_df['volatility'])\n",
    "\n",
    "print(f\"The observed p-value of hyper rare cards versus illustration rare is: {hr_vs_ir[1]}\")\n",
    "print(f\"The observed p-value of hyper rare cards versus special illustration rare is: {hr_vs_sir[1]}\")\n",
    "print(f\"The observed p-value of illustration rare cards versus special illustration rare is: {ir_vs_sir[1]}\")"
   ]
  },
  {
   "cell_type": "markdown",
   "metadata": {},
   "source": [
    "Since the observed p-values of all three categories are greater than our significant level of $\\alpha = 0.5$ we fail to reject our null hypothesis. There is not strong evidence that suggests significant differences in volatility in prices between rarities."
   ]
  },
  {
   "cell_type": "code",
   "execution_count": 16,
   "metadata": {},
   "outputs": [
    {
     "data": {
      "application/vnd.plotly.v1+json": {
       "config": {
        "plotlyServerURL": "https://plot.ly"
       },
       "data": [
        {
         "alignmentgroup": "True",
         "box": {
          "visible": true
         },
         "hovertemplate": "ExtRarity=%{x}<br>Volatility=%{y}<extra></extra>",
         "legendgroup": "Hyper Rare",
         "marker": {
          "color": "#636efa"
         },
         "name": "Hyper Rare",
         "offsetgroup": "Hyper Rare",
         "orientation": "v",
         "points": "all",
         "scalegroup": "True",
         "showlegend": true,
         "type": "violin",
         "x": [
          "Hyper Rare",
          "Hyper Rare",
          "Hyper Rare",
          "Hyper Rare",
          "Hyper Rare",
          "Hyper Rare",
          "Hyper Rare",
          "Hyper Rare",
          "Hyper Rare",
          "Hyper Rare",
          "Hyper Rare",
          "Hyper Rare",
          "Hyper Rare",
          "Hyper Rare",
          "Hyper Rare",
          "Hyper Rare",
          "Hyper Rare",
          "Hyper Rare",
          "Hyper Rare",
          "Hyper Rare",
          "Hyper Rare",
          "Hyper Rare",
          "Hyper Rare",
          "Hyper Rare",
          "Hyper Rare",
          "Hyper Rare",
          "Hyper Rare",
          "Hyper Rare",
          "Hyper Rare",
          "Hyper Rare",
          "Hyper Rare",
          "Hyper Rare",
          "Hyper Rare",
          "Hyper Rare",
          "Hyper Rare",
          "Hyper Rare",
          "Hyper Rare",
          "Hyper Rare",
          "Hyper Rare",
          "Hyper Rare",
          "Hyper Rare",
          "Hyper Rare",
          "Hyper Rare",
          "Hyper Rare",
          "Hyper Rare",
          "Hyper Rare",
          "Hyper Rare",
          "Hyper Rare",
          "Hyper Rare",
          "Hyper Rare",
          "Hyper Rare",
          "Hyper Rare",
          "Hyper Rare",
          "Hyper Rare",
          "Hyper Rare",
          "Hyper Rare",
          "Hyper Rare",
          "Hyper Rare",
          "Hyper Rare",
          "Hyper Rare",
          "Hyper Rare",
          "Hyper Rare",
          "Hyper Rare",
          "Hyper Rare",
          "Hyper Rare",
          "Hyper Rare",
          "Hyper Rare",
          "Hyper Rare"
         ],
         "x0": " ",
         "xaxis": "x",
         "y": {
          "bdata": "4XoUrkeBS0AzMzMzMzM5QFyPwvUonDZAAAAAAACAR0C4HoXrUTg4QAAAAAAAAERACtejcD0KL0AzMzMzM/M5QJqZmZmZmTBAwvUoXI+COUC4HoXrUfg2QF2PwvUoHD9AR+F6FK4HOUDC9ShcjwIyQD0K16Nw/TlAmpmZmZlJVEAAAAAAAABBQML1KFyPAjZAAAAAAAAAREDsUbgehWszQArXo3A9ijBAcT0K16NAUEBmZmZmZmYwQHI9CtejcDxAKVyPwvVoMUAzMzMzM/MyQML1KFyPgj9AmZmZmZkZJkC4HoXrUfgzQAAAAAAAAEdAcT0K16NAV0AzMzMzM/M0QClcj8L1KDlAMzMzMzPjUUAzMzMzM/MyQClcj8L1aDNAAAAAAABANUAzMzMzM/M1QJqZmZmZeUpAMzMzMzNzW0A+CtejcP07QPYoXI/C9TZAHoXrUbi+TUD1KFyPwvUpQD0K16Nw/TFAZmZmZmbmK0CkcD0K1+NCQAAAAAAAQFZANDMzMzPzPUCamZmZmflIQHwUrkfhekRAXI/C9Sj8RUA0MzMzM/M6QAAAAAAAADdA4noUrkcRaED2KFyPwvU/QITrUbgeBS9AAAAAAACAUECamZmZmflIQAAAAAAAAE5AH4XrUbg+R0A0MzMzM/M9QOF6FK5HAUJAAAAAAACAb0AAAAAAAABbQAAAAAAAACxAAAAAAAAAREApXI/C9QhBQA==",
          "dtype": "f8"
         },
         "y0": " ",
         "yaxis": "y"
        },
        {
         "alignmentgroup": "True",
         "box": {
          "visible": true
         },
         "hovertemplate": "ExtRarity=%{x}<br>Volatility=%{y}<extra></extra>",
         "legendgroup": "Illustration Rare",
         "marker": {
          "color": "#EF553B"
         },
         "name": "Illustration Rare",
         "offsetgroup": "Illustration Rare",
         "orientation": "v",
         "points": "all",
         "scalegroup": "True",
         "showlegend": true,
         "type": "violin",
         "x": [
          "Illustration Rare",
          "Illustration Rare",
          "Illustration Rare",
          "Illustration Rare",
          "Illustration Rare",
          "Illustration Rare",
          "Illustration Rare",
          "Illustration Rare",
          "Illustration Rare",
          "Illustration Rare",
          "Illustration Rare",
          "Illustration Rare",
          "Illustration Rare",
          "Illustration Rare",
          "Illustration Rare",
          "Illustration Rare",
          "Illustration Rare",
          "Illustration Rare",
          "Illustration Rare",
          "Illustration Rare",
          "Illustration Rare",
          "Illustration Rare",
          "Illustration Rare",
          "Illustration Rare",
          "Illustration Rare",
          "Illustration Rare",
          "Illustration Rare",
          "Illustration Rare",
          "Illustration Rare",
          "Illustration Rare",
          "Illustration Rare",
          "Illustration Rare",
          "Illustration Rare",
          "Illustration Rare",
          "Illustration Rare",
          "Illustration Rare",
          "Illustration Rare",
          "Illustration Rare",
          "Illustration Rare",
          "Illustration Rare",
          "Illustration Rare",
          "Illustration Rare",
          "Illustration Rare",
          "Illustration Rare",
          "Illustration Rare",
          "Illustration Rare",
          "Illustration Rare",
          "Illustration Rare",
          "Illustration Rare",
          "Illustration Rare",
          "Illustration Rare",
          "Illustration Rare",
          "Illustration Rare",
          "Illustration Rare",
          "Illustration Rare",
          "Illustration Rare",
          "Illustration Rare",
          "Illustration Rare",
          "Illustration Rare",
          "Illustration Rare",
          "Illustration Rare",
          "Illustration Rare",
          "Illustration Rare",
          "Illustration Rare",
          "Illustration Rare",
          "Illustration Rare",
          "Illustration Rare",
          "Illustration Rare",
          "Illustration Rare",
          "Illustration Rare",
          "Illustration Rare",
          "Illustration Rare",
          "Illustration Rare",
          "Illustration Rare",
          "Illustration Rare",
          "Illustration Rare",
          "Illustration Rare",
          "Illustration Rare",
          "Illustration Rare",
          "Illustration Rare",
          "Illustration Rare",
          "Illustration Rare",
          "Illustration Rare",
          "Illustration Rare",
          "Illustration Rare",
          "Illustration Rare",
          "Illustration Rare",
          "Illustration Rare",
          "Illustration Rare",
          "Illustration Rare",
          "Illustration Rare",
          "Illustration Rare",
          "Illustration Rare",
          "Illustration Rare",
          "Illustration Rare",
          "Illustration Rare",
          "Illustration Rare",
          "Illustration Rare",
          "Illustration Rare",
          "Illustration Rare",
          "Illustration Rare",
          "Illustration Rare",
          "Illustration Rare",
          "Illustration Rare",
          "Illustration Rare",
          "Illustration Rare",
          "Illustration Rare",
          "Illustration Rare",
          "Illustration Rare",
          "Illustration Rare",
          "Illustration Rare",
          "Illustration Rare",
          "Illustration Rare",
          "Illustration Rare",
          "Illustration Rare",
          "Illustration Rare",
          "Illustration Rare",
          "Illustration Rare",
          "Illustration Rare",
          "Illustration Rare",
          "Illustration Rare",
          "Illustration Rare",
          "Illustration Rare",
          "Illustration Rare",
          "Illustration Rare",
          "Illustration Rare",
          "Illustration Rare",
          "Illustration Rare",
          "Illustration Rare",
          "Illustration Rare",
          "Illustration Rare",
          "Illustration Rare",
          "Illustration Rare",
          "Illustration Rare",
          "Illustration Rare",
          "Illustration Rare",
          "Illustration Rare",
          "Illustration Rare",
          "Illustration Rare",
          "Illustration Rare",
          "Illustration Rare",
          "Illustration Rare",
          "Illustration Rare",
          "Illustration Rare",
          "Illustration Rare",
          "Illustration Rare",
          "Illustration Rare",
          "Illustration Rare",
          "Illustration Rare",
          "Illustration Rare",
          "Illustration Rare",
          "Illustration Rare",
          "Illustration Rare",
          "Illustration Rare",
          "Illustration Rare",
          "Illustration Rare",
          "Illustration Rare",
          "Illustration Rare",
          "Illustration Rare",
          "Illustration Rare",
          "Illustration Rare",
          "Illustration Rare",
          "Illustration Rare",
          "Illustration Rare",
          "Illustration Rare",
          "Illustration Rare",
          "Illustration Rare",
          "Illustration Rare",
          "Illustration Rare",
          "Illustration Rare",
          "Illustration Rare",
          "Illustration Rare",
          "Illustration Rare",
          "Illustration Rare",
          "Illustration Rare",
          "Illustration Rare",
          "Illustration Rare",
          "Illustration Rare",
          "Illustration Rare",
          "Illustration Rare",
          "Illustration Rare",
          "Illustration Rare",
          "Illustration Rare",
          "Illustration Rare",
          "Illustration Rare",
          "Illustration Rare",
          "Illustration Rare",
          "Illustration Rare",
          "Illustration Rare",
          "Illustration Rare",
          "Illustration Rare",
          "Illustration Rare",
          "Illustration Rare",
          "Illustration Rare",
          "Illustration Rare",
          "Illustration Rare",
          "Illustration Rare",
          "Illustration Rare",
          "Illustration Rare",
          "Illustration Rare",
          "Illustration Rare",
          "Illustration Rare",
          "Illustration Rare",
          "Illustration Rare",
          "Illustration Rare",
          "Illustration Rare",
          "Illustration Rare",
          "Illustration Rare",
          "Illustration Rare",
          "Illustration Rare",
          "Illustration Rare",
          "Illustration Rare",
          "Illustration Rare",
          "Illustration Rare",
          "Illustration Rare",
          "Illustration Rare",
          "Illustration Rare",
          "Illustration Rare",
          "Illustration Rare",
          "Illustration Rare",
          "Illustration Rare",
          "Illustration Rare",
          "Illustration Rare",
          "Illustration Rare",
          "Illustration Rare",
          "Illustration Rare",
          "Illustration Rare",
          "Illustration Rare",
          "Illustration Rare",
          "Illustration Rare",
          "Illustration Rare"
         ],
         "x0": " ",
         "xaxis": "x",
         "y": {
          "bdata": "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",
          "dtype": "f8"
         },
         "y0": " ",
         "yaxis": "y"
        },
        {
         "alignmentgroup": "True",
         "box": {
          "visible": true
         },
         "hovertemplate": "ExtRarity=%{x}<br>Volatility=%{y}<extra></extra>",
         "legendgroup": "Special Illustration Rare",
         "marker": {
          "color": "#00cc96"
         },
         "name": "Special Illustration Rare",
         "offsetgroup": "Special Illustration Rare",
         "orientation": "v",
         "points": "all",
         "scalegroup": "True",
         "showlegend": true,
         "type": "violin",
         "x": [
          "Special Illustration Rare",
          "Special Illustration Rare",
          "Special Illustration Rare",
          "Special Illustration Rare",
          "Special Illustration Rare",
          "Special Illustration Rare",
          "Special Illustration Rare",
          "Special Illustration Rare",
          "Special Illustration Rare",
          "Special Illustration Rare",
          "Special Illustration Rare",
          "Special Illustration Rare",
          "Special Illustration Rare",
          "Special Illustration Rare",
          "Special Illustration Rare",
          "Special Illustration Rare",
          "Special Illustration Rare",
          "Special Illustration Rare",
          "Special Illustration Rare",
          "Special Illustration Rare",
          "Special Illustration Rare",
          "Special Illustration Rare",
          "Special Illustration Rare",
          "Special Illustration Rare",
          "Special Illustration Rare",
          "Special Illustration Rare",
          "Special Illustration Rare",
          "Special Illustration Rare",
          "Special Illustration Rare",
          "Special Illustration Rare",
          "Special Illustration Rare",
          "Special Illustration Rare",
          "Special Illustration Rare",
          "Special Illustration Rare",
          "Special Illustration Rare",
          "Special Illustration Rare",
          "Special Illustration Rare",
          "Special Illustration Rare",
          "Special Illustration Rare",
          "Special Illustration Rare",
          "Special Illustration Rare",
          "Special Illustration Rare",
          "Special Illustration Rare",
          "Special Illustration Rare",
          "Special Illustration Rare",
          "Special Illustration Rare",
          "Special Illustration Rare",
          "Special Illustration Rare",
          "Special Illustration Rare",
          "Special Illustration Rare",
          "Special Illustration Rare",
          "Special Illustration Rare",
          "Special Illustration Rare",
          "Special Illustration Rare",
          "Special Illustration Rare",
          "Special Illustration Rare",
          "Special Illustration Rare",
          "Special Illustration Rare",
          "Special Illustration Rare",
          "Special Illustration Rare",
          "Special Illustration Rare",
          "Special Illustration Rare",
          "Special Illustration Rare",
          "Special Illustration Rare",
          "Special Illustration Rare",
          "Special Illustration Rare",
          "Special Illustration Rare",
          "Special Illustration Rare",
          "Special Illustration Rare",
          "Special Illustration Rare",
          "Special Illustration Rare",
          "Special Illustration Rare",
          "Special Illustration Rare",
          "Special Illustration Rare",
          "Special Illustration Rare",
          "Special Illustration Rare",
          "Special Illustration Rare",
          "Special Illustration Rare",
          "Special Illustration Rare",
          "Special Illustration Rare",
          "Special Illustration Rare",
          "Special Illustration Rare",
          "Special Illustration Rare",
          "Special Illustration Rare",
          "Special Illustration Rare",
          "Special Illustration Rare",
          "Special Illustration Rare",
          "Special Illustration Rare",
          "Special Illustration Rare",
          "Special Illustration Rare",
          "Special Illustration Rare",
          "Special Illustration Rare",
          "Special Illustration Rare",
          "Special Illustration Rare",
          "Special Illustration Rare",
          "Special Illustration Rare",
          "Special Illustration Rare",
          "Special Illustration Rare",
          "Special Illustration Rare",
          "Special Illustration Rare",
          "Special Illustration Rare",
          "Special Illustration Rare",
          "Special Illustration Rare",
          "Special Illustration Rare",
          "Special Illustration Rare",
          "Special Illustration Rare",
          "Special Illustration Rare",
          "Special Illustration Rare",
          "Special Illustration Rare",
          "Special Illustration Rare",
          "Special Illustration Rare",
          "Special Illustration Rare",
          "Special Illustration Rare",
          "Special Illustration Rare",
          "Special Illustration Rare",
          "Special Illustration Rare",
          "Special Illustration Rare",
          "Special Illustration Rare",
          "Special Illustration Rare",
          "Special Illustration Rare",
          "Special Illustration Rare",
          "Special Illustration Rare",
          "Special Illustration Rare",
          "Special Illustration Rare",
          "Special Illustration Rare",
          "Special Illustration Rare",
          "Special Illustration Rare",
          "Special Illustration Rare",
          "Special Illustration Rare",
          "Special Illustration Rare",
          "Special Illustration Rare",
          "Special Illustration Rare",
          "Special Illustration Rare",
          "Special Illustration Rare",
          "Special Illustration Rare",
          "Special Illustration Rare",
          "Special Illustration Rare",
          "Special Illustration Rare",
          "Special Illustration Rare",
          "Special Illustration Rare",
          "Special Illustration Rare",
          "Special Illustration Rare"
         ],
         "x0": " ",
         "xaxis": "x",
         "y": {
          "bdata": "AAAAAACQUUAAAAAAAIBWQAAAAAAAFJdA9ihcj8L1M0BxPQrXowBVQAAAAAAAgE1A4XoUrkcRVUAAAAAAAMBWQI/C9Shc/1dANDMzMzPzOEA0MzMzM/M8QML1KFyPAjtAPgrXo3CdUEAAAAAAACBSQI/C9Shcj1NAfBSuR+H6Q0CamZmZmXlGQDMzMzMzc1RAzszMzMyMPEBwPQrXo7A+QB+F61G4/lRAwvUoXI9CPkDNzMzMzGxTQEjhehSuv2hAAAAAAACAQEAAAAAAAKBRQPYoXI/CDWJAAAAAAACAWEAzMzMzM3NKQML1KFyPgjtA4XoUrkcBQ0AAAAAAAEB7QAAAAAAAUIRAAAAAAACgX0AAAAAAAOBvQAAAAAAA0G5AAAAAAAAgZ0AAAAAAAHhnQAAAAAAAQFBA9yhcj8L1O0A+CtejcP1AQJqZmZmZ+UBAAAAAAACATkAAAAAAAAA2QD4K16NwrVBAmpmZmZn5SEAAAAAAAEBaQHE9CtejgFRAhutRuB7lQEDhehSuRwFEQAAAAAAAADZAcT0K16MwTEDXo3A9CgdRQOF6FK6n5MJAAAAAAABAXUCkcD0K12t0QDQzMzMz8z5A4noUrkeBRkDiehSuRyFNQAAAAAAAgFFAH4XrUbh+QkBI4XoUrp9kQM3MzMzM/FJAXI/C9SjsVkBI4XoUrn9hQM3MzMzMrEBAj8L1KFwPYUAAAAAAACBSQML1KFyPAk9AcD0K16OAVEBxPQrXo0BQQKRwPQrXY0BAcD0K16PwSkD2KFyPwrU7QOxRuB6F6z9AAAAAAAAwfEDNzMzMzIw8QAAAAAAAwFJAAAAAAADAWUAehetRuP5JQFyPwvUoXEZAFK5H4XoMZEAAAAAAAABDQPUoXI/CVVBAPgrXo3D9U0BnZmZmZiZEQM3MzMzMfFRAPgrXo3DdSEDiehSuRwFGQM3MzMzMvFBAmZmZmZkJXECPwvUoXI9DQAAAAAAAgE9AAAAAAABAXUDiehSuRwFFQAAAAAAAAEJAAAAAAABAQECG61G4HsVLQMzMzMzMPFpArkfhehRuUUBcj8L1KMB3QLgehetRSFlAj8L1KFzfcEBSuB6F6zeDQCCF61G48nxAexSuR+HaQ0A0MzMzMxmFQDMzMzMzv3JAPgrXo3D9REA0MzMzM595QJDC9ShcT35A4noUrkepZkBI4XoUrkc8QJqZmZmZ/4NACtejcD3KdEDNzMzMzBCBQDQzMzMzv31AZmZmZmZ+a0A9CtejcM1YQAAAAAAAEGFACtejcD3qSkDXo3A9ChibQDQzMzMzP39AHoXrUbiOYUBSuB6F69lyQMzMzMzMYHRAMzMzMzOPdUAAAAAAALBhQHA9Ctej/HFAPQrXo3A9WkA+CtejcD1VQGZmZmZmHm5AmpmZmZn5SEAAAAAAAPBhQHsUrkfhmktAjsL1KFzfVUDwKFyPwvUbQAAAAAAAgEZAYI/C9ShcPUCgwvUoXI8XQAApXI/C9RNAAAAAAAAAREA=",
          "dtype": "f8"
         },
         "y0": " ",
         "yaxis": "y"
        }
       ],
       "layout": {
        "legend": {
         "title": {
          "text": "ExtRarity"
         },
         "tracegroupgap": 0
        },
        "template": {
         "data": {
          "bar": [
           {
            "error_x": {
             "color": "#2a3f5f"
            },
            "error_y": {
             "color": "#2a3f5f"
            },
            "marker": {
             "line": {
              "color": "#E5ECF6",
              "width": 0.5
             },
             "pattern": {
              "fillmode": "overlay",
              "size": 10,
              "solidity": 0.2
             }
            },
            "type": "bar"
           }
          ],
          "barpolar": [
           {
            "marker": {
             "line": {
              "color": "#E5ECF6",
              "width": 0.5
             },
             "pattern": {
              "fillmode": "overlay",
              "size": 10,
              "solidity": 0.2
             }
            },
            "type": "barpolar"
           }
          ],
          "carpet": [
           {
            "aaxis": {
             "endlinecolor": "#2a3f5f",
             "gridcolor": "white",
             "linecolor": "white",
             "minorgridcolor": "white",
             "startlinecolor": "#2a3f5f"
            },
            "baxis": {
             "endlinecolor": "#2a3f5f",
             "gridcolor": "white",
             "linecolor": "white",
             "minorgridcolor": "white",
             "startlinecolor": "#2a3f5f"
            },
            "type": "carpet"
           }
          ],
          "choropleth": [
           {
            "colorbar": {
             "outlinewidth": 0,
             "ticks": ""
            },
            "type": "choropleth"
           }
          ],
          "contour": [
           {
            "colorbar": {
             "outlinewidth": 0,
             "ticks": ""
            },
            "colorscale": [
             [
              0,
              "#0d0887"
             ],
             [
              0.1111111111111111,
              "#46039f"
             ],
             [
              0.2222222222222222,
              "#7201a8"
             ],
             [
              0.3333333333333333,
              "#9c179e"
             ],
             [
              0.4444444444444444,
              "#bd3786"
             ],
             [
              0.5555555555555556,
              "#d8576b"
             ],
             [
              0.6666666666666666,
              "#ed7953"
             ],
             [
              0.7777777777777778,
              "#fb9f3a"
             ],
             [
              0.8888888888888888,
              "#fdca26"
             ],
             [
              1,
              "#f0f921"
             ]
            ],
            "type": "contour"
           }
          ],
          "contourcarpet": [
           {
            "colorbar": {
             "outlinewidth": 0,
             "ticks": ""
            },
            "type": "contourcarpet"
           }
          ],
          "heatmap": [
           {
            "colorbar": {
             "outlinewidth": 0,
             "ticks": ""
            },
            "colorscale": [
             [
              0,
              "#0d0887"
             ],
             [
              0.1111111111111111,
              "#46039f"
             ],
             [
              0.2222222222222222,
              "#7201a8"
             ],
             [
              0.3333333333333333,
              "#9c179e"
             ],
             [
              0.4444444444444444,
              "#bd3786"
             ],
             [
              0.5555555555555556,
              "#d8576b"
             ],
             [
              0.6666666666666666,
              "#ed7953"
             ],
             [
              0.7777777777777778,
              "#fb9f3a"
             ],
             [
              0.8888888888888888,
              "#fdca26"
             ],
             [
              1,
              "#f0f921"
             ]
            ],
            "type": "heatmap"
           }
          ],
          "histogram": [
           {
            "marker": {
             "pattern": {
              "fillmode": "overlay",
              "size": 10,
              "solidity": 0.2
             }
            },
            "type": "histogram"
           }
          ],
          "histogram2d": [
           {
            "colorbar": {
             "outlinewidth": 0,
             "ticks": ""
            },
            "colorscale": [
             [
              0,
              "#0d0887"
             ],
             [
              0.1111111111111111,
              "#46039f"
             ],
             [
              0.2222222222222222,
              "#7201a8"
             ],
             [
              0.3333333333333333,
              "#9c179e"
             ],
             [
              0.4444444444444444,
              "#bd3786"
             ],
             [
              0.5555555555555556,
              "#d8576b"
             ],
             [
              0.6666666666666666,
              "#ed7953"
             ],
             [
              0.7777777777777778,
              "#fb9f3a"
             ],
             [
              0.8888888888888888,
              "#fdca26"
             ],
             [
              1,
              "#f0f921"
             ]
            ],
            "type": "histogram2d"
           }
          ],
          "histogram2dcontour": [
           {
            "colorbar": {
             "outlinewidth": 0,
             "ticks": ""
            },
            "colorscale": [
             [
              0,
              "#0d0887"
             ],
             [
              0.1111111111111111,
              "#46039f"
             ],
             [
              0.2222222222222222,
              "#7201a8"
             ],
             [
              0.3333333333333333,
              "#9c179e"
             ],
             [
              0.4444444444444444,
              "#bd3786"
             ],
             [
              0.5555555555555556,
              "#d8576b"
             ],
             [
              0.6666666666666666,
              "#ed7953"
             ],
             [
              0.7777777777777778,
              "#fb9f3a"
             ],
             [
              0.8888888888888888,
              "#fdca26"
             ],
             [
              1,
              "#f0f921"
             ]
            ],
            "type": "histogram2dcontour"
           }
          ],
          "mesh3d": [
           {
            "colorbar": {
             "outlinewidth": 0,
             "ticks": ""
            },
            "type": "mesh3d"
           }
          ],
          "parcoords": [
           {
            "line": {
             "colorbar": {
              "outlinewidth": 0,
              "ticks": ""
             }
            },
            "type": "parcoords"
           }
          ],
          "pie": [
           {
            "automargin": true,
            "type": "pie"
           }
          ],
          "scatter": [
           {
            "fillpattern": {
             "fillmode": "overlay",
             "size": 10,
             "solidity": 0.2
            },
            "type": "scatter"
           }
          ],
          "scatter3d": [
           {
            "line": {
             "colorbar": {
              "outlinewidth": 0,
              "ticks": ""
             }
            },
            "marker": {
             "colorbar": {
              "outlinewidth": 0,
              "ticks": ""
             }
            },
            "type": "scatter3d"
           }
          ],
          "scattercarpet": [
           {
            "marker": {
             "colorbar": {
              "outlinewidth": 0,
              "ticks": ""
             }
            },
            "type": "scattercarpet"
           }
          ],
          "scattergeo": [
           {
            "marker": {
             "colorbar": {
              "outlinewidth": 0,
              "ticks": ""
             }
            },
            "type": "scattergeo"
           }
          ],
          "scattergl": [
           {
            "marker": {
             "colorbar": {
              "outlinewidth": 0,
              "ticks": ""
             }
            },
            "type": "scattergl"
           }
          ],
          "scattermap": [
           {
            "marker": {
             "colorbar": {
              "outlinewidth": 0,
              "ticks": ""
             }
            },
            "type": "scattermap"
           }
          ],
          "scattermapbox": [
           {
            "marker": {
             "colorbar": {
              "outlinewidth": 0,
              "ticks": ""
             }
            },
            "type": "scattermapbox"
           }
          ],
          "scatterpolar": [
           {
            "marker": {
             "colorbar": {
              "outlinewidth": 0,
              "ticks": ""
             }
            },
            "type": "scatterpolar"
           }
          ],
          "scatterpolargl": [
           {
            "marker": {
             "colorbar": {
              "outlinewidth": 0,
              "ticks": ""
             }
            },
            "type": "scatterpolargl"
           }
          ],
          "scatterternary": [
           {
            "marker": {
             "colorbar": {
              "outlinewidth": 0,
              "ticks": ""
             }
            },
            "type": "scatterternary"
           }
          ],
          "surface": [
           {
            "colorbar": {
             "outlinewidth": 0,
             "ticks": ""
            },
            "colorscale": [
             [
              0,
              "#0d0887"
             ],
             [
              0.1111111111111111,
              "#46039f"
             ],
             [
              0.2222222222222222,
              "#7201a8"
             ],
             [
              0.3333333333333333,
              "#9c179e"
             ],
             [
              0.4444444444444444,
              "#bd3786"
             ],
             [
              0.5555555555555556,
              "#d8576b"
             ],
             [
              0.6666666666666666,
              "#ed7953"
             ],
             [
              0.7777777777777778,
              "#fb9f3a"
             ],
             [
              0.8888888888888888,
              "#fdca26"
             ],
             [
              1,
              "#f0f921"
             ]
            ],
            "type": "surface"
           }
          ],
          "table": [
           {
            "cells": {
             "fill": {
              "color": "#EBF0F8"
             },
             "line": {
              "color": "white"
             }
            },
            "header": {
             "fill": {
              "color": "#C8D4E3"
             },
             "line": {
              "color": "white"
             }
            },
            "type": "table"
           }
          ]
         },
         "layout": {
          "annotationdefaults": {
           "arrowcolor": "#2a3f5f",
           "arrowhead": 0,
           "arrowwidth": 1
          },
          "autotypenumbers": "strict",
          "coloraxis": {
           "colorbar": {
            "outlinewidth": 0,
            "ticks": ""
           }
          },
          "colorscale": {
           "diverging": [
            [
             0,
             "#8e0152"
            ],
            [
             0.1,
             "#c51b7d"
            ],
            [
             0.2,
             "#de77ae"
            ],
            [
             0.3,
             "#f1b6da"
            ],
            [
             0.4,
             "#fde0ef"
            ],
            [
             0.5,
             "#f7f7f7"
            ],
            [
             0.6,
             "#e6f5d0"
            ],
            [
             0.7,
             "#b8e186"
            ],
            [
             0.8,
             "#7fbc41"
            ],
            [
             0.9,
             "#4d9221"
            ],
            [
             1,
             "#276419"
            ]
           ],
           "sequential": [
            [
             0,
             "#0d0887"
            ],
            [
             0.1111111111111111,
             "#46039f"
            ],
            [
             0.2222222222222222,
             "#7201a8"
            ],
            [
             0.3333333333333333,
             "#9c179e"
            ],
            [
             0.4444444444444444,
             "#bd3786"
            ],
            [
             0.5555555555555556,
             "#d8576b"
            ],
            [
             0.6666666666666666,
             "#ed7953"
            ],
            [
             0.7777777777777778,
             "#fb9f3a"
            ],
            [
             0.8888888888888888,
             "#fdca26"
            ],
            [
             1,
             "#f0f921"
            ]
           ],
           "sequentialminus": [
            [
             0,
             "#0d0887"
            ],
            [
             0.1111111111111111,
             "#46039f"
            ],
            [
             0.2222222222222222,
             "#7201a8"
            ],
            [
             0.3333333333333333,
             "#9c179e"
            ],
            [
             0.4444444444444444,
             "#bd3786"
            ],
            [
             0.5555555555555556,
             "#d8576b"
            ],
            [
             0.6666666666666666,
             "#ed7953"
            ],
            [
             0.7777777777777778,
             "#fb9f3a"
            ],
            [
             0.8888888888888888,
             "#fdca26"
            ],
            [
             1,
             "#f0f921"
            ]
           ]
          },
          "colorway": [
           "#636efa",
           "#EF553B",
           "#00cc96",
           "#ab63fa",
           "#FFA15A",
           "#19d3f3",
           "#FF6692",
           "#B6E880",
           "#FF97FF",
           "#FECB52"
          ],
          "font": {
           "color": "#2a3f5f"
          },
          "geo": {
           "bgcolor": "white",
           "lakecolor": "white",
           "landcolor": "#E5ECF6",
           "showlakes": true,
           "showland": true,
           "subunitcolor": "white"
          },
          "hoverlabel": {
           "align": "left"
          },
          "hovermode": "closest",
          "mapbox": {
           "style": "light"
          },
          "paper_bgcolor": "white",
          "plot_bgcolor": "#E5ECF6",
          "polar": {
           "angularaxis": {
            "gridcolor": "white",
            "linecolor": "white",
            "ticks": ""
           },
           "bgcolor": "#E5ECF6",
           "radialaxis": {
            "gridcolor": "white",
            "linecolor": "white",
            "ticks": ""
           }
          },
          "scene": {
           "xaxis": {
            "backgroundcolor": "#E5ECF6",
            "gridcolor": "white",
            "gridwidth": 2,
            "linecolor": "white",
            "showbackground": true,
            "ticks": "",
            "zerolinecolor": "white"
           },
           "yaxis": {
            "backgroundcolor": "#E5ECF6",
            "gridcolor": "white",
            "gridwidth": 2,
            "linecolor": "white",
            "showbackground": true,
            "ticks": "",
            "zerolinecolor": "white"
           },
           "zaxis": {
            "backgroundcolor": "#E5ECF6",
            "gridcolor": "white",
            "gridwidth": 2,
            "linecolor": "white",
            "showbackground": true,
            "ticks": "",
            "zerolinecolor": "white"
           }
          },
          "shapedefaults": {
           "line": {
            "color": "#2a3f5f"
           }
          },
          "ternary": {
           "aaxis": {
            "gridcolor": "white",
            "linecolor": "white",
            "ticks": ""
           },
           "baxis": {
            "gridcolor": "white",
            "linecolor": "white",
            "ticks": ""
           },
           "bgcolor": "#E5ECF6",
           "caxis": {
            "gridcolor": "white",
            "linecolor": "white",
            "ticks": ""
           }
          },
          "title": {
           "x": 0.05
          },
          "xaxis": {
           "automargin": true,
           "gridcolor": "white",
           "linecolor": "white",
           "ticks": "",
           "title": {
            "standoff": 15
           },
           "zerolinecolor": "white",
           "zerolinewidth": 2
          },
          "yaxis": {
           "automargin": true,
           "gridcolor": "white",
           "linecolor": "white",
           "ticks": "",
           "title": {
            "standoff": 15
           },
           "zerolinecolor": "white",
           "zerolinewidth": 2
          }
         }
        },
        "title": {
         "text": "Volatility grouped by Rarity"
        },
        "violinmode": "overlay",
        "xaxis": {
         "anchor": "y",
         "categoryarray": [
          "Hyper Rare",
          "Illustration Rare",
          "Special Illustration Rare"
         ],
         "categoryorder": "array",
         "domain": [
          0,
          1
         ],
         "title": {
          "text": "ExtRarity"
         }
        },
        "yaxis": {
         "anchor": "x",
         "domain": [
          0,
          1
         ],
         "title": {
          "text": "Volatility"
         }
        }
       }
      }
=======
     "data": {
      "text/plain": [
       "Text(0, 0.5, 'Average Price')"
      ]
     },
     "execution_count": 83,
     "metadata": {},
     "output_type": "execute_result"
    },
    {
     "data": {
      "image/png": "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",
      "text/plain": [
       "<Figure size 640x480 with 1 Axes>"
      ]
>>>>>>> 3ec6d88068e896ecc83e2f7788e35ecd656b2b29
     },
     "metadata": {},
     "output_type": "display_data"
    }
   ],
   "source": [
<<<<<<< HEAD
    "import plotly.express as plotly\n",
    "import plotly.io as pio\n",
    "\n",
    "fig_ttest = plotly.violin(\n",
    "    master_df, \n",
    "    y = 'volatility', \n",
    "    x = 'extRarity', \n",
    "    color ='extRarity',\n",
    "    box = True, \n",
    "    points='all',  \\\n",
    "    title = 'Volatility grouped by Rarity',\n",
    "    labels={'extRarity': 'ExtRarity', 'volatility': 'Volatility'}\n",
    ")\n",
    "fig_ttest"
=======
    "set_list = ['SVB',\n",
    "        'PAL',\n",
    "        'OBS',\n",
    "        'PAR',\n",
    "        'TEF',\n",
    "        'TWM',\n",
    "        'STC',\n",
    "        'SSP',\n",
    "        'JTG',\n",
    "        '151',\n",
    "        'PAF',\n",
    "        'SHF',\n",
    "        'PRE']\n",
    "\n",
    "# hyper rare cards graph\n",
    "hr_avg_price_list = hr_average_prices['averagePrice'].values\n",
    "plt.plot(set_list, hr_avg_price_list)\n",
    "plt.title('Mean Card Price for Hyper Rares in Scarlet and Violet Sets')\n",
    "plt.xlabel('Sets')\n",
    "plt.ylabel('Average Price')\n",
    "\n",
    "# illustration rare cards graph\n",
    "ir_avg_price_list = ir_average_prices['averagePrice'].values\n",
    "plt.plot(set_list, ir_avg_price_list)\n",
    "plt.title('Mean Card Price for Illustration Rares in Scarlet and Violet Sets')\n",
    "plt.xlabel('Sets')\n",
    "plt.ylabel('Average Price')\n",
    "\n",
    "# special illustration rare cards graph\n",
    "plt.plot(set_list, hr_avg_price_list)\n",
    "plt.title('Mean Card Price for Hyper Rares in Scarlet and Violet Sets')\n",
    "plt.xlabel('Sets')\n",
    "plt.ylabel('Average Price')"
   ]
  },
  {
   "cell_type": "markdown",
   "metadata": {},
   "source": [
    "### ANOVA Test Results + Tukey Test Results Analysis\n",
    "\n",
    "The p-value for the ANOVA test done on the average **hyper rare** market price across all sets is **1.2307944715509453e-06**, a number significantly smaller than 0.001 (<0.001). Because this p-value is significantly less than the given significance level of 0.05, we can conclude that there is a significant relationship between the card set and the average price of the hyper rares within the set.\n",
    "\n",
    "*Analyzing the TUKEY test results, we can see that the hyper rares in SV09: Journey Together differ significantly than the hyper rares in any other set. This is the only observable significant difference within this dataset of hyper rare cards.*\n",
    "\n",
    "The p-value for the ANOVA test done on the average **illustration rare** market price across all sets is **0.030095002095401828**. Because this p-value is significantly less than the given significance level of 0.05, we can conclude that there is a significant relationship between the card set and the average price of the illustration rares within the set.\n",
    "\n",
    "*Analyzing the TUKEY test results, we can see that there are no significant differences between the hyper rares of any two sets. This observation suggests that the variation is spread across multiple sets rather than between specific pairs.*\n",
    "\n",
    "- *note that SV: Prismatic Evolutions contains no illustration rares, therefore is not represented in this ANOVA and TUKEY test analysis*\n",
    "\n",
    "The p-value for the ANOVA test done on the average **special illustration rare** market price across all sets is **0.0008935513093533942**. Because this p-value is significantly less than the given significance level of 0.05, we can conclude that there is a significant relationship between the card set and the average price of the special illustration rares within the set.\n",
    "\n",
    "*Analyzing the TUKEY test results, we can see that there is a significant difference between the special illustration rares of SV: Prismatic Evolutions and SV01: Scarlet and Violet Base, SV: Prismatic Evolutions and SV02: Paldea Evolved, and SV: Prismatic Evolutions and SV05: Paradox Rift.*"
   ]
  },
  {
   "cell_type": "markdown",
   "metadata": {},
   "source": [
    "### TEST 2:\n",
    "We will be conducting a correlation test to determine whether or not the popularity of a set has an linear relation with the average price of a set. Since we are trying to two variables to see if they have a correlation with one another, a correlation test will be appropiate. Signficance Level = .05 (Level of Confidence = 95%).\n",
    "\n",
    "Null Hypothesis:\n",
    "There is no correlation between the average price of the set and the popularity of a set.\n",
    "\n",
    "Alternative Hypothesis:\n",
    "There is a correlation between the average price of the set and the popularity of the set."
   ]
  },
  {
   "cell_type": "code",
   "execution_count": 34,
   "metadata": {},
   "outputs": [
    {
     "data": {
      "text/plain": [
       "PearsonRResult(statistic=np.float64(-0.6902804971814794), pvalue=np.float64(0.009011909812729986))"
      ]
     },
     "execution_count": 34,
     "metadata": {},
     "output_type": "execute_result"
    }
   ],
   "source": [
    "sv01_price = sv01_df[sv01_df['name'] == 'Scarlet & Violet Booster Pack']\n",
    "sv02_price = sv02_df[sv02_df['name'] == 'Paldea Evolved Booster Pack']\n",
    "sv03_price = sv03_df[sv03_df['name'] == 'Obsidian Flames Booster Pack']\n",
    "sv04_price = sv04_df[sv04_df['name'] == 'Paradox Rift Booster Pack']\n",
    "sv05_price = sv05_df[sv05_df['name'] == 'Temporal Forces Booster Pack']\n",
    "sv06_price = sv06_df[sv06_df['name'] == 'Twilight Masquerade Booster Pack']\n",
    "sv07_price = sv07_df[sv07_df['name'] == 'Stellar Crown Booster Pack']\n",
    "sv08_price = sv08_df[sv08_df['name'] == 'Surging Sparks Booster Pack']\n",
    "sv09_price = sv09_df[sv09_df['name'] == 'Journey Together Booster Pack']\n",
    "sv_151_price = sv_151_df[sv_151_df['name'] == '151 Booster Pack']\n",
    "sv_pf_price = sv_pf_df[sv_pf_df['name'] == 'Paldean Fates Booster Pack']\n",
    "sv_sf_price = sv_sf_df[sv_sf_df['name'] == 'Shrouded Fable Booster Pack']\n",
    "sv_pe_price = sv_pe_df[sv_pe_df['name'] == 'Prismatic Evolutions Booster Pack']\n",
    "\n",
    "prices = pd.concat([sv01_price, sv02_price, sv03_price, sv04_price, sv05_price, sv06_price, sv07_price, sv08_price, sv09_price, sv_151_price, sv_pf_price, sv_sf_price, sv_pe_price])\n",
    "\n",
    "prices = prices[['marketPrice', 'groupId']]\n",
    "prices['set'] = prices['groupId'].apply(get_textset)\n",
    "\n",
    "def popularity_def(price):\n",
    "    if price >= 10:\n",
    "        return 1\n",
    "    elif price >= 7:\n",
    "        return 2\n",
    "    elif price >= 6:\n",
    "        return 3\n",
    "    elif price >= 5:\n",
    "        return 4\n",
    "    else:\n",
    "        return 5\n",
    "\n",
    "prices['popularity'] = prices['marketPrice'].apply(popularity_def)\n",
    "prices = prices.sort_values(by='set')\n",
    "\n",
    "average_price = master_df.groupby('set', sort = 'name')['marketPrice'].mean()\n",
    "\n",
    "sp.stats.pearsonr(average_price, prices['popularity'])"
   ]
  },
  {
   "cell_type": "markdown",
   "metadata": {},
   "source": [
    "### CORRELATION Test Result Analysis:\n",
    "\n",
    "The correlation test results in a p-value of 0.009011909812729986. This p-value is significantly lower than 0.05, indicating that we have enough evidence to reject the null hypothesis. Therefore we will accept the alternative hypothesis instead, which states that there is a correlation between the average price and popularity of a set.\n",
    "\n",
    "We determined the popularity of a set by ranking the prices of an individual booster pack for each set. For prices of over $10, we rank it with a popularity value of 1 (meaning its the most popular); for prices in between $7-$10, it is ranked with a score of 2, 3 for $6-$7, 4 for $5-$6, and 5 for any booster packs priced under $5. \n",
    "\n",
    "We paired each average price with a ranking, and the correlation test was performed with these pairs. "
   ]
  },
  {
   "cell_type": "code",
   "execution_count": 42,
   "metadata": {},
   "outputs": [
    {
     "data": {
      "image/png": "iVBORw0KGgoAAAANSUhEUgAAAjsAAAHHCAYAAABZbpmkAAAAOnRFWHRTb2Z0d2FyZQBNYXRwbG90bGliIHZlcnNpb24zLjEwLjAsIGh0dHBzOi8vbWF0cGxvdGxpYi5vcmcvlHJYcgAAAAlwSFlzAAAPYQAAD2EBqD+naQAAUwNJREFUeJzt3Qm8VVP/x/Ff86x5ngsRGlXIVGkkhccQkQehRynpQc8fIVQkQyIiUzzmklBSiZSkQQlRiqKBNM/D+b++q2df55577u3e2xn3+bxfr93t7L3vOevsu8/ev7PWb62VJxAIBAwAAMCn8sa7AAAAANFEsAMAAHyNYAcAAPgawQ4AAPA1gh0AAOBrBDsAAMDXCHYAAICvEewAAABfI9gBAAC+RrCDhHX22We7JZJWrVplefLksRdffDGizwskC53/99xzjyWqV155xY477jgrUKCAlSpVyhLx+PXu3TvexUAOEeykKN3s9aH1lsKFC9uxxx7rPsTr16+3VPLhhx9G5eK/d+9ee/zxx61x48Z21FFHuQv3CSecYNdff7398MMPEX89P/09dE5WqVLFDh48GO/iJBQF/8Gf2zJlylizZs1s7NixvjhW+lxcffXVVrduXRszZow9++yzme6rz2zwsQhd1q1bZ4nojz/+sL59+7qArkiRIlahQgVr3ry53X777bZ9+/YcP9/s2bPdsdi8eXNUyusX+eNdAMTXfffdZ7Vr17bdu3fbrFmz7Omnn3Y3m2+//daKFi1qflOzZk3btWuX+9bo0fsdNWpUxAOeiy66yD766CPr1q2b9ezZ0/bt2+cu5pMmTbLTTjvNXeyQ0auvvmq1atVytXDTp0+3c845J95FSijVqlWzIUOGpN04X375Zbv22mvtxx9/tKFDhx7293X+58+fmJf+Tz/91AVt+pJw9NFHZ+t3dM0qXrx4hvWJWCv0119/2cknn2xbt261a665xl0DNm7caIsXL3bvo1evXmHfy+GCnXvvvdcFiYn4nhNFYp7xiJmOHTu6D59cd911VrZsWRsxYoS999577ibtF/v373cX0YIFC7parGibN2+eC2oeeOAB+89//pNu25NPPhnTb2EKZPW+8+ZN/IrcHTt2uHNPN/MXXnjBBT6xDnY0N7KOmb51J6KSJUta9+7d0x7fcMMNVq9ePXdeDR48OF0g79G5r5pGnfuxOP9za8OGDe5nTm7a//jHP6xcuXKWDJ5//nn79ddf7YsvvnBfeIIpANLnFNGR+Fc/xFTr1q3dz5UrV6YFCbqAqlq5UKFC7hu3bt579uxJ93taf95559nHH39sjRo1chfU+vXr27vvvhu26jmzZjV9m8+MLtZ33323NW3a1F3wixUrZmeccYbNmDEjbF7O8OHD7bHHHksr+3fffZchZ0ffhlSrI8FV4Lrh6T116dIlQzl0I9Tr6yaTmRUrVrifLVu2zLAtX758LqgM9ttvv7lv52q6UVlV26ZveXrPnp9//tkuvvhi13ShWrdTTjnFPvjggwzfjFX+119/3e68806rWrWq21cXUpk7d6516NDBlV/rzzrrLHfhzYqaNVUToG+PoZYtW+ZeTzdaUe2V9jvmmGPcOaD3efrpp9vUqVMtO8aPH+9qHvQ+L7vsMnf+6Hh7TjzxRGvVqlXYm7neq258wev091fTocpSsWJF9zfbtGlT2HN3ypQpLvBXkPPMM8+4bQq49JlQU4P+Ljqn9Q083Ovr3NbfT8dVZdT5pufWORZMgW6/fv2sevXq7jlVgzFs2LBcN0N554ICRdX0BOeVKFjU+9frTJ48OW1baC1mds6/Iy33U089lVYWvc5NN92ULujXsRo0aJD7f/ny5SOWW5Td64Z4tUonnXSSO2dUDn1evv766wz7TpgwwZ2Pej96X97xzYquC/r86+8VSk3doYHo4T6vOj7//ve/3f/1N/OuX1ldR1MVNTsIe5P2bsaq7XnppZfcTeTWW291Hz596/7+++/djSnYTz/9ZJdeeqndeOON1qNHD3ej0E1LF4G2bdsecdl0w37uuefSmoW2bdvmvim1b9/evvrqKxdkBdPr60apHBldkBQkhF6YdfP7/fff3c1YiZEeXTD07fmhhx5yVc/6Xc/777/vyhL87Tpcc5noZqOAJ6tmA72+2ux14VdZVbWtm8/bb79tO3fudN/2FHDom6Ae33zzze7vo7/L+eef7/a74IIL0j2nAlT93oABA1xgqv+rSUg1ebro66aimh7vZv7555+7MoSjIEEX2TfffDPtZuR544033MVbf2fv4qvzQ+eNnk/HSTeKBQsWZOsc0PFSoFCpUiUX7Nxxxx3ueHvPr/NLr6F8DO3jUROsjqN+J/hvq6D2n//8pztmCuAVlC1cuNDdMIJrQBS06bzS7+jcUk2JKLDRjUzHWX9DleVf//qXO490s/YMHDjQnSudO3d25+M333zjfgYHaqK/n46l/r56rRo1arhmCP3+2rVrXXCWGwqE9XcIrhHR31t/MwU9qvlQMJHb8+9Iy62/mYJg1dIpiNLx1rFVDaj3t9BzqElO1xWvaapBgwaHfe/6fIbS38o7Fjm5bijg0zmjz4nOYX3Z02fjyy+/TKsB9843BeI6F0qUKGFPPPGEa7ZWrU3oF5nQ68KBAwfctUbXyKxk5/N64YUXuubL//73v/boo4+m1XApSEOIAFLSCy+8ENCf/5NPPgn88ccfgdWrVwdef/31QNmyZQNFihQJrFmzJrBo0SK3z3XXXZfudwcMGODWT58+PW1dzZo13bp33nknbd2WLVsClStXDjRu3Dht3aBBg9x+mZVn5cqVaevOOusst3j2798f2LNnT7rf27RpU6BixYqBa665Jm2dnkPPddRRRwU2bNiQbn9vm17Pc9NNN4Ut07Jly9z6p59+Ot36888/P1CrVq3AwYMHA5nRNpVdv6/ydevWLTBq1KjAL7/8kmHfq666KpA3b97AvHnzwj6P9OvXzz3X559/nrZt27Ztgdq1a7uyHDhwwK2bMWOG269OnTqBnTt3pnueY445JtC+fft05dY+eo62bdsGsvLMM8+4512yZEm69fXr1w+0bt067XHDhg0D5557biA31q9fH8ifP39gzJgxaetOO+20QJcuXTL8TUaOHJnud//1r38FihcvnvaedZy036uvvppuv8mTJ2dY75272hYq+Bh6dAx1fD3r1q1z5e7atWu6/e655x73vD169EhbN3jw4ECxYsUCP/74Y7p977jjjkC+fPkCv/76a5bHSOfUcccd5z6zWr7//vvAzTff7F6nc+fOafvpsc6ppUuXZngObdPnMCfn35GUW5/BggULBtq1a5d2nsqTTz7pyjJ27NgM1we9t8Px9g231KtXL8fXDV3P9Ls6npkdB9E+ej/Lly9PW/fNN9+EPS9D6VwpX76821d/xxtvvDHw2muvBTZv3pzh9bL7eX344YczXDuREcFOivKCi9BFF37vov/ggw+6dd9991263127dq1bf+utt6at0+9VqVIlQwBw++23u331O0ca7ATTRXPjxo3uoqiba6NGjTIENP/85z8z/F5Ogh1p0aJF4PTTT097rNcsUKBA4P/+7/8Ch7N79+7A/fff7y5qwcf4kksucRdb730oKAu+oYdz7LHHBpo3b55h/ZAhQ9IFIV6wc++996bbb8GCBW79Sy+9lHaj9BYFs4UKFUp3Iwql/XRDv/POO9PW6TX1nAqEPPp7KfgKvSlmx+OPP+5uIn/99VfaOt08Qtfpbx38N9HNrEKFCi6g9OiGVbJkSXejDX2/CoqCA3idu7qBHI5uSPp973Ph3aAUOOnxxx9/nG5/nSuhwU6DBg0CHTp0yFAmfenQvuPGjcuyDF4AHbzkyZPHfQaCAwStb9WqVdjnCA52snv+HUm5dTPXPh9++GG69QpA9NoXXXTREQU7+oI1derUdMvs2bNzfN3QdUDHUtuzotfs1KlThvV6L7fccsthy/3777+7IEfBlvc31Dl+3333pV0/c/J5JdjJHpqxUpzyVdTlXNW+aq5Q9b2XyPrLL7+4/4f2ilDzgaqItT2Y9gvNx9Fzi9qQg5sdcktNN4888ojr1aT8EI/aq0OFW5dTV111lWsG0HtVFfRbb73lXvfKK6887O+q6ez//u//3KKq/pkzZ7p8ADUtqNp+3LhxLsdC1exq+8+KXr9FixYZ1h9//PFp24OfI/S9q4lRsqo637Jli5UuXTrsNlWPt2nTxpVdTWReE5bOG1WlB/fuU56T/u4qj/INdKyy0xyh46GqefVO0SLqtq+cCx13NbF4TVnKG1OTivJ0lKekxFatD36/ej/KtckqETaz4+VRE4uaEObMmeOackKPl3IpvM9B6OdETZ+hx1PlUs+bzJoZQssVjpqj1C3bGzJC+VHh3md2zv/snn9HUm7v+HhNgx41j9WpUyfDdSSnzjzzzMMmKGfnuqEmfOUSBTdZZ0bNeKH0tw7NBwuncuXKrplOOUw6rsoVU+6T8oq0Tc1nR/p5RUYEOylON5fgtuhwwiUU51Zmz6V27OzcDJXs2bVrV5eUpwu88hSUI+LlGgWLRG8a5YDccsstLpdEN1iVQccr9MJ9OLqI6bnUrq8cEAUN0RzYMPS9e7lKDz/8cIbcJs/huryq/Mp/WbRokXsOvQcFQME3Gt149LdQjyolqytXQrkEo0ePdhfxzOjirvwN0c07lI5/cLCjXBEFQEqYVTkUdCiwCn6/Oj/0e+GE3rTDnSt6H3p/ymFRD0Ul5uoGraEK9J5yk1Cs31Hu0m233RZ2u/flICtKsM1OD7VI9iaLRLnjJafXjezQ74dzqOIn+9dCHTct5557rjvvdb7qcxKJzyvSI9hBplSToQ+dbkReDYIoWVbJjF4Srmf58uXuwx4c0Ch5TrzkSO+biH4/OJkyO9/ulDCpb4JKDAx+jdCk2ZzKKpjTtzxdiHQRuuKKK9w3/dwmkYpqdFTLoWP6559/uguvemFoXKOs6FgrqTOUNzhh6N8ilHqkiV4rt125dbNQcqpqdLy/rYKOcMdMQZEWDZKmAEgJqlkFOzq+OjZK3Ay9kSgZVAmgSv7UN2p9G1eQrnKo1k3ng8qmmrTg9/vJJ5+45PDc3vSVjKzk7okTJ6b7Jh/ai8c79jr/g2sKVDsV+k1f5dIxSZSxgxT0Zef8O5Jye8dH568+vx7V2ClpPNrHIrvXDb1H1bKEdkiIBZVP10bVAHtlye7nNZJfRv2MrufIVKdOndzP0Ju7vuWKgoDQXh3BPbRUPa7eFfpm4jVheR/izz77LG0/dZlVNfPheDfB4G9P6h2mJoYjoW/KktnYN2qGUTdifStUGYJ7/GRGwYxuzqH0GiqvLmy60aiZUDdq3VjDdW/13qv+Fuo5Evxeddw0wqwCSXWJzop6dOjYqzt+uFFavS7LWVFwqh4sqklR13bVcqjswbzmp+Bvn2reCR2qIFywo+7AqrVRz7/gxetaqx4nHu2nHjIaOVhBY3ATllxyySWuttBrcgumHjbZGeco3PmmpgP1iAmm2h8154V2Sfe644eWS39D3VRDqUwqWyxl9/w7knLrZq1zRQFr8LFUjygdz9DrSKRl97qhWlftE26IhZzU2GRFr6vPbSh9tvXZ8WqMc/J5Pdz1C4dQs4NMNWzY0LUZ64aqD5K6nupDqcBEF8jQ8U5UHauum2qOUP6PbkSqBQq+ObRr1859S9Z+XvCg/XTjDxccBNNYKPp2pm7WukDqW6GaR3Sjz80w6x5dWETdk3UzDw1o9FrqTqpmE3UFzSwPJJi6Hl9++eVuf93E9U1ROSY6dgoKFUB6F+EHH3zQNfno+KqpRrVo+oan11OthoIMdcHWzV7Pp3Lq+fRcOgbvvPPOYQcM1HY1Ken31YymWhflu6hMqqnQN0jd8A5HQYW63CvfQMcqdPA3/S00pYGOqcqoG6i+WWc1l5BuAKoVyWwflbNJkyYuINKQ+t7NV93qteh1Qr/96liqFkpNFWp203mnmiMFoTquyp0KHpMnHP2ObtLqTq7n0jmmXBn9/b1v4KJzXcP/KydEXdTVnKa/v0bPVhNf8DdvnfOqKdK5rKYVHSfd/JYsWeKOk3LbYj1AXnbOvyMptz7bqgFUEKFjo2OkWh6dQ5rqIqshHLJDrx+uSUfNbvrbZPe6oeuZvtgoKNN5orKqZlvdvLUtEvNhqeZS57HKomOo80vDeOgaqPwrbwDSnHxeveuXcgN13dJ5rnPWC4LwP9lMZIbPeL2fwnU3DbZv3z7Xs0e9VdQLqXr16oGBAwe6nkbB1KNFvRumTJniem6ot4B6Ib311lsZnnP+/Pmul5N6INSoUSMwYsSIbPXGUk8F9YTRa+n51aV90qRJrreL1oX2uFIvhez0xlJvnj59+rguoeqNEe5joa7NWq+eJdntRj106FBXfnW/V0+m0qVLu27ab7/9dob91SVdXYBVBr03dW1W75DgLrMrVqwI/OMf/wiUKlUqULhwYdc7S+8/mNcbK9xxl4ULFwYuvPBCN8SAXkfHTb3Dpk2blq33tXXrVjc0QWY9cNT7TOVSGbWfzoEHHnggsHfv3kyfU8dez6f3lxmvG7e6+HpatmwZdmiEYM8++2ygadOmriwlSpQInHTSSYHbbrvN9YgJPXfDmThxojufdbzVy2zYsGGuq3Touapz6K677gpUqlTJvZb+zuoWruOsnjfBNGSAPkNHH320+wyUK1fOdbEfPnx4lsdJdD6dcMIJgcNR+XT+ZLYtuOt5ds+/Iym319Vc54OuI+qJ1KtXr7ReiZHueq5Fn4WcXDe8v6OuGyqn3qOOR8eOHd0163DHVs8V3PMunMWLFwf+/e9/B5o0aRIoU6aMuy7o+nDxxRe7Hli5/bxqaICqVau6IQTomRVeHv3jBT5AbqkpRT06NEWCHylJWdXuGszOj3OGIfJUG6rmyvvvv9996wYQP+TsAIehUXDVo0Nt+gQ6CEdTXITyct3UrAcgvsjZATKhsUPUo0c5AUoeVF4GEI56hmkoASWSK39EuS7KsVLeT7j50QDEFsEOkAn1wFJ3cyWkKmkxs/EuAA0noB5Zmh9LvRC9pGU1YQGIP3J2AACAr5GzAwAAfI1gBwAA+Bo5O/+b90UDvZUoUYKhtwEASBLKxNm2bZubxDWrwVUJdv43zYEm+QMAAMln9erVVq1atUy3E+yYuRod72BpGG4AAJD41PtRlRXefTwzBDtBs8Yq0CHYAQAguRwuBYUEZQAA4GsEOwAAwNcIdgAAgK8R7AAAAF8j2AEAAL5GsAMAAHyNYAcAAPgawQ4AAPA1gh0AAOBrjKAcJQcOBuyrlX/Zhm27rUKJwta8dhnLl5dJRgEAiDWCnSiY/O1au/f972ztlt1p6yqXLGyDOte3DidWjmvZAABINTRjRSHQ6TVuQbpAR9Zt2e3WazsAAIgdgp0IN12pRicQZpu3Ttu1HwAAiA2CnQhSjk5ojU4whTjarv0AAEBsEOxEkJKRI7kfAAA4cgQ7EaReV5HcDwAAHDmCnQhS93L1usqsg7nWa7v2AwAAsUGwE0EaR0fdyyU04PEeazvj7QAAEDsEOxGmcXSe7t7EKpVM31Slx1rPODsAAMQWgwpGgQKatvUrMYIyAACpXrPz2WefWefOna1KlSqWJ08emzBhQrrtWhduefjhh9P2qVWrVobtQ4cOtXhTYHNq3bLWpVFV95NABwCAFAx2duzYYQ0bNrRRo0aF3b527dp0y9ixY10wc9FFF6Xb77777ku3X58+fWL0DgAAQKKLazNWx44d3ZKZSpUqpXv83nvvWatWraxOnTrp1pcoUSLDvgAAAEmVoLx+/Xr74IMP7Nprr82wTc1WZcuWtcaNG7smrv3792f5XHv27LGtW7emWwAAgD8lTYLySy+95GpwLrzwwnTrb775ZmvSpImVKVPGZs+ebQMHDnRNWSNGjMj0uYYMGWL33ntvDEoNAADiLU8gEEiIWSmVizN+/Hjr2rVr2O3HHXectW3b1kaOHJnl8yiv54YbbrDt27dboUKFMq3Z0eJRzU716tVty5YtdtRRRx3hOwEAALGg+3fJkiUPe/9Oipqdzz//3JYtW2ZvvPHGYfdt0aKFa8ZatWqV1atXL+w+CoIyC4QAAIC/JEXOzvPPP29NmzZ1PbcOZ9GiRZY3b16rUKFCTMoGAAASW1xrdtTUtHz58rTHK1eudMGK8m9q1KiRVkX11ltv2SOPPJLh9+fMmWNz5851PbSUz6PHt9xyi3Xv3t1Kly4d0/cCAAASU1yDna+//toFKp7+/fu7nz169LAXX3zR/f/11183pRV169Ytw++rKUrb77nnHpeDU7t2bRfseM8DAACQMAnKyZDgBAAAku/+nRQ5OwAAALlFsAMAAHyNYAcAAPgawQ4AAPA1gh0AAOBrBDsAAMDXCHYAAICvEewAAABfI9gBAAC+RrADAAB8jWAHAAD4GsEOAADwNYIdAADgawQ7AADA1wh2AACArxHsAAAAXyPYAQAAvkawAwAAfI1gBwAA+BrBDgAA8DWCHQAA4GsEOwAAwNcIdgAAgK8R7AAAAF8j2AEAAL5GsAMAAHyNYAcAAPgawQ4AAPA1gh0AAOBrBDsAAMDXCHYAAICvEewAAABfI9gBAAC+RrADAAB8jWAHAAD4GsEOAADwNYIdAADgawQ7AADA1+Ia7Hz22WfWuXNnq1KliuXJk8cmTJiQbvvVV1/t1gcvHTp0SLfPX3/9ZVdccYUdddRRVqpUKbv22mtt+/btMX4nAAAgUcU12NmxY4c1bNjQRo0alek+Cm7Wrl2btvz3v/9Nt12BztKlS23q1Kk2adIkF0Bdf/31MSg9AABIBvnj+eIdO3Z0S1YKFSpklSpVCrvt+++/t8mTJ9u8efPs5JNPdutGjhxpnTp1suHDh7saIwAAkNoSPmfn008/tQoVKli9evWsV69etnHjxrRtc+bMcU1XXqAj55xzjuXNm9fmzp2b6XPu2bPHtm7dmm4BAAD+lNDBjpqwXn75ZZs2bZoNGzbMZs6c6WqCDhw44LavW7fOBULB8ufPb2XKlHHbMjNkyBArWbJk2lK9evWovxcAAJCCzViHc9lll6X9/6STTrIGDRpY3bp1XW1PmzZtcv28AwcOtP79+6c9Vs0OAQ8AAP6U0DU7oerUqWPlypWz5cuXu8fK5dmwYUO6ffbv3+96aGWW5+PlAan3VvACAAD8KamCnTVr1ricncqVK7vHp556qm3evNnmz5+fts/06dPt4MGD1qJFiziWFAAAJIq4NmNpPByvlkZWrlxpixYtcjk3Wu6991676KKLXC3NihUr7LbbbrOjjz7a2rdv7/Y//vjjXV5Pz549bfTo0bZv3z7r3bu3a/6iJxYAAJA8gUAgEK9DodybVq1aZVjfo0cPe/rpp61r1662cOFCV3uj4KVdu3Y2ePBgq1ixYtq+arJSgPP++++7XlgKjp544gkrXrx4tsuhnB0lKm/ZsoUmLQAAkkR2799xDXYSBcEOAAD+vX8nVc4OAABAThHsAAAAXyPYAQAAvkawAwAAfI1gBwAA+BrBDgAA8DWCHQAA4GsEOwAAwNcIdgAAgK8R7AAAAF8j2AEAAL5GsAMAAHyNYAcAAPgawQ4AAPA1gh0AAOBrBDsAAMDXCHYAAICvEewAAABfI9gBAAC+luNg57PPPrP9+/dnWK912gYAAJDUwU6rVq3sr7/+yrB+y5YtbhsAAEBSBzuBQMDy5MmTYf3GjRutWLFikSoXAABAROTP7o4XXnih+6lA5+qrr7ZChQqlbTtw4IAtXrzYTjvttMiUCgAAINbBTsmSJdNqdkqUKGFFihRJ21awYEE75ZRTrGfPnpEqFwAAQGyDnRdeeMH9rFWrlg0YMIAmKwAA4M+cnUGDBrkmrE8++cSeeeYZ27Ztm1v/+++/2/bt26NRRgAAgOjX7Hh++eUX69Chg/3666+2Z88ea9u2rWvWGjZsmHs8evTo3JcGAAAg3jU7ffv2tZNPPtk2bdqULm/nggsusGnTpkW6fAAAALGt2fn8889t9uzZLik5mHJ5fvvttyMrDQAAQLxrdg4ePOi6modas2aNa84CAABI6mCnXbt29thjj6U91rg7SkxW4nKnTp0iXT4AAIAjkieggXNyQDU47du3d+Pt/PTTTy5/Rz/LlSvn5saqUKGCJZutW7e6cYQ05cVRRx0V7+IAAIAI3r9zHOx4k36+8cYb9s0337hanSZNmtgVV1yRLmE5mRDsAACQfKIa7PgNwQ4AAP69f2c7Z+fHH3+0r776Kt06dTXXTOfNmze3Bx988MhKDAAAEAXZDnZuv/12mzRpUtrjlStXWufOnV0X9FNPPdWGDBmSLnEZAAAgqcbZ+frrr+22225Le/zqq6/asccea1OmTHGPGzRoYCNHjrR+/fpFp6QAAADRrNn5888/rVq1ammPZ8yY4Wp2PGeffbatWrUqRy+u3lt6jipVqrgu7BMmTEjbtm/fPlebdNJJJ7lJR7XPVVdd5ebgCh3MUL8bvAwdOjRH5QAAAP6V7WCnTJkytnbt2rSBBVXTc8opp6Rt37t3r+uOnhM7duywhg0b2qhRozJs27lzpy1YsMDuuusu9/Pdd9+1ZcuW2fnnn59h3/vuu8+VzVv69OmTo3IAAAD/ynYzlmpuBg8ebE899ZS99dZbLuDROs93333nallyomPHjm4JR9nVU6dOTbfuySefdMnQmoS0Ro0aaes1cnOlSpVy9NoAACA1ZLtm54EHHrAffvjBatas6ZqXHnroIde85HnllVesdevWFk3qWqZmqlKlSqVbr2arsmXLWuPGje3hhx924wBlRbOzq7ta8AIAAFK8Zke1Nt9//70tXbrUypcv73Jogt17773pcnoibffu3S7I6tatW7q+9DfffLMb1FDNbJqgdODAga4pa8SIEZk+l3qOqbwAAMD/EmZQQdXYjB8/3rp27Zphm5KVL7roIjdVxaeffprlwEFjx461G264wY3sXKhQoUxrdrR4VLNTvXp1BhUEAMCHgwpmu2YnXhToXHLJJfbLL7/Y9OnTDxuMtGjRwjVjqWdYvXr1wu6jICizQAgAAPhL/mQIdDTRqLq6Ky/ncBYtWmR58+ZNyglJAQCAz4IdNTUtX7483ajMClaUf1O5cmX7xz/+4bqda+TmAwcO2Lp169x+2q6Rm+fMmWNz5851U1aoR5Ye33LLLda9e3crXbp0HN8ZAABIFHHN2VH+jQKVUD169LB77rnHateuHfb3VMujbu8KhP71r3+5XmLKwdH+V155pfXv3z9HzVRMBAoAQPKJ6qznn3/+uT3zzDO2YsUKe/vtt61q1aqu67mCjdNPP92SDcEOAADJJ+Kznnveeecda9++vRUpUsQWLlyY1qtJL8TM5wAAINHkONi5//77bfTo0TZmzBgrUKBA2vqWLVu6ZiUAAICkDnY0P9WZZ56ZYb2qkTZv3hypcgEAAMQn2NEcVME9qDyzZs2yOnXqRKZUAAAA8Qp2evbsaX379nVdvjXq8e+//26vvvqqDRgwwHr16hWpcgEAAMRnnJ077rjDzXjepk0b27lzp2vSUjdvBTt9+vSJTKkAAADiPc7O3r17XXOWBgasX7++FS9e3JIVXc8BAEg+UZ8bSyMYK8gBAABIZDkOdnbs2GFDhw61adOm2YYNG1yTVrCff/45kuUDAACIbbBz3XXX2cyZM920DJq/SknKAAAAvgl2PvroI/vggw/cIIIAAAC+63qu2cQ16zgAAIAvg53Bgwfb3Xff7bqdAwAA+KIZq3Hjxulyc9TlvGLFilarVq1082MJ82MBAICkC3a6du0a/ZIAAAAk0qCCfsKgggAA+Pf+neOcHU32uXHjxgzrNeM5E4ECAIBEk+NgZ9WqVXbgwIEM6/fs2WNr1qyJVLkAAABiO87OxIkT0/4/ZcoUV23kUfCjEZVr164dmVIBAADEOtjxkpTVK6tHjx7ptqlHlnpmPfLII5EqFwAAQGyDHW8OLNXezJs3z8qVKxeZEgAAACTSdBErV66MTkkAAAASIUEZAAAgmRDsAAAAXyPYAQAAvpatYKd///62Y8cO9//PPvvM9u/fH+1yAQAAxC7YGTlypG3fvt39v1WrVvbXX39F5tUBAAASoTeWxtB54oknrF27dqaptObMmWOlS5cOu++ZZ54Z6TICAABEdyLQCRMm2I033mgbNmxwgwpm9ivaFm4qiUTHRKAAAJhv7985mvVcTVl6smXLllmFChXC7hM8jUSyINgBAMB8e//O0aCCxYsXtxkzZrhRlPPnz/F4hAAAADGX44jlrLPOck1V77zzjn3//fduXf369a1Lly6WL1++aJQRAAAgdsHO8uXL7dxzz7U1a9ZYvXr13LohQ4ZY9erV7YMPPrC6devmvjQAAADxHlTw5ptvtjp16tjq1attwYIFbvn1119d05a2AQAAJHXNzsyZM+3LL7+0MmXKpK0rW7asDR061Fq2bBnp8gEAAMS2ZqdQoUK2bdu2sD21ChYseGSlAQAAiHewc95559n1119vc+fOdePtaFFNj8bhOf/88yNdPgAAgNgGOxpJWUnIp556qhUuXNgtar46+uij7fHHHz+y0gAAAMQ72ClVqpS999579uOPP9rbb7/tFg0yOH78+BwPKKhJRTt37mxVqlRxoy9rpOZgqjW6++67rXLlylakSBE755xz7Keffkq3j+bpuuKKK9xgQirbtddemzaPFwAAQI6DHY9qchSoaNH/c0MzqTds2NBGjRoVdvtDDz3kapJGjx7tms2KFStm7du3t927d6fto0Bn6dKlNnXqVJs0aZILoNTMBgAAkOPpIqJJNTuqHeratat7rGKpxufWW2+1AQMGuHUaDrpixYr24osv2mWXXeYGNdSAhvPmzbOTTz7Z7TN58mTr1KmTGwdIv58dTBcBAEDyye79O9c1O9G2cuVKW7dunWu68ugNtWjRws26Lvqppisv0BHtnzdvXlcTlJk9e/a4AxS8AAAAf0rYYEeBjqgmJ5gee9v0M3RCUs3ZpTGAvH3C0YjPCpy8RaM/AwAAf0rYYCeaBg4c6Kq8vEWjQQMAAH/KVbDz+eefW/fu3V33899++82te+WVV2zWrFkRK1ilSpXcz/Xr16dbr8feNv3csGFDuu379+93PbS8fTIbGFFte8ELAADwpxwHO5rtXD2i1BV84cKFLv9FVEPy4IMPRqxgmmtLAcu0adPS1im3Rrk4CrJEPzdv3mzz589P22f69Ol28OBBl9sDAACQ42Dn/vvvd13Bx4wZYwUKFEhbr4EFNSloTmg8nEWLFrnFS0rW/zWxqHpn9evXz73exIkTbcmSJXbVVVe5HlZej63jjz/eOnToYD179rSvvvrKvvjiC+vdu7frqZXdnlgAAMDfchzsaADBM888M8N6JfqqliUnvv76a2vcuLFbpH///u7/GkhQbrvtNuvTp48bN6dZs2YuOFLXco3a7Hn11VftuOOOszZt2rgu56effro9++yzlggee8ysfHmzDz+Md0kAAEhdOR5np06dOi6YUBfvEiVK2DfffOPWvfzyy27m8++++86STbTG2cmTJ/3jVq3MXn/dLKQDGQAASKRxdtRk1LdvX5c7o6am33//3dWuaOC/Xr165aasvjV2bPrHM2ao6/yhIEjTiCXGcI4AAPhbjmt2tLsSkTVWzc6dO9N6NynYGTx4sCWjaI+gPG+eWZs2Ztu2Zdym1KKPPzY74YSIvywAAL6W3ft3rqeL2Lt3ry1fvtzl0WjKhuLFi1uyitV0EQcPmqnD2l13hd+uirFHH1XwGLUiAADgG1ELdvSEBw4ccKMUB9PYNhq9OBnHrInH3Fhr1phdcIGStMNvV1Jzx44xKQoAAEkpajk76tb9urJsQ7z55ptuG7KnWrVDzVsKNcMcTuvU6VBuj5q//vgjHiUEAMAfchzsKDG5lboVhTj77LOznHwTmbv00kNBj3J6rrgi/bbp0w/13lLg88QTJDUDABD1YEcjJmtKhlD79u2zXbt25bgA+JvSnsaNOxTQKG4MTYPq29csb95DtUJLl8arlAAA+DzYad68edhB+zSqctOmTSNVrpTXvPmhmp4DB8zuuy/9Nk1HduKJh2p7/vUvBaDxKiUAAIkvxwnKmpJBAwpqRGONWiyav2revHn28ccf2xlnnGHJJh4JyrmhydmV1Bw0FVg6JDUDAFLJ1mglKGsOrDlz5lj16tVdUvL7779vRx99tC1evDgpA51kUr36od5bJDUDAJB9uR5nx0+SpWYnnO3bzW68UXOEhd+ukZr79Mk4dQUAAMkuouPs6Mm8J9H/s5JswUKyBzvBvvrqUK2OAqBQVauaTZnCSM0AAP+IaDNW6dKlbcOGDe7/pUqVco9DF2894oekZgAAclmzM3PmTJeroxGS9f+snHXWWZZs/FKzEw5JzQAAv8ru/Tt/dp7MC2A0vo6CnWuuucaqabAXJE1Ss7zxhkbAzpjULK1bH0p6Ll8+9mUEACCactQbSzU7Dz/8cNhBBZFcIzVffnn6bYzUnDwOHAzYnBUb7b1Fv7mfegwAiGBvrC5dutiFF15oPXr0ML/wczPW4WikZiU179iRcRtJzYln8rdr7d73v7O1W3anratcsrAN6lzfOpxYOa5lA4CkbsYK1rFjR7vjjjtsyZIlbsTkYsWKpdt+/vnn567EiIsWLQ713jp40OyBB8zuvjtjUrMoqXnECLNCheJW1JSnQKfXuAUW+u1k3Zbdbv3T3ZsQ8ABAJGp28mpypkzkyZPHDqgrUJJJ5Zqd3CQ1f/SRWYcOsS5ValNT1enDpqer0QmmYZQqlSxss25vbfnyMqgSgNSwNVojKB88eDDTJRkDHeR8pGb13lJuzznnMFJzrHy18q9MAx3RNxZt134AgCMIdlatWmVjxoyxp556ypYy7balelLztGkkNcfKhm27I7ofAKSSbAc7M2bMsBNOOMFuuOEG6927tzVu3NjGjRsX3dIhYRQvfmhKCgU0X35pFpKqZX37qonTTCMSEAdHXoUShSO6HwCkkmwHO3fddZe1bdvWfvvtN9u4caP17NnTbrvttuiWDgmd1KwRCO69N/ORmm+6iZGaI6V57TKu11Vm2Thar+3aDwCQywRlTQcxe/Zsq1+/vnu8c+dOlwy0fv16K1u2rCUzEpQjk9TctavZggXht5PUHLneWBL8ofUCIHpjAUg1WyOdoKwnLFeuXNrjokWLWpEiRdwLAEpqVu8thc7//W/G7SQ1HzkFMgpo1OsqmB4T6ABABGp21OX8pZdechGUp1u3bvbYY49ZxYoVk3qcHWp2okNNXTfcYPbaa+G3K6m5d+9DQRBy1g1dva6UjKwcHTVd0d0cQCrams37d46CncNhnB3kZqRmJTVrpOb/tZACABCfZqysxtdhnB0cSVLzmjWHpqQgqRkAEA05HlQQOBL58h2akkL1ib/+atakSfrtTz1lVrjwocBn8uR4lRIA4CcEO4gbkpoBALFAsIOEcNll2RupeeRIRmoGAOQMwQ6SaqTmm28+NFKzaoW++y5epQQAJBOCHSQskpoBAHELdjZv3mzPPfecDRw40P7669AsywsWLHBTSQCRRlIzACCmwc7ixYvt2GOPtWHDhtnw4cNd4CPvvvuuC36AaCKpGQAQ9WCnf//+dvXVV9tPP/1khfV1+n86depkn332WY4LAEQiqblbt/TbSGoGAOQ62Jk3b57doDkAQlStWtXWrVuX06cDIpLUrCkpvKTmokXTbyepGQBSW46DnUKFCrnhmUP9+OOPVr58eYu0WrVquWkoQpeblJVqZmeffXaGbTfeeGPEy4HkSWrWlBRKar7nnsyTmjUnF0nNAJAachzsaKLP++67z/bt2+ceK7j49ddf7fbbb7eLLroo4gVUTdLatWvTlqlTp7r1F198cdo+PXv2TLfPQw89FPFyIPmSmgcNyjypedQokpoBIFXkONh55JFHbPv27VahQgXbtWuXnXXWWXb00UdbiRIl7IEHHoh4AVVbVKlSpbRl0qRJVrduXfe6nqJFi6bbh8k8kVlSc7gZ2L2k5rZtzf78Mx4lBABEU7ZnPQ81a9Ys1zNLgU+TJk3sHHV/ibK9e/dalSpVXJL0f/7zn7RmrKVLl5rehgKdzp0721133eUCoOxi1vPUo/F7rr8+fI8ueeKJQ01dCoIAAIkpu/fvXAc78fDmm2/a5Zdf7prNFPTIs88+azVr1nSPFXypOa158+auK3xm9uzZ45bgg1W9enWCnRQ1d65Z69ZmO3dm3FatmtmUKWb168ejZACAuAQ7T+grb7gnypPHdUVXk9aZZ55p+ZQ0EWHt27e3ggUL2vvvv5/pPtOnT7c2bdrY8uXLXXNXOPfcc4/dGzokrxnBToo7cMDs/vszJjZ7lBP/yCNK0o91yQAAMQ12ateubX/88Yft3LnTSpcu7dZt2rTJNRsVL17cNmzYYHXq1LEZM2a42pJI+eWXX9zzqsamS5cume63Y8cOV47Jkye74CgcanZwOEpq7trVbOHC8NuV1JzJ6QUASLBgJ8cJyg8++KA1a9bMDSq4ceNGt6jbeYsWLezxxx93TUzKnbnlllsskl544QWXFH3uuedmud+iRYvcz8qVK2fZfV4HJXgBgtWooSlQMk9q7tCBpGYASBY5rtlR09A777xjjRo1Srd+4cKFruv5zz//bLNnz3b/VzfwSDh48KCrUerWrZsNHTo0bf2KFSvstddec6M3ly1b1uXsKMiqVq2azZw5M9vPT4IysoOkZgBIkZodBTD7NWJbCK3zRlBWsvA2jeEfIZ988omrMbrmmmvSrVf+jra1a9fOjjvuOLv11ltdkJVVTg+QW4zUDADJKcfBTqtWrdx0EarJ8ej/vXr1stbq0mJmS5YscTUxkaJgRhVQmoA0mPJsVIOjprTdu3e7pjUNKEjtDKKNkZoBwMfBzvPPP29lypSxpk2butwXLSeffLJbp22iBGENPgik0kjNv/xi1rhx5iM1qws7ACD2cj3Ozg8//OASk6VevXpuSVbk7CDSlNdz+eXht2n8TW0vVy7WpQIAf/HloILRQrCDaCY19+xp9vrr4bePHHlo/B6SmgEgwYKdNWvW2MSJE13SsKZwCDZixAhLNgQ7iAUlNSutbdeujNuU1KyxexipGQAif//Obzk0bdo0N/O5BvhTU9aJJ55oq1atcgnEmiMLQHinnHJoSgqN1Dx4sFnwIN6rVx9KahYlNSvlrWDBuBUVAFI7QXngwIE2YMAA1+NK00NozJ3Vq1e7Wcgvvvji6JQS8FlSs3pwZZbU/OSTh6akIKkZAOIU7Hz//fd21VVXuf/nz5/fdu3a5Xpf3XfffTZs2LAIFQtIDYzUDAAJGOwUK1YsLU9HUzJoFGPPn1yNgVzr1u1Q0LN1q9lll6Xf9sknZuXLHwp8NFIz3QoAIIrBzimnnGKzZs1y/9c0DRq1+IEHHnCjG2sbgCNTosShrukKaObMMStSJP32vn0PjdSswOeZZ+JVSgBIHjnujaW5r7Zv324NGjRwM4wr2NFcWMccc4zriVWzZk1LNvTGQqILl9QcavNms5IlY1kqAPBh1/MDBw7YF1984QKdUqVKmV8Q7CCZaKaWrDo+du1qNn58LEsEAD6aCDRfvnxunqpNmzZFoowAckG9t/QVRUutWhm3T5hwqIlLS9AUdgCQsnKcs6NxddSUBSD+Vq48FPSsWhV+u2qAvMCHpGYAqSrHwc7999/vxtmZNGmSrV271lUhBS8AYk+pcl5tT//+4fchqRlAqspxgnJeXTG9Xw6a0EdPo8fK60k25OzAjzRChAYnzApJzQCSWdSmi5gxY8aRlg1ADGi6Ce+rzKRJZp07Z9zH62dAUjMAP2PWc2p2kIKjNmsursxoROfQKSwAIGV6Y3k+//xz6969u5122mn222+/uXWvvPJK2mCDABLXr78eqvFRcnM4JDUD8JscBzua+LN9+/ZWpEgRW7Bgge3Zs8etV1T14IMPRqOMAKJA3dZJagaQCnLVG2v06NE2ZswYK1CgQNr6li1buuAHQPJ55JFDQc//vrtkcOONf9f2bNkS69IBQIyDnWXLltmZZ56ZYb3azDaraweApE9q1vL+++H3UVKzgp4LLoh16QAgRsFOpUqVbPny5RnWK1+nTp06uSwGgERz3nl/Bz7Vq2fczkjNAHwb7PTs2dP69u1rc+fOdePq/P777/bqq6+6gQZ79eoVnVICiCuSmgEksxyPs3PHHXfYwYMHrU2bNrZz507XpFWoUCEX7PTp0yc6pQSQUEnNcuutZiNGZNzHG3f02Wf15Si25QOAiI6zs3fvXtectX37dqtfv74VL17ckhXj7AC5p6TmwoWz3oeRmgEk1Tg748aNczU6BQsWdEFO8+bNkzrQAXBkNCWFl9szcWLWSc0XXhjr0gFALoKdW265xSpUqGCXX365ffjhh0k5FxaA6NCUFF7gU61axu2aksLL7Vm0KB4lBJCKchzsaKbz119/3SUnX3LJJVa5cmW76aabbPbs2dEpIYCkpCkpskpq1pQUJDUDSMhgJ3/+/Hbeeee5HlgbNmywRx991FatWmWtWrWyunXrRqeUAHwxUvMtt2Q9UvOYMbEuHYBUkKu5sTxFixZ1U0d07NjRjjnmGBf0AEBm1HtLQc/u3eG3X389IzUDSJBgRwnKqtnp1KmTVa1a1R577DG74IILbOnSpZEvIQBfJzW/9174fUhqBhC3rueXXXaZTZo0ydXqKGfniiuusFNPPdWSGV3PgcSgkZrXrMl8u0ZqbtQoliUC4If7d44HFcyXL5+9+eabrvlK/w/27bff2oknnpi7EgNIeUpqFrWI164dPqnZc/DgoZofAIh4M5bXfOUFOtu2bbNnn33WjbfTsGHDnD4dAGSZ1NyvX/h9SGoGEPUE5c8++8x69Ojhup4PHz7cWrdubV9++WVunw4Awnr0UZKaAcQw2Fm3bp0NHTrU9by6+OKLXfvYnj17bMKECW59s2bNjrA4AHDkSc0XXRTr0gHwRbDTuXNnq1evni1evNj1vtJs5yNHjoxu6QAgjPPP/zvwqVo14/Z332WkZgC5SFD+6KOP7Oabb7ZevXq5mh0ASARe7y2N1FynTsbtJDUDyHbNzqxZs1wyctOmTa1Fixb25JNP2p9//hnVwt1zzz1uWorg5bjjjkvbvnv3bjdVRdmyZd1kpBdddJGtX78+qmUCkJjUe8ur7enbN+uk5ueei3XpACRFsHPKKafYmDFj3NxYN9xwg5sfq0qVKnbw4EGbOnWqC4Si4YQTTnCv6S0KuoInJX3//fftrbfespkzZ7qmtQsZgQxIeY89lnVSc8+efzdzbd0a69IBSPjeWMWKFbNrrrnGBR1LliyxW2+91SUnayb089WQHmGai6tSpUppS7ly5dx6DSD0/PPP24gRI1xPMNU4vfDCC25CUnqFAQhNap4wIfw+JUseCnr+8Y9Ylw5AUsyNpYTlhx56yNasWWP//e9/I1eqID/99JOrQapTp44brfnXX3916+fPn2/79u2zc845J21fNXHVqFHD5syZk+VzqgeZRl0MXgD4W5cufwc+Vapk3P7OOyQ1A351RMGORwMMdu3a1SZOnGiRpNygF1980SZPnmxPP/20rVy50s444wzXZKZu8AULFrRS6msapGLFim5bVoYMGeKGl/aW6hqjHkDK+O23Q0HPzz+H366kZi/wydmEOgB8G+xEi2ZT13g+DRo0cNNTfPjhh7Z582Y3XcWRGDhwoGsG85bV3hj1AFIKSc1AakjoYCeUanGOPfZYW758ucvf2bt3rwt+gqk3lrZlpVChQm5AxOAFQGojqRnwr6QKdrZv324rVqxwU1QoIblAgQI2bdq0tO3Lli1zOT3JPgs7kJUDBwM2Z8VGe2/Rb+6nHiNySGoG/CfHs57H0oABA9zIzTVr1nTdygcNGuTyg7p16+Zyba699lrr37+/lSlTxtXO9OnTxwU66iYP+NHkb9fave9/Z2u3/F39ULlkYRvUub51OLFyXMvm56RmUVLz2rXhk5pFSc3MhQwkpoQOdtTLS4HNxo0brXz58nb66ae7buX6vzz66KOWN29eN5igelgpr+epp56Kd7GBqAU6vcYtsNB6nHVbdrv1T3dvQsATRb//fuinkprr1s24vVGjv//PSM1AYskTCNDXQF3PVVOkZGXyd5CI1FR1+rDp6Wp0gum+WqlkYZt1e2vLl5e7bKz062f2+OOZbx8zxuy662JZIiC1bM3m/TupcnaAVPXVyr8yDXRE31i0XfshdkhqBpIDwQ6QBDZs2x3R/RBZJDUDiY1gB0gCFUoUjuh+iM1IzeFGwQgeqfmbb+JRQiD1EOwASaB57TKu11Vm2Thar+3aD4lDvbcU9KxYEX67kpoZqRmIPoIdIAko6VjdyyU04PEeazvJyYmpTp2/a3tuvjnrkZqffz7WpQP8j95Y9MZCEmGcHf/Ys8es8GFaHbdsMeOSBBz5/Tuhx9kBkJ4Cmrb1K7leV0pGVo6Omq6o0UnepGZRUvMFF4RPahYlNb/1VmzLB/gJNTvU7ABIIJUrm61bl/l2RmoG/sY4OwCQhEhqBiKPYAcAEjypuU+f8PuQ1AxkD81YNGMBSBIkNQPp0YyVAHMZzVmx0d5b9Jv7qccAEKmRmt99N+uRmi++ONalAxIXvbGigO7BAKJNvbe8enmN1Lx+ffrtb7/998zrGqm5QYPYlxFIFNTsRCHQ6TVuQYZJG9dt2e3WazsARJJ6b2WV1KzeWyQ1I5UR7ESQmqpUoxPuWuKt03aatABEO6m5d+/w+5DUjFREsBNBGugttEYnmEIcbdd+ABBNI0ceCnp27Qq//brr/q7t2bqVPEP4Gzk7EaQRbSO5HwAcKfXe8pquxo83u/DCzEZqzmOFqptVunyRW0eeIfyEmp0I0tD9kdwPAKKR1KylYsWM2/esLmu/DDv30PJ9YfIM4RsEOxGkOYr0bSizWYq0Xtu1HwDEO6l5/4GANRrwRdjta19paauGnWsdT6rs9gOSGcFOBGkyRlX7SmjA4z3WdiZtBJAIlD+4Kd9mq3n7B24pWGVT2P0K5M/jcnseeijmRQQigmAnwtS+/XT3JlapZPqmKj3Wetq/ASSK0PzBylfOdkFP9f4fhd3/9tv/TmrevDlGhQQigATlKFBA07Z+JfetSRcT5eio6YoaHQCJJLP8wbwFDrqgR7YvrmYbP8o4zXrp0od+Nm1q9vXX0S0ncKQIdqJEgc2pdcvGuxgAcNg8Qw16Gi4rR1/PjjnjT1s/KeCuad6IzMHmz/97pOYvvzRr0SLqxQZyjGYsAEhROc0z9Hpyffdd+Oc75RRGakZiItgBgBSWmzzD44//O/A5//ysR2p++OFolRzIvjyBAPF3dqeIBwC/0ojJR5JnqJGaixbNep9Nm8xKlTrysgI5vX9TswMASMsz7NKoqvuZ0w4VRYr8Xdszdmz4fZTUrNqeZs0iU2Yguwh2AAAR9c9//h34hKPeW15uz1dfxbp0SEUEOwCAqPGCnqVLw29X7y2SmhFtBDsAgKirX//vwKdz5/D7kNSMaCFBmQRlADjiBOXc2LnTrFixrPchqRmRuH8zqCAApDjNbH7v+9/Z2i1/Tx+hwQY1xk40p7hR7y3v67aSmq+91jIdqVlJzeT3ILdoxgKAFA90eo1bkC7QEY2qrPXaHgvXXJN1UvO8eSQ1I/cIdgAghZuuVKMTLr7w1mm79oslL+j59tvw20lqRk4R7ABAilKOTmiNTjDFEdqu/eLhhBOyn9Q8fHisS4dkQrADAClKyciR3C+aJk48FPTs2BF++7///Xdtz5YtsS4dEh3BDgCkKPW6iuR+seAlNWt5/vnw+6j3loIeZmCPvwMHAzZnxUZ7b9Fv7mesm0Q99MYCgBSl7uXqdaVk5HC3oDz/mxBU+yUiJTVrEQU3oZTI7K2fO9esefPYli/VTY5TL7+kq9kZMmSINWvWzEqUKGEVKlSwrl272rJly9Ltc/bZZ1uePHnSLTfeeGPcygwAyULj6OjGI6GxgvdY26M93k4kkNScWCYnSC+/pAh2Zs6caTfddJN9+eWXNnXqVNu3b5+1a9fOdoQ02vbs2dPWrl2btjz00ENxKzMAJBN9w366exNXgxNMj7U+1t/AI5nUfN554fchqTn1evkl1QjKf/zxh6vhURB05plnptXsNGrUyB577LFcPy8jKANIdfEYQTlWsjNS8+bNZiVLxqpE/jZnxUbrNubLw+73356n2Kl1yx7Ra2X3/p3QNTuh9GakTJn07cevvvqqlStXzk488UQbOHCg7dSZnYU9e/a4AxS8AEAqU2CjG0+XRlXdT78EOqFJzWPGhN+HpGZ/9/JLmmDn4MGD1q9fP2vZsqULajyXX365jRs3zmbMmOECnVdeecW6d+9+2FwgRYLeUr169Ri8AwBAvF13XdYjNXtJzVo0ajP80csvaZqxevXqZR999JHNmjXLqlWrlul+06dPtzZt2tjy5cutbt26mdbsaPGoZkcBD81YAJB6li41C/oOHdbBg+F7fCF8k2jT+6fa5p37LDOlihaw+Xe2PeIaRF81Y/Xu3dsmTZrkam+yCnSkxf/qIBXsZKZQoULuoAQvAIDUlJOk5hEjYl06f8oT49dL6GBHlU4KdMaPH+9qbGrXrn3Y31m0aJH7WblycvUgAADE3/vvZz1S8623MlLz4SjRPataHdm0c19MpyFJ6GBH3c6Vj/Paa6+5sXbWrVvnll27drntK1assMGDB9v8+fNt1apVNnHiRLvqqqtcT60GDRrEu/gAkDQSZaTbZExqPvXUWJcusW1IwATlhM7Z0QCB4bzwwgt29dVX2+rVq10y8rfffuvG3lHezQUXXGB33nlnjpqm6HoOIJUl0ki3ie5weTtKcG7WzFLanATsep7QwU6sEOwASPWRbkNvBN49PRkHFowFkpozp1rB04dNP+w0JLNub02CMgAg9Ua6Tcak5o4dw++TqknN+RJwGhKCHQBIUUoQDZ27KJhCHG2PZSJpMvrwQ5KaE30aEmY9B4AUlYiJpH5IahYlNV9/ffikZjnlFLM5c8zXOpxY2drWr5QQ05BQswMAKapc8UIR3Q9/69kz65Gav/ySkZpjiZodAEhV2U3FIWXniHgBz5IlZuFGRWne3J9JzZMTqJcfNTsAkKL+3LEnovshayedlP2k5kcfNV/08lsbkhOmHlpar+2xRLADACkqESdsTLWk5u3bw2/v3z95k5oPJGAvP4IdAEhRShZVs0JmrSZar+3aD9FRrNjftT3PPuuPkZq/SsBefgQ7AJCiEnE8lFSWk6Tmr7+2hLUhAXv5EewAQApLtPFQcIgX9CxeHH67pqTwAp9EmwehQgI2j9IbCwBSXCKNh4LwSc2ipObJk8MnNYtGar7lFkuY5tF1h5kuIpbNo8yNxdxYAIAkopGaixfPep/Nm81KlrS498aSQBTnXGNuLAAAfJ7U/MwzWSc1n3ZarEuXvnm04lHpB6TU43g0jxLsAACQpDQlRVZJzZqSIs//cnvmz7c4yCz1PbYIdgAASIGk5pNPjl1Ss9eMtW5r+h5X67cyqCAAIE40wNucFRvtvUW/uZ+xHPAN0RupuUOH8PtEc6TmRBxUkN5YAJDiEmkOI0TWRx8d+plZUrNGatYiGqk5En10cjKo4Kl1y1osULMDACks0eYwQvSTmkePDr+Pem+ptqdlyyN7LQYVBAAkjERsbkD03XBD1knNs2cfWVJzIg4qSLADACkqEecwQvInNTdPwDnXCHYAIEUlYnMDkj+pOV8CzrlGsAMAKSoRmxuQGEnNgYDZ9u3htyuh2avt2bo1OeZcozcWAKSoRJzDCImX1CwaqfnGGy0Db0qK0083+/zzxJ1zjZodAEhRidjcgORMap41K3xSs84ddS/v0qiq+xmvc4lgBwBSWKI1NyDxBRJopObsYtZzZj0HANe9PBGaG5Cc2rUzmzo18+0jR5r17h2/+zfBDsEOAAARkdlIzbJ8uVnduhaX+zfNWAAAIOIjNT/9dPptRYpY3BDsAACAiFPvLS/w0VKlisUNwQ4AAPA1gh0AAOBrBDsAAMDXCHYAAICvEewAAABfI9gBAAC+RrADAAB8jWAHAAD4mm+CnVGjRlmtWrWscOHC1qJFC/vqq6/iXSQAAJAAfBHsvPHGG9a/f38bNGiQLViwwBo2bGjt27e3DRs2xLtoAAAgznwR7IwYMcJ69uxp//znP61+/fo2evRoK1q0qI0dOzbeRQMAAHGW9MHO3r17bf78+XbOOeekrcubN697PGfOnLiWDQAAxF9+S3J//vmnHThwwCpWrJhuvR7/8MMPYX9nz549bgmeIh4AAPhT0tfs5MaQIUOsZMmSaUv16tXjXSQAABAlSV+zU65cOcuXL5+tX78+3Xo9rlSpUtjfGThwoEto9mzZssVq1KhBDQ8AAEnEu28HAgF/BzsFCxa0pk2b2rRp06xr165u3cGDB93j3r17h/2dQoUKuSX0YFHDAwBA8tm2bZtrqfFtsCOqpenRo4edfPLJ1rx5c3vsscdsx44drndWdlSpUsVWr15tJUqUsDx58kSsXAqiFEDpuY866qiIPa8fcaxyhuOVfRyr7ONYZR/HKjGOlWp0FOjoPp4VXwQ7l156qf3xxx92991327p166xRo0Y2efLkDEnLmVHvrWrVqkWtfPrj8mHIHo5VznC8so9jlX0cq+zjWMX/WGVVo+OrYEfUZJVZsxUAAEhdKdkbCwAApA6CnShSErSmsAhOhkZ4HKuc4XhlH8cq+zhW2cexSq5jlSdwuP5aAAAASYyaHQAA4GsEOwAAwNcIdgAAgK8R7AAAAF8j2DkCn332mXXu3NmN3KiRlydMmHDY3/n000+tSZMmLiv96KOPthdffNFSQU6PlY6T9gtdNGhkKkxU26xZMzeid4UKFdw0KMuWLTvs77311lt23HHHWeHChe2kk06yDz/80PwuN8dKn7nQ80rHzO+efvppa9CgQdrAbqeeeqp99NFHWf5OKp5TuTlWqXpOhTN06FD3/vv162eJdG4R7BwBTUnRsGFDGzVqVLb2X7lypZ177rnWqlUrW7RokTsZrrvuOpsyZYr5XU6PlUc3rrVr16YtuqH53cyZM+2mm26yL7/80qZOnWr79u2zdu3auWOYmdmzZ1u3bt3s2muvtYULF7qbvpZvv/3W/Cw3x0p0Aws+r3755RfzO40SrxvR/Pnz7euvv7bWrVtbly5dbOnSpWH3T9VzKjfHKlXPqVDz5s2zZ555xgWKWYnLuaWu5zhyOpTjx4/Pcp/bbrstcMIJJ6Rbd+mllwbat28fSCXZOVYzZsxw+23atCmQ6jZs2OCOxcyZMzPd55JLLgmce+656da1aNEicMMNNwRSSXaO1QsvvBAoWbJkTMuVqEqXLh147rnnwm7jnMr+seKcCgS2bdsWOOaYYwJTp04NnHXWWYG+fftmum88zi1qdmJozpw5ds4556Rb1759e7ce4Wmes8qVK1vbtm3tiy++sFS0ZcsW97NMmTKZ7sO5lf1jJdu3b7eaNWu6yQkP943djw4cOGCvv/66qwFTE004nFPZP1aS6ufUTTfd5FouQs+ZRDm3fDM3VjJQvkno5KR6rBlhd+3aZUWKFIlb2RKNApzRo0e7mez37Nljzz33nJ199tk2d+5cl/OUKg4ePOiaO1u2bGknnnhijs+tVMhxyumxqlevno0dO9ZVtSs4Gj58uJ122mnu5hTNCYETwZIlS9wNe/fu3Va8eHEbP3681a9fP+y+qX5O5eRYpfI5JQoGFyxY4JqxsiMe5xbBDhKSLh5aPLpwrFixwh599FF75ZVXLJW+Lakde9asWfEuim+OlW5gwd/QdW4df/zxLtdg8ODB5mf6TClfUDfkt99+23r06OHynjK7iaeynByrVD6nVq9ebX379nU5c4mclE2wE0OVKlWy9evXp1unx0pso1bn8Jo3b55SN/3evXvbpEmTXE+2w307zOzc0vpUkJNjFapAgQLWuHFjW758ufldwYIFXS9Qadq0qfsm/vjjj7ubcqhUP6dycqxS+ZyaP3++bdiwIV2Nu5r+9Fl88sknXc18vnz54n5ukbMTQ4r8p02blm6douGs2oHxN33LUvOW3ymHWzdvVZtPnz7dateufdjfSdVzKzfHKpQuzGqySIVzK1zTn25G4aTqOZWbY5XK51SbNm3ce9X12VuUfnDFFVe4/4cGOnE7t6KW+pwi2ecLFy50iw7liBEj3P9/+eUXt/2OO+4IXHnllWn7//zzz4GiRYsG/v3vfwe+//77wKhRowL58uULTJ48OeB3OT1Wjz76aGDChAmBn376KbBkyRKX2Z83b97AJ598EvC7Xr16uZ4dn376aWDt2rVpy86dO9P20bHSMfN88cUXgfz58weGDx/uzq1BgwYFChQo4I6dn+XmWN17772BKVOmBFasWBGYP39+4LLLLgsULlw4sHTp0oCf6Riol9rKlSsDixcvdo/z5MkT+Pjjj912zqncH6tUPacyE9obKxHOLYKdI+B1jw5devTo4bbrp/7oob/TqFGjQMGCBQN16tRxXRZTQU6P1bBhwwJ169Z1F4wyZcoEzj777MD06dMDqSDccdISfK7oWHnHzvPmm28Gjj32WHduaYiDDz74IOB3uTlW/fr1C9SoUcMdp4oVKwY6deoUWLBgQcDvrrnmmkDNmjXd+y5fvnygTZs2aTdv4ZzK/bFK1XMqu8FOIpxbefRP9OqNAAAA4oucHQAA4GsEOwAAwNcIdgAAgK8R7AAAAF8j2AEAAL5GsAMAAHyNYAcAAPgawQ4AXzv77LPdbOhH6p577rFGjRpFpEwAYotgB0DUXH311ZYnTx63eBMr3nfffbZ//35LNgMGDEg3n4/eW9euXeNaJgDZw6znAKKqQ4cO9sILL7hJFD/88EO76aab3KzQAwcOtGSgQeY1sWPx4sXdAiD5ULMDIKoKFSpklSpVspo1a1qvXr3snHPOsYkTJ9qmTZvsqquustKlS1vRokWtY8eO9tNPP6X93osvvmilSpWyCRMm2DHHHGOFCxe29u3b2+rVq7OsXVGTlZquMvPKK6+4WZlLlCjhynX55Zfbhg0b0rZ/+umnribqo48+sqZNm7ryz5o1K10zlv7/0ksv2XvvvZdWc6Xfa926tZuFPdgff/zharVCZ3kGEDsEOwBiqkiRIrZ3714XqHz99dcu8JkzZ46rQenUqZPt27cvbd+dO3faAw88YC+//LJ98cUXtnnzZrvsssuO6PX1/IMHD7ZvvvnGBVKrVq1yZQl1xx132NChQ+3777+3Bg0aZGjSuuSSS1yt1dq1a91y2mmn2XXXXWevvfaaq8XyjBs3zqpWreoCIQDxQTMWgJhQMKPajSlTprhaHAUaCmAUJMirr75q1atXd+svvvjitMDkySeftBYtWrjHqk05/vjj7auvvrLmzZvnqhzXXHNN2v/r1KljTzzxhDVr1sy2b9+erplKuUVt27YN+xzaT0GbghrVDnkuvPBCV7OjGh8FQ14NlZe7BCA+qNkBEFWTJk1ywYGaoRTkXHrppe7mnz9//rQgRsqWLWv16tVzNSke7aNAxHPccce5pq3gfXJq/vz51rlzZ6tRo4ZryjrrrLPc+l9//TXdfmrqyim9xyuvvNLGjh3rHi9YsMC+/fbbsDVHAGKHYAdAVLVq1coWLVrk8nF27drlamciVcuRN29eV2MULLgZLNSOHTtc3s9RRx3lapLmzZtn48ePd9vUtBasWLFiuSqTmrKmTp1qa9ascYnZar5SvhKA+CHYARBVChrU5Vw1KaqpETVFqfv53Llz0/bbuHGjLVu2zOrXr5+2Tvsor8ej7crb0e9L+fLlXb5MMAVWmfnhhx/c6ygX54wzznA1RcHJyTmhpGP10gp10kknuVqhMWPGuPyd4GYzAPFBsAMg5tS7qkuXLtazZ0/X00nJwt27d3eJvFrvURf1Pn36uKBIzU9qDjrllFPS8nVUa6JgSAnMqjkaNGiQazbKjAIuBSkjR460n3/+2SVHK1k5N2rVqmWLFy92Adiff/6ZrkZJtTsKqFTrdMEFF+Tq+QFEDsEOgLhQE4+6dp933nl26qmnusBA4/AowPGoS/rtt9/uuoe3bNnS5f688cYbadvVJHXXXXfZbbfd5nJ7tm3b5rqzZ0Y1QUoYfuutt1wNkgKS4cOH56r8CtSUY6RaHD2vkq093bp1c7VY+qk8HgDxlScQ2uANAAlAQYnGzFGzVbJRd/a6deu6nKAmTZrEuzhAyqPrOQBEiJqylBN05513uuY2Ah0gMdCMBQARoqasypUruxqd0aNHx7s4AP6HZiwAAOBr1OwAAABfI9gBAAC+RrADAAB8jWAHAAD4GsEOAADwNYIdAADgawQ7AADA1wh2AACArxHsAAAA87P/B6AlwIr2K0DqAAAAAElFTkSuQmCC",
      "text/plain": [
       "<Figure size 640x480 with 1 Axes>"
      ]
     },
     "metadata": {},
     "output_type": "display_data"
    }
   ],
   "source": [
    "x = prices['popularity']\n",
    "y = average_price\n",
    "\n",
    "plt.scatter(x,y)\n",
    "\n",
    "plt.xlabel(\"Popularity\")\n",
    "plt.ylabel(\"Average Price of the Set\")\n",
    "plt.title(\"Popularity Score vs Average Price of Each Set\")\n",
    "\n",
    "m, b = np.polyfit(x,y, 1)\n",
    "\n",
    "plt.plot(x, m*x + b, color='blue')\n",
    "\n",
    "plt.show()"
>>>>>>> 3ec6d88068e896ecc83e2f7788e35ecd656b2b29
   ]
  }
 ],
 "metadata": {
  "kernelspec": {
   "display_name": "Python 3",
   "language": "python",
   "name": "python3"
  },
  "language_info": {
   "codemirror_mode": {
    "name": "ipython",
    "version": 3
   },
   "file_extension": ".py",
   "mimetype": "text/x-python",
   "name": "python",
   "nbconvert_exporter": "python",
   "pygments_lexer": "ipython3",
   "version": "3.11.5"
  }
 },
 "nbformat": 4,
 "nbformat_minor": 2
}
